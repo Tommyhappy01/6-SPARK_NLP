{
  "nbformat": 4,
  "nbformat_minor": 0,
  "metadata": {
    "language_info": {
      "mimetype": "text/x-python",
      "name": "python",
      "pygments_lexer": "ipython3",
      "codemirror_mode": {
        "name": "ipython",
        "version": 3
      },
      "version": "3.6.8",
      "nbconvert_exporter": "python",
      "file_extension": ".py"
    },
    "name": "10.Clinical_Relation_Extraction",
    "notebookId": 781554605447210,
    "kernelspec": {
      "display_name": "johnsnow",
      "language": "python",
      "name": "johnsnow"
    },
    "toc": {
      "title_sidebar": "Contents",
      "nav_menu": {},
      "sideBar": true,
      "number_sections": true,
      "skip_h1_title": false,
      "base_numbering": 1,
      "toc_cell": false,
      "toc_position": {},
      "toc_section_display": true,
      "toc_window_display": false,
      "title_cell": "Table of Contents"
    },
    "varInspector": {
      "cols": {
        "lenName": 16,
        "lenType": 16,
        "lenVar": 40
      },
      "kernels_config": {
        "python": {
          "delete_cmd_postfix": "",
          "delete_cmd_prefix": "del ",
          "library": "var_list.py",
          "varRefreshCmd": "print(var_dic_list())"
        },
        "r": {
          "delete_cmd_postfix": ") ",
          "delete_cmd_prefix": "rm(",
          "library": "var_list.r",
          "varRefreshCmd": "cat(var_dic_list()) "
        }
      },
      "types_to_exclude": [
        "module",
        "function",
        "builtin_function_or_method",
        "instance",
        "_Feature"
      ],
      "window_display": false
    },
    "colab": {
      "name": "10.Clinical_Relation_Extraction.ipynb",
      "provenance": []
    }
  },
  "cells": [
    {
      "cell_type": "markdown",
      "metadata": {
        "id": "pFGiT_o1FJNH",
        "colab_type": "text"
      },
      "source": [
        "![JohnSnowLabs](https://nlp.johnsnowlabs.com/assets/images/logo.png)"
      ]
    },
    {
      "cell_type": "markdown",
      "metadata": {
        "id": "OdkGRLgcFN1o",
        "colab_type": "text"
      },
      "source": [
        "# Clinical Relation Extraction Model"
      ]
    },
    {
      "cell_type": "markdown",
      "metadata": {
        "id": "dhScin3AEqYF",
        "colab_type": "text"
      },
      "source": [
        "## Posology Relation Extraction\n",
        "\n",
        "This is a demonstration of using SparkNLP for extracting posology relations. The following relations are supported:\n",
        "\n",
        "DRUG-DOSAGE\n",
        "DRUG-FREQUENCY\n",
        "DRUG-ADE (Adversed Drug Events)\n",
        "DRUG-FORM\n",
        "DRUG-ROUTE\n",
        "DRUG-DURATION\n",
        "DRUG-REASON\n",
        "DRUG=STRENGTH\n",
        "\n",
        "The model has been validated agains the posology dataset described in (Magge, Scotch, & Gonzalez-Hernandez, 2018).\n",
        "\n",
        "| Relation | Recall | Precision | F1 | F1 (Magge, Scotch, & Gonzalez-Hernandez, 2018) |\n",
        "| --- | --- | --- | --- | --- |\n",
        "| DRUG-ADE | 0.66 | 1.00 | **0.80** | 0.76 |\n",
        "| DRUG-DOSAGE | 0.89 | 1.00 | **0.94** | 0.91 |\n",
        "| DRUG-DURATION | 0.75 | 1.00 | **0.85** | 0.92 |\n",
        "| DRUG-FORM | 0.88 | 1.00 | **0.94** | 0.95* |\n",
        "| DRUG-FREQUENCY | 0.79 | 1.00 | **0.88** | 0.90 |\n",
        "| DRUG-REASON | 0.60 | 1.00 | **0.75** | 0.70 |\n",
        "| DRUG-ROUTE | 0.79 | 1.00 | **0.88** | 0.95* |\n",
        "| DRUG-STRENGTH | 0.95 | 1.00 | **0.98** | 0.97 |\n",
        "\n",
        "\n",
        "*Magge, Scotch, Gonzalez-Hernandez (2018) collapsed DRUG-FORM and DRUG-ROUTE into a single relation."
      ]
    },
    {
      "cell_type": "markdown",
      "metadata": {
        "id": "m8r7gVa-Egnd",
        "colab_type": "text"
      },
      "source": [
        ""
      ]
    },
    {
      "cell_type": "code",
      "metadata": {
        "ExecuteTime": {
          "end_time": "2020-07-31T14:18:58.500653Z",
          "start_time": "2020-07-31T14:18:58.219349Z"
        },
        "run_control": {
          "marked": true
        },
        "id": "zmWTG-whEMrU",
        "colab_type": "code",
        "colab": {},
        "outputId": "9ba512ab-796d-46c6-b674-7ba63d94899d"
      },
      "source": [
        "import os\n",
        "import re\n",
        "import pyspark\n",
        "import sparknlp\n",
        "import sparknlp_jsl\n",
        "import functools \n",
        "import json\n",
        "\n",
        "import numpy as np\n",
        "from scipy import spatial\n",
        "import pyspark.sql.functions as F\n",
        "import pyspark.sql.types as T\n",
        "from pyspark.sql import SparkSession\n",
        "from pyspark.ml import Pipeline\n",
        "from sparknlp_jsl.annotator import *\n",
        "from sparknlp.annotator import *\n",
        "from sparknlp.base import *\n"
      ],
      "execution_count": null,
      "outputs": [
        {
          "output_type": "display_data",
          "data": {
            "text/html": [
              "<style scoped>\n",
              "  .ansiout {\n",
              "    display: block;\n",
              "    unicode-bidi: embed;\n",
              "    white-space: pre-wrap;\n",
              "    word-wrap: break-word;\n",
              "    word-break: break-all;\n",
              "    font-family: \"Source Code Pro\", \"Menlo\", monospace;;\n",
              "    font-size: 13px;\n",
              "    color: #555;\n",
              "    margin-left: 4px;\n",
              "    line-height: 19px;\n",
              "  }\n",
              "</style>\n",
              "<div class=\"ansiout\"></div>"
            ]
          },
          "metadata": {
            "tags": []
          }
        }
      ]
    },
    {
      "cell_type": "markdown",
      "metadata": {
        "id": "o8PsjbmpEMrb",
        "colab_type": "text"
      },
      "source": [
        "**Build pipeline using SparNLP pretrained models and the relation extration model optimized for posology**.\n",
        " \n",
        " The precision of the RE model is controlled by \"setMaxSyntacticDistance(4)\", which sets the maximum syntactic distance between named entities to 4. A larger value will improve recall at the expense at lower precision. A value of 4 leads to literally perfect precision (i.e. the model doesn't produce any false positives) and reasonably good recall."
      ]
    },
    {
      "cell_type": "code",
      "metadata": {
        "ExecuteTime": {
          "end_time": "2020-07-31T14:19:37.196164Z",
          "start_time": "2020-07-31T14:19:09.356386Z"
        },
        "run_control": {
          "marked": false
        },
        "id": "4fNDGSBaEMrb",
        "colab_type": "code",
        "colab": {},
        "outputId": "e0cfe058-6d65-4ca4-e5ab-b1c6b286e719"
      },
      "source": [
        "documenter = DocumentAssembler()\\\n",
        "    .setInputCol(\"text\")\\\n",
        "    .setOutputCol(\"document\")\n",
        "\n",
        "sentencer = SentenceDetector()\\\n",
        "    .setInputCols([\"document\"])\\\n",
        "    .setOutputCol(\"sentence\")\n",
        "\n",
        "tokenizer = sparknlp.annotators.Tokenizer()\\\n",
        "    .setInputCols([\"sentence\"])\\\n",
        "    .setOutputCol(\"tokens\")\n",
        "\n",
        "words_embedder = WordEmbeddingsModel()\\\n",
        "    .pretrained(\"embeddings_clinical\", \"en\", \"clinical/models\")\\\n",
        "    .setInputCols([\"sentence\", \"tokens\"])\\\n",
        "    .setOutputCol(\"embeddings\")\n",
        "\n",
        "pos_tagger = PerceptronModel()\\\n",
        "    .pretrained(\"pos_clinical\", \"en\", \"clinical/models\") \\\n",
        "    .setInputCols([\"sentence\", \"tokens\"])\\\n",
        "    .setOutputCol(\"pos_tags\")\n",
        "\n",
        "ner_tagger = NerDLModel()\\\n",
        "    .pretrained(\"ner_posology\", \"en\", \"clinical/models\")\\\n",
        "    .setInputCols(\"sentence\", \"tokens\", \"embeddings\")\\\n",
        "    .setOutputCol(\"ner_tags\")    \n",
        "\n",
        "ner_chunker = NerConverter()\\\n",
        "    .setInputCols([\"sentence\", \"tokens\", \"ner_tags\"])\\\n",
        "    .setOutputCol(\"ner_chunks\")\n",
        "\n",
        "dependency_parser = DependencyParserModel()\\\n",
        "    .pretrained(\"dependency_conllu\", \"en\")\\\n",
        "    .setInputCols([\"sentence\", \"pos_tags\", \"tokens\"])\\\n",
        "    .setOutputCol(\"dependencies\")\n",
        "\n",
        "reModel = RelationExtractionModel()\\\n",
        "    .pretrained(\"posology_re\", \"en\")\\\n",
        "    .setInputCols([\"embeddings\", \"pos_tags\", \"ner_chunks\", \"dependencies\"])\\\n",
        "    .setOutputCol(\"relations\")\\\n",
        "    .setMaxSyntacticDistance(4)\n",
        "\n",
        "pipeline = Pipeline(stages=[\n",
        "    documenter,\n",
        "    sentencer,\n",
        "    tokenizer, \n",
        "    words_embedder, \n",
        "    pos_tagger, \n",
        "    ner_tagger,\n",
        "    ner_chunker,\n",
        "    dependency_parser,\n",
        "    reModel\n",
        "])"
      ],
      "execution_count": null,
      "outputs": [
        {
          "output_type": "display_data",
          "data": {
            "text/html": [
              "<style scoped>\n",
              "  .ansiout {\n",
              "    display: block;\n",
              "    unicode-bidi: embed;\n",
              "    white-space: pre-wrap;\n",
              "    word-wrap: break-word;\n",
              "    word-break: break-all;\n",
              "    font-family: \"Source Code Pro\", \"Menlo\", monospace;;\n",
              "    font-size: 13px;\n",
              "    color: #555;\n",
              "    margin-left: 4px;\n",
              "    line-height: 19px;\n",
              "  }\n",
              "</style>\n",
              "<div class=\"ansiout\">embeddings_clinical download started this may take some time.\n",
              "Approximate size to download 1.6 GB\n",
              "\r[ | ]\r[OK!]\n",
              "pos_clinical download started this may take some time.\n",
              "Approximate size to download 1.7 MB\n",
              "\r[ | ]\r[OK!]\n",
              "ner_posology download started this may take some time.\n",
              "Approximate size to download 13.7 MB\n",
              "\r[ | ]\r[OK!]\n",
              "dependency_conllu download started this may take some time.\n",
              "Approximate size to download 16.6 MB\n",
              "\r[ | ]\r[OK!]\n",
              "</div>"
            ]
          },
          "metadata": {
            "tags": []
          }
        }
      ]
    },
    {
      "cell_type": "markdown",
      "metadata": {
        "id": "fIEDm1zZEMre",
        "colab_type": "text"
      },
      "source": [
        "**Create empty dataframe**"
      ]
    },
    {
      "cell_type": "code",
      "metadata": {
        "ExecuteTime": {
          "end_time": "2020-07-17T10:09:32.462913Z",
          "start_time": "2020-07-17T10:09:32.410488Z"
        },
        "id": "Ec0SDYGmEMre",
        "colab_type": "code",
        "colab": {},
        "outputId": "a80e9990-a18a-4ff3-82b5-30f51818997a"
      },
      "source": [
        "schema = T.StructType([T.StructField(\"text\", T.StringType(), True)])\n",
        "empty_df = spark.createDataFrame([],schema)"
      ],
      "execution_count": null,
      "outputs": [
        {
          "output_type": "display_data",
          "data": {
            "text/html": [
              "<style scoped>\n",
              "  .ansiout {\n",
              "    display: block;\n",
              "    unicode-bidi: embed;\n",
              "    white-space: pre-wrap;\n",
              "    word-wrap: break-word;\n",
              "    word-break: break-all;\n",
              "    font-family: \"Source Code Pro\", \"Menlo\", monospace;;\n",
              "    font-size: 13px;\n",
              "    color: #555;\n",
              "    margin-left: 4px;\n",
              "    line-height: 19px;\n",
              "  }\n",
              "</style>\n",
              "<div class=\"ansiout\"></div>"
            ]
          },
          "metadata": {
            "tags": []
          }
        }
      ]
    },
    {
      "cell_type": "markdown",
      "metadata": {
        "id": "9TA-2cxfEMrh",
        "colab_type": "text"
      },
      "source": [
        "**Create a light pipeline for annotating free text**"
      ]
    },
    {
      "cell_type": "code",
      "metadata": {
        "ExecuteTime": {
          "end_time": "2020-07-17T10:24:30.899532Z",
          "start_time": "2020-07-17T10:09:32.894746Z"
        },
        "id": "gWz4JaO3EMri",
        "colab_type": "code",
        "colab": {},
        "outputId": "9e0ed610-62a3-453c-a367-8e0de55148b2"
      },
      "source": [
        "model = pipeline.fit(empty_df)\n",
        "lmodel = sparknlp.base.LightPipeline(model)"
      ],
      "execution_count": null,
      "outputs": [
        {
          "output_type": "display_data",
          "data": {
            "text/html": [
              "<style scoped>\n",
              "  .ansiout {\n",
              "    display: block;\n",
              "    unicode-bidi: embed;\n",
              "    white-space: pre-wrap;\n",
              "    word-wrap: break-word;\n",
              "    word-break: break-all;\n",
              "    font-family: \"Source Code Pro\", \"Menlo\", monospace;;\n",
              "    font-size: 13px;\n",
              "    color: #555;\n",
              "    margin-left: 4px;\n",
              "    line-height: 19px;\n",
              "  }\n",
              "</style>\n",
              "<div class=\"ansiout\"></div>"
            ]
          },
          "metadata": {
            "tags": []
          }
        }
      ]
    },
    {
      "cell_type": "markdown",
      "metadata": {
        "id": "EATlttRVEMrl",
        "colab_type": "text"
      },
      "source": [
        "**Sample free text**"
      ]
    },
    {
      "cell_type": "code",
      "metadata": {
        "ExecuteTime": {
          "end_time": "2020-07-17T11:18:31.409708Z",
          "start_time": "2020-07-17T11:18:31.336534Z"
        },
        "id": "gTdSwA4HEMrl",
        "colab_type": "code",
        "colab": {},
        "outputId": "5fa0f4f1-0df0-42a2-df8d-b7426f3ca620"
      },
      "source": [
        "text = \"\"\"\n",
        "The patient was prescribed 1 unit of Advil for 5 days after meals. The patient was also \n",
        "given 1 unit of Metformin daily.\n",
        "He was seen by the endocrinology service and she was discharged on 40 units of insulin glargine at night , \n",
        "12 units of insulin lispro with meals , and metformin 1000 mg two times a day.\n",
        "\"\"\"\n",
        "results = lmodel.fullAnnotate(text)"
      ],
      "execution_count": null,
      "outputs": [
        {
          "output_type": "display_data",
          "data": {
            "text/html": [
              "<style scoped>\n",
              "  .ansiout {\n",
              "    display: block;\n",
              "    unicode-bidi: embed;\n",
              "    white-space: pre-wrap;\n",
              "    word-wrap: break-word;\n",
              "    word-break: break-all;\n",
              "    font-family: \"Source Code Pro\", \"Menlo\", monospace;;\n",
              "    font-size: 13px;\n",
              "    color: #555;\n",
              "    margin-left: 4px;\n",
              "    line-height: 19px;\n",
              "  }\n",
              "</style>\n",
              "<div class=\"ansiout\"></div>"
            ]
          },
          "metadata": {
            "tags": []
          }
        }
      ]
    },
    {
      "cell_type": "markdown",
      "metadata": {
        "id": "ZmdjtscfEMro",
        "colab_type": "text"
      },
      "source": [
        "**Show extracted relations**"
      ]
    },
    {
      "cell_type": "code",
      "metadata": {
        "ExecuteTime": {
          "end_time": "2020-07-17T10:29:26.101405Z",
          "start_time": "2020-07-17T10:29:26.012555Z"
        },
        "id": "HeBrfZtvEMro",
        "colab_type": "code",
        "colab": {},
        "outputId": "614a7c93-d32d-4815-c588-ca37a826b507"
      },
      "source": [
        "for rel in results[0][\"relations\"]:\n",
        "    print(\"{}({}={} - {}={})\".format(\n",
        "        rel.result, \n",
        "        rel.metadata['entity1'], \n",
        "        rel.metadata['chunk1'], \n",
        "        rel.metadata['entity2'],\n",
        "        rel.metadata['chunk2']\n",
        "    ))"
      ],
      "execution_count": null,
      "outputs": [
        {
          "output_type": "display_data",
          "data": {
            "text/html": [
              "<style scoped>\n",
              "  .ansiout {\n",
              "    display: block;\n",
              "    unicode-bidi: embed;\n",
              "    white-space: pre-wrap;\n",
              "    word-wrap: break-word;\n",
              "    word-break: break-all;\n",
              "    font-family: \"Source Code Pro\", \"Menlo\", monospace;;\n",
              "    font-size: 13px;\n",
              "    color: #555;\n",
              "    margin-left: 4px;\n",
              "    line-height: 19px;\n",
              "  }\n",
              "</style>\n",
              "<div class=\"ansiout\">DOSAGE-DRUG(DOSAGE=1 unit - DRUG=Advil)\n",
              "DRUG-DURATION(DRUG=Advil - DURATION=for 5 days)\n",
              "DOSAGE-DRUG(DOSAGE=1 unit - DRUG=Metformin)\n",
              "DRUG-FREQUENCY(DRUG=Metformin - FREQUENCY=daily)\n",
              "DOSAGE-DRUG(DOSAGE=40 units - DRUG=insulin glargine)\n",
              "DRUG-FREQUENCY(DRUG=insulin glargine - FREQUENCY=at night)\n",
              "DOSAGE-DRUG(DOSAGE=12 units - DRUG=insulin lispro)\n",
              "DRUG-FREQUENCY(DRUG=insulin lispro - FREQUENCY=with meals)\n",
              "DRUG-STRENGTH(DRUG=metformin - STRENGTH=1000 mg)\n",
              "DRUG-FREQUENCY(DRUG=metformin - FREQUENCY=two times a day)\n",
              "</div>"
            ]
          },
          "metadata": {
            "tags": []
          }
        }
      ]
    },
    {
      "cell_type": "code",
      "metadata": {
        "id": "LUFt4k1mEMrs",
        "colab_type": "code",
        "colab": {},
        "outputId": "2cbe58fb-0fe3-4708-9846-a98cd3b3c782"
      },
      "source": [
        "        \n",
        "rel_pairs=[]\n",
        "for rel in results[0]['relations']:\n",
        "    rel_pairs.append((\n",
        "        rel.result, \n",
        "        rel.metadata['entity1'], \n",
        "        rel.metadata['entity1_begin'],\n",
        "        rel.metadata['entity1_end'],\n",
        "        rel.metadata['chunk1'], \n",
        "        rel.metadata['entity2'],\n",
        "        rel.metadata['entity2_begin'],\n",
        "        rel.metadata['entity2_end'],\n",
        "        rel.metadata['chunk2'], \n",
        "        rel.metadata['confidence']\n",
        "    ))\n",
        "\n",
        "import pandas as pd\n",
        "\n",
        "rel_df = pd.DataFrame(rel_pairs, columns=['relation','entity1','entity1_begin','entity1_end','chunk1','entity2','entity2_begin','entity2_end','chunk2', 'confidence'])\n",
        "\n",
        "rel_df "
      ],
      "execution_count": null,
      "outputs": [
        {
          "output_type": "display_data",
          "data": {
            "text/html": [
              "<div>\n",
              "<style scoped>\n",
              "    .dataframe tbody tr th:only-of-type {\n",
              "        vertical-align: middle;\n",
              "    }\n",
              "\n",
              "    .dataframe tbody tr th {\n",
              "        vertical-align: top;\n",
              "    }\n",
              "\n",
              "    .dataframe thead th {\n",
              "        text-align: right;\n",
              "    }\n",
              "</style>\n",
              "<table border=\"1\" class=\"dataframe\">\n",
              "  <thead>\n",
              "    <tr style=\"text-align: right;\">\n",
              "      <th></th>\n",
              "      <th>relation</th>\n",
              "      <th>entity1</th>\n",
              "      <th>entity1_begin</th>\n",
              "      <th>entity1_end</th>\n",
              "      <th>chunk1</th>\n",
              "      <th>entity2</th>\n",
              "      <th>entity2_begin</th>\n",
              "      <th>entity2_end</th>\n",
              "      <th>chunk2</th>\n",
              "      <th>confidence</th>\n",
              "    </tr>\n",
              "  </thead>\n",
              "  <tbody>\n",
              "    <tr>\n",
              "      <th>0</th>\n",
              "      <td>DOSAGE-DRUG</td>\n",
              "      <td>DOSAGE</td>\n",
              "      <td>28</td>\n",
              "      <td>33</td>\n",
              "      <td>1 unit</td>\n",
              "      <td>DRUG</td>\n",
              "      <td>38</td>\n",
              "      <td>42</td>\n",
              "      <td>Advil</td>\n",
              "      <td>1.0</td>\n",
              "    </tr>\n",
              "    <tr>\n",
              "      <th>1</th>\n",
              "      <td>DRUG-DURATION</td>\n",
              "      <td>DRUG</td>\n",
              "      <td>38</td>\n",
              "      <td>42</td>\n",
              "      <td>Advil</td>\n",
              "      <td>DURATION</td>\n",
              "      <td>44</td>\n",
              "      <td>53</td>\n",
              "      <td>for 5 days</td>\n",
              "      <td>1.0</td>\n",
              "    </tr>\n",
              "    <tr>\n",
              "      <th>2</th>\n",
              "      <td>DOSAGE-DRUG</td>\n",
              "      <td>DOSAGE</td>\n",
              "      <td>96</td>\n",
              "      <td>101</td>\n",
              "      <td>1 unit</td>\n",
              "      <td>DRUG</td>\n",
              "      <td>106</td>\n",
              "      <td>114</td>\n",
              "      <td>Metformin</td>\n",
              "      <td>1.0</td>\n",
              "    </tr>\n",
              "    <tr>\n",
              "      <th>3</th>\n",
              "      <td>DRUG-FREQUENCY</td>\n",
              "      <td>DRUG</td>\n",
              "      <td>106</td>\n",
              "      <td>114</td>\n",
              "      <td>Metformin</td>\n",
              "      <td>FREQUENCY</td>\n",
              "      <td>116</td>\n",
              "      <td>120</td>\n",
              "      <td>daily</td>\n",
              "      <td>1.0</td>\n",
              "    </tr>\n",
              "    <tr>\n",
              "      <th>4</th>\n",
              "      <td>DOSAGE-DRUG</td>\n",
              "      <td>DOSAGE</td>\n",
              "      <td>190</td>\n",
              "      <td>197</td>\n",
              "      <td>40 units</td>\n",
              "      <td>DRUG</td>\n",
              "      <td>202</td>\n",
              "      <td>217</td>\n",
              "      <td>insulin glargine</td>\n",
              "      <td>1.0</td>\n",
              "    </tr>\n",
              "    <tr>\n",
              "      <th>5</th>\n",
              "      <td>DRUG-FREQUENCY</td>\n",
              "      <td>DRUG</td>\n",
              "      <td>202</td>\n",
              "      <td>217</td>\n",
              "      <td>insulin glargine</td>\n",
              "      <td>FREQUENCY</td>\n",
              "      <td>219</td>\n",
              "      <td>226</td>\n",
              "      <td>at night</td>\n",
              "      <td>1.0</td>\n",
              "    </tr>\n",
              "    <tr>\n",
              "      <th>6</th>\n",
              "      <td>DOSAGE-DRUG</td>\n",
              "      <td>DOSAGE</td>\n",
              "      <td>231</td>\n",
              "      <td>238</td>\n",
              "      <td>12 units</td>\n",
              "      <td>DRUG</td>\n",
              "      <td>243</td>\n",
              "      <td>256</td>\n",
              "      <td>insulin lispro</td>\n",
              "      <td>1.0</td>\n",
              "    </tr>\n",
              "    <tr>\n",
              "      <th>7</th>\n",
              "      <td>DRUG-FREQUENCY</td>\n",
              "      <td>DRUG</td>\n",
              "      <td>243</td>\n",
              "      <td>256</td>\n",
              "      <td>insulin lispro</td>\n",
              "      <td>FREQUENCY</td>\n",
              "      <td>258</td>\n",
              "      <td>267</td>\n",
              "      <td>with meals</td>\n",
              "      <td>1.0</td>\n",
              "    </tr>\n",
              "    <tr>\n",
              "      <th>8</th>\n",
              "      <td>DRUG-STRENGTH</td>\n",
              "      <td>DRUG</td>\n",
              "      <td>275</td>\n",
              "      <td>283</td>\n",
              "      <td>metformin</td>\n",
              "      <td>STRENGTH</td>\n",
              "      <td>285</td>\n",
              "      <td>291</td>\n",
              "      <td>1000 mg</td>\n",
              "      <td>1.0</td>\n",
              "    </tr>\n",
              "    <tr>\n",
              "      <th>9</th>\n",
              "      <td>DRUG-FREQUENCY</td>\n",
              "      <td>DRUG</td>\n",
              "      <td>275</td>\n",
              "      <td>283</td>\n",
              "      <td>metformin</td>\n",
              "      <td>FREQUENCY</td>\n",
              "      <td>293</td>\n",
              "      <td>307</td>\n",
              "      <td>two times a day</td>\n",
              "      <td>1.0</td>\n",
              "    </tr>\n",
              "  </tbody>\n",
              "</table>\n",
              "</div>"
            ]
          },
          "metadata": {
            "tags": []
          }
        }
      ]
    },
    {
      "cell_type": "code",
      "metadata": {
        "id": "bzKeB-JUEMru",
        "colab_type": "code",
        "colab": {},
        "outputId": "ff62993d-7eb7-43aa-c9bb-c8675a72b0e7"
      },
      "source": [
        "text =\"\"\"A 28-year-old female with a history of gestational diabetes mellitus diagnosed eight years prior to presentation and subsequent type two diabetes mellitus ( T2DM ), \n",
        "one prior episode of HTG-induced pancreatitis three years prior to presentation,  associated with an acute hepatitis , and obesity with a body mass index ( BMI ) of 33.5 kg/m2 , presented with a one-week history of polyuria , polydipsia , poor appetite , and vomiting . Two weeks prior to presentation , she was treated with a five-day course of amoxicillin for a respiratory tract infection . She was on metformin , glipizide , and dapagliflozin for T2DM and atorvastatin and gemfibrozil for HTG . She had been on dapagliflozin for six months at the time of presentation. Physical examination on presentation was significant for dry oral mucosa ; significantly , her abdominal examination was benign with no tenderness , guarding , or rigidity . Pertinent laboratory findings on admission were : serum glucose 111 mg/dl , bicarbonate 18 mmol/l , anion gap 20 , creatinine 0.4 mg/dL , triglycerides 508 mg/dL , total cholesterol 122 mg/dL , glycated hemoglobin ( HbA1c ) 10% , and venous pH 7.27 . Serum lipase was normal at 43 U/L . Serum acetone levels could not be assessed as blood samples kept hemolyzing due to significant lipemia . The patient was initially admitted for starvation ketosis , as she reported poor oral intake for three days prior to admission . However , serum chemistry obtained six hours after presentation revealed her glucose was 186 mg/dL , the anion gap was still elevated at 21 , serum bicarbonate was 16 mmol/L , triglyceride level peaked at 2050 mg/dL , and lipase was 52 U/L . The β-hydroxybutyrate level was obtained and found to be elevated at 5.29 mmol/L - the original sample was centrifuged and the chylomicron layer removed prior to analysis due to interference from turbidity caused by lipemia again . The patient was treated with an insulin drip for euDKA and HTG with a reduction in the anion gap to 13 and triglycerides to 1400 mg/dL , within 24 hours . Her euDKA was thought to be precipitated by her respiratory tract infection in the setting of SGLT2 inhibitor use . The patient was seen by the endocrinology service and she was discharged on 40 units of insulin glargine at night , 12 units of insulin lispro with meals , and metformin 1000 mg two times a day . It was determined that all SGLT2 inhibitors should be discontinued indefinitely . \n",
        "She had close follow-up with endocrinology post discharge .\n",
        "\"\"\".replace(\"\\n\", \"\")\n",
        "\n",
        "\n",
        "annotations = lmodel.fullAnnotate(text)\n",
        "\n",
        "rel_pairs=[]\n",
        "for rel in annotations[0]['relations']:\n",
        "  if rel.result != \"O\":\n",
        "    rel_pairs.append((\n",
        "        rel.result, \n",
        "        rel.metadata['entity1'], \n",
        "        rel.metadata['entity1_begin'],\n",
        "        rel.metadata['entity1_end'],\n",
        "        rel.metadata['chunk1'], \n",
        "        rel.metadata['entity2'],\n",
        "        rel.metadata['entity2_begin'],\n",
        "        rel.metadata['entity2_end'],\n",
        "        rel.metadata['chunk2'], \n",
        "        rel.metadata['confidence']\n",
        "    ))\n",
        "\n",
        "import pandas as pd\n",
        "\n",
        "rel_df = pd.DataFrame(rel_pairs, columns=['relation','entity1','entity1_begin','entity1_end','chunk1','entity2','entity2_begin','entity2_end','chunk2', 'confidence'])\n",
        "\n",
        "rel_df[rel_df.relation!=\"O\"]\n",
        "\n"
      ],
      "execution_count": null,
      "outputs": [
        {
          "output_type": "display_data",
          "data": {
            "text/html": [
              "<div>\n",
              "<style scoped>\n",
              "    .dataframe tbody tr th:only-of-type {\n",
              "        vertical-align: middle;\n",
              "    }\n",
              "\n",
              "    .dataframe tbody tr th {\n",
              "        vertical-align: top;\n",
              "    }\n",
              "\n",
              "    .dataframe thead th {\n",
              "        text-align: right;\n",
              "    }\n",
              "</style>\n",
              "<table border=\"1\" class=\"dataframe\">\n",
              "  <thead>\n",
              "    <tr style=\"text-align: right;\">\n",
              "      <th></th>\n",
              "      <th>relation</th>\n",
              "      <th>entity1</th>\n",
              "      <th>entity1_begin</th>\n",
              "      <th>entity1_end</th>\n",
              "      <th>chunk1</th>\n",
              "      <th>entity2</th>\n",
              "      <th>entity2_begin</th>\n",
              "      <th>entity2_end</th>\n",
              "      <th>chunk2</th>\n",
              "      <th>confidence</th>\n",
              "    </tr>\n",
              "  </thead>\n",
              "  <tbody>\n",
              "    <tr>\n",
              "      <th>0</th>\n",
              "      <td>DURATION-DRUG</td>\n",
              "      <td>DURATION</td>\n",
              "      <td>492</td>\n",
              "      <td>499</td>\n",
              "      <td>five-day</td>\n",
              "      <td>DRUG</td>\n",
              "      <td>511</td>\n",
              "      <td>521</td>\n",
              "      <td>amoxicillin</td>\n",
              "      <td>1.0</td>\n",
              "    </tr>\n",
              "    <tr>\n",
              "      <th>1</th>\n",
              "      <td>DRUG-DURATION</td>\n",
              "      <td>DRUG</td>\n",
              "      <td>680</td>\n",
              "      <td>692</td>\n",
              "      <td>dapagliflozin</td>\n",
              "      <td>DURATION</td>\n",
              "      <td>694</td>\n",
              "      <td>707</td>\n",
              "      <td>for six months</td>\n",
              "      <td>1.0</td>\n",
              "    </tr>\n",
              "    <tr>\n",
              "      <th>2</th>\n",
              "      <td>DRUG-ROUTE</td>\n",
              "      <td>DRUG</td>\n",
              "      <td>1939</td>\n",
              "      <td>1945</td>\n",
              "      <td>insulin</td>\n",
              "      <td>ROUTE</td>\n",
              "      <td>1947</td>\n",
              "      <td>1950</td>\n",
              "      <td>drip</td>\n",
              "      <td>1.0</td>\n",
              "    </tr>\n",
              "    <tr>\n",
              "      <th>3</th>\n",
              "      <td>DOSAGE-DRUG</td>\n",
              "      <td>DOSAGE</td>\n",
              "      <td>2254</td>\n",
              "      <td>2261</td>\n",
              "      <td>40 units</td>\n",
              "      <td>DRUG</td>\n",
              "      <td>2266</td>\n",
              "      <td>2281</td>\n",
              "      <td>insulin glargine</td>\n",
              "      <td>1.0</td>\n",
              "    </tr>\n",
              "    <tr>\n",
              "      <th>4</th>\n",
              "      <td>DRUG-FREQUENCY</td>\n",
              "      <td>DRUG</td>\n",
              "      <td>2266</td>\n",
              "      <td>2281</td>\n",
              "      <td>insulin glargine</td>\n",
              "      <td>FREQUENCY</td>\n",
              "      <td>2283</td>\n",
              "      <td>2290</td>\n",
              "      <td>at night</td>\n",
              "      <td>1.0</td>\n",
              "    </tr>\n",
              "    <tr>\n",
              "      <th>5</th>\n",
              "      <td>DOSAGE-DRUG</td>\n",
              "      <td>DOSAGE</td>\n",
              "      <td>2294</td>\n",
              "      <td>2301</td>\n",
              "      <td>12 units</td>\n",
              "      <td>DRUG</td>\n",
              "      <td>2306</td>\n",
              "      <td>2319</td>\n",
              "      <td>insulin lispro</td>\n",
              "      <td>1.0</td>\n",
              "    </tr>\n",
              "    <tr>\n",
              "      <th>6</th>\n",
              "      <td>DRUG-FREQUENCY</td>\n",
              "      <td>DRUG</td>\n",
              "      <td>2306</td>\n",
              "      <td>2319</td>\n",
              "      <td>insulin lispro</td>\n",
              "      <td>FREQUENCY</td>\n",
              "      <td>2321</td>\n",
              "      <td>2330</td>\n",
              "      <td>with meals</td>\n",
              "      <td>1.0</td>\n",
              "    </tr>\n",
              "    <tr>\n",
              "      <th>7</th>\n",
              "      <td>DRUG-STRENGTH</td>\n",
              "      <td>DRUG</td>\n",
              "      <td>2338</td>\n",
              "      <td>2346</td>\n",
              "      <td>metformin</td>\n",
              "      <td>STRENGTH</td>\n",
              "      <td>2348</td>\n",
              "      <td>2354</td>\n",
              "      <td>1000 mg</td>\n",
              "      <td>1.0</td>\n",
              "    </tr>\n",
              "    <tr>\n",
              "      <th>8</th>\n",
              "      <td>DRUG-FREQUENCY</td>\n",
              "      <td>DRUG</td>\n",
              "      <td>2338</td>\n",
              "      <td>2346</td>\n",
              "      <td>metformin</td>\n",
              "      <td>FREQUENCY</td>\n",
              "      <td>2356</td>\n",
              "      <td>2370</td>\n",
              "      <td>two times a day</td>\n",
              "      <td>1.0</td>\n",
              "    </tr>\n",
              "  </tbody>\n",
              "</table>\n",
              "</div>"
            ]
          },
          "metadata": {
            "tags": []
          }
        }
      ]
    },
    {
      "cell_type": "markdown",
      "metadata": {
        "id": "BfbsdtIcEMrx",
        "colab_type": "text"
      },
      "source": [
        "## Load model from Local"
      ]
    },
    {
      "cell_type": "code",
      "metadata": {
        "id": "ea0O0Cb5EMry",
        "colab_type": "code",
        "colab": {},
        "outputId": "7ab4bbd3-3f55-49d7-de3d-25f15acb484f"
      },
      "source": [
        "\n",
        "dbutils.fs.cp(\"dbfs:/FileStore/shared_uploads/veysel@johnsnowlabs.com/i2b2_RE.zip\",\"file:/databricks/driver/i2b2_RE.zip\")\n"
      ],
      "execution_count": null,
      "outputs": [
        {
          "output_type": "display_data",
          "data": {
            "text/html": [
              "<style scoped>\n",
              "  .ansiout {\n",
              "    display: block;\n",
              "    unicode-bidi: embed;\n",
              "    white-space: pre-wrap;\n",
              "    word-wrap: break-word;\n",
              "    word-break: break-all;\n",
              "    font-family: \"Source Code Pro\", \"Menlo\", monospace;;\n",
              "    font-size: 13px;\n",
              "    color: #555;\n",
              "    margin-left: 4px;\n",
              "    line-height: 19px;\n",
              "  }\n",
              "</style>\n",
              "<div class=\"ansiout\">Out[38]: True</div>"
            ]
          },
          "metadata": {
            "tags": []
          }
        }
      ]
    },
    {
      "cell_type": "code",
      "metadata": {
        "id": "OrbCQz08EMr1",
        "colab_type": "code",
        "colab": {},
        "outputId": "84da9e30-876d-4ff2-8ded-d5eb8b033dc9"
      },
      "source": [
        "%fs ls file:/databricks/driver/RE"
      ],
      "execution_count": null,
      "outputs": [
        {
          "output_type": "display_data",
          "data": {
            "text/html": [
              "<style scoped>\n",
              "  .table-result-container {\n",
              "    max-height: 300px;\n",
              "    overflow: auto;\n",
              "  }\n",
              "  table, th, td {\n",
              "    border: 1px solid black;\n",
              "    border-collapse: collapse;\n",
              "  }\n",
              "  th, td {\n",
              "    padding: 5px;\n",
              "  }\n",
              "  th {\n",
              "    text-align: left;\n",
              "  }\n",
              "</style><div class='table-result-container'><table class='table-result'><thead style='background-color: white'><tr><th>path</th><th>name</th><th>size</th></tr></thead><tbody><tr><td>file:/databricks/driver/RE/metadata/</td><td>metadata/</td><td>4096</td></tr><tr><td>file:/databricks/driver/RE/encoder</td><td>encoder</td><td>321</td></tr><tr><td>file:/databricks/driver/RE/generic_classifier_tensorflow</td><td>generic_classifier_tensorflow</td><td>6209846</td></tr><tr><td>file:/databricks/driver/RE/categories</td><td>categories</td><td>175</td></tr></tbody></table></div>"
            ]
          },
          "metadata": {
            "tags": []
          }
        }
      ]
    },
    {
      "cell_type": "code",
      "metadata": {
        "id": "P1VU3dlwEMr4",
        "colab_type": "code",
        "colab": {},
        "outputId": "d0dcf703-ef2a-4658-e985-280aad996ac4"
      },
      "source": [
        "import zipfile\n",
        "with zipfile.ZipFile('/databricks/driver/i2b2_RE.zip', 'r') as zip_ref:\n",
        "    zip_ref.extractall('/databricks/driver/')"
      ],
      "execution_count": null,
      "outputs": [
        {
          "output_type": "display_data",
          "data": {
            "text/html": [
              "<style scoped>\n",
              "  .ansiout {\n",
              "    display: block;\n",
              "    unicode-bidi: embed;\n",
              "    white-space: pre-wrap;\n",
              "    word-wrap: break-word;\n",
              "    word-break: break-all;\n",
              "    font-family: \"Source Code Pro\", \"Menlo\", monospace;;\n",
              "    font-size: 13px;\n",
              "    color: #555;\n",
              "    margin-left: 4px;\n",
              "    line-height: 19px;\n",
              "  }\n",
              "</style>\n",
              "<div class=\"ansiout\"></div>"
            ]
          },
          "metadata": {
            "tags": []
          }
        }
      ]
    },
    {
      "cell_type": "code",
      "metadata": {
        "id": "pBPt5Z6jEMr8",
        "colab_type": "code",
        "colab": {},
        "outputId": "bb9ca64c-abb6-4338-bd45-c26b8ba3c941"
      },
      "source": [
        "\n",
        "dbutils.fs.cp(\"file:/databricks/driver/RE\", \"dbfs:/FileStore/shared_uploads/veysel@johnsnowlabs.com/RE\", recurse=True)\n"
      ],
      "execution_count": null,
      "outputs": [
        {
          "output_type": "display_data",
          "data": {
            "text/html": [
              "<style scoped>\n",
              "  .ansiout {\n",
              "    display: block;\n",
              "    unicode-bidi: embed;\n",
              "    white-space: pre-wrap;\n",
              "    word-wrap: break-word;\n",
              "    word-break: break-all;\n",
              "    font-family: \"Source Code Pro\", \"Menlo\", monospace;;\n",
              "    font-size: 13px;\n",
              "    color: #555;\n",
              "    margin-left: 4px;\n",
              "    line-height: 19px;\n",
              "  }\n",
              "</style>\n",
              "<div class=\"ansiout\">Out[61]: True</div>"
            ]
          },
          "metadata": {
            "tags": []
          }
        }
      ]
    },
    {
      "cell_type": "code",
      "metadata": {
        "id": "xCw3UB7EEMr-",
        "colab_type": "code",
        "colab": {},
        "outputId": "edb79d92-74c4-48b2-c0c4-059e3ecfd302"
      },
      "source": [
        "\n",
        "\n",
        "clinical_ner_tagger = sparknlp.annotators.NerDLModel()\\\n",
        "    .pretrained(\"ner_clinical_large\", \"en\", \"clinical/models\")\\\n",
        "    .setInputCols(\"sentence\", \"tokens\", \"embeddings\")\\\n",
        "    .setOutputCol(\"ner_tags\")    \n",
        "\n",
        "clinical_re_Model = RelationExtractionModel()\\\n",
        "    .load(\"dbfs:/FileStore/shared_uploads/veysel@johnsnowlabs.com/RE\")\\\n",
        "    .setInputCols([\"embeddings\", \"pos_tags\", \"ner_chunks\", \"dependencies\"])\\\n",
        "    .setOutputCol(\"relations_clinical\")\\\n",
        "    .setMaxSyntacticDistance(4)\\\n",
        "    .setRelationPairs([\"problem-test\", \"problem-treatment\"])\n",
        "\n",
        "loaded_pipeline = Pipeline(stages=[\n",
        "    documenter,\n",
        "    sentencer,\n",
        "    tokenizer, \n",
        "    words_embedder, \n",
        "    pos_tagger, \n",
        "    clinical_ner_tagger,\n",
        "    ner_chunker,\n",
        "    dependency_parser,\n",
        "    clinical_re_Model\n",
        "])"
      ],
      "execution_count": null,
      "outputs": [
        {
          "output_type": "display_data",
          "data": {
            "text/html": [
              "<style scoped>\n",
              "  .ansiout {\n",
              "    display: block;\n",
              "    unicode-bidi: embed;\n",
              "    white-space: pre-wrap;\n",
              "    word-wrap: break-word;\n",
              "    word-break: break-all;\n",
              "    font-family: \"Source Code Pro\", \"Menlo\", monospace;;\n",
              "    font-size: 13px;\n",
              "    color: #555;\n",
              "    margin-left: 4px;\n",
              "    line-height: 19px;\n",
              "  }\n",
              "</style>\n",
              "<div class=\"ansiout\">ner_clinical_large download started this may take some time.\n",
              "Approximate size to download 13.9 MB\n",
              "\r[ | ]\r[OK!]\n",
              "</div>"
            ]
          },
          "metadata": {
            "tags": []
          }
        }
      ]
    },
    {
      "cell_type": "code",
      "metadata": {
        "id": "n4jrrhjhEMsC",
        "colab_type": "code",
        "colab": {},
        "outputId": "d56fbcb4-7458-4944-c146-78e55bcb2bbb"
      },
      "source": [
        "loaded_model = loaded_pipeline.fit(empty_df)\n",
        "loaded_lmodel = LightPipeline(loaded_model)"
      ],
      "execution_count": null,
      "outputs": [
        {
          "output_type": "display_data",
          "data": {
            "text/html": [
              "<style scoped>\n",
              "  .ansiout {\n",
              "    display: block;\n",
              "    unicode-bidi: embed;\n",
              "    white-space: pre-wrap;\n",
              "    word-wrap: break-word;\n",
              "    word-break: break-all;\n",
              "    font-family: \"Source Code Pro\", \"Menlo\", monospace;;\n",
              "    font-size: 13px;\n",
              "    color: #555;\n",
              "    margin-left: 4px;\n",
              "    line-height: 19px;\n",
              "  }\n",
              "</style>\n",
              "<div class=\"ansiout\"></div>"
            ]
          },
          "metadata": {
            "tags": []
          }
        }
      ]
    },
    {
      "cell_type": "code",
      "metadata": {
        "id": "XLn00iCGEMsJ",
        "colab_type": "code",
        "colab": {},
        "outputId": "b8b33565-74d0-4348-e8ea-85fece28c899"
      },
      "source": [
        "text =\"\"\"A 28-year-old female with a history of gestational diabetes mellitus diagnosed eight years prior to presentation and subsequent type two diabetes mellitus ( T2DM ), \n",
        "one prior episode of HTG-induced pancreatitis three years prior to presentation,  associated with an acute hepatitis , and obesity with a body mass index ( BMI ) of 33.5 kg/m2 , presented with a one-week history of polyuria , polydipsia , poor appetite , and vomiting . Two weeks prior to presentation , she was treated with a five-day course of amoxicillin for a respiratory tract infection . She was on metformin , glipizide , and dapagliflozin for T2DM and atorvastatin and gemfibrozil for HTG . She had been on dapagliflozin for six months at the time of presentation. Physical examination on presentation was significant for dry oral mucosa ; significantly , her abdominal examination was benign with no tenderness , guarding , or rigidity . Pertinent laboratory findings on admission were : serum glucose 111 mg/dl , bicarbonate 18 mmol/l , anion gap 20 , creatinine 0.4 mg/dL , triglycerides 508 mg/dL , total cholesterol 122 mg/dL , glycated hemoglobin ( HbA1c ) 10% , and venous pH 7.27 . Serum lipase was normal at 43 U/L . Serum acetone levels could not be assessed as blood samples kept hemolyzing due to significant lipemia . The patient was initially admitted for starvation ketosis , as she reported poor oral intake for three days prior to admission . However , serum chemistry obtained six hours after presentation revealed her glucose was 186 mg/dL , the anion gap was still elevated at 21 , serum bicarbonate was 16 mmol/L , triglyceride level peaked at 2050 mg/dL , and lipase was 52 U/L . The β-hydroxybutyrate level was obtained and found to be elevated at 5.29 mmol/L - the original sample was centrifuged and the chylomicron layer removed prior to analysis due to interference from turbidity caused by lipemia again . The patient was treated with an insulin drip for euDKA and HTG with a reduction in the anion gap to 13 and triglycerides to 1400 mg/dL , within 24 hours . Her euDKA was thought to be precipitated by her respiratory tract infection in the setting of SGLT2 inhibitor use . The patient was seen by the endocrinology service and she was discharged on 40 units of insulin glargine at night , 12 units of insulin lispro with meals , and metformin 1000 mg two times a day . It was determined that all SGLT2 inhibitors should be discontinued indefinitely . \n",
        "She had close follow-up with endocrinology post discharge .\n",
        "\"\"\".replace(\"\\n\", \"\")\n",
        "\n",
        "annotations = loaded_lmodel.fullAnnotate(text)\n",
        "\n",
        "rel_pairs=[]\n",
        "for rel in annotations[0]['relations_clinical']:\n",
        "  if rel.result != \"O\":\n",
        "    rel_pairs.append((\n",
        "        rel.result, \n",
        "        rel.metadata['entity1'], \n",
        "        rel.metadata['entity1_begin'],\n",
        "        rel.metadata['entity1_end'],\n",
        "        rel.metadata['chunk1'], \n",
        "        rel.metadata['entity2'],\n",
        "        rel.metadata['entity2_begin'],\n",
        "        rel.metadata['entity2_end'],\n",
        "        rel.metadata['chunk2'], \n",
        "        rel.metadata['confidence']\n",
        "    ))\n",
        "\n",
        "import pandas as pd\n",
        "\n",
        "rel_df = pd.DataFrame(rel_pairs, columns=['relation','entity1','entity1_begin','entity1_end','chunk1','entity2','entity2_begin','entity2_end','chunk2', 'confidence'])\n",
        "\n",
        "rel_df[rel_df.relation!=\"O\"]\n"
      ],
      "execution_count": null,
      "outputs": [
        {
          "output_type": "display_data",
          "data": {
            "text/html": [
              "<div>\n",
              "<style scoped>\n",
              "    .dataframe tbody tr th:only-of-type {\n",
              "        vertical-align: middle;\n",
              "    }\n",
              "\n",
              "    .dataframe tbody tr th {\n",
              "        vertical-align: top;\n",
              "    }\n",
              "\n",
              "    .dataframe thead th {\n",
              "        text-align: right;\n",
              "    }\n",
              "</style>\n",
              "<table border=\"1\" class=\"dataframe\">\n",
              "  <thead>\n",
              "    <tr style=\"text-align: right;\">\n",
              "      <th></th>\n",
              "      <th>relation</th>\n",
              "      <th>entity1</th>\n",
              "      <th>entity1_begin</th>\n",
              "      <th>entity1_end</th>\n",
              "      <th>chunk1</th>\n",
              "      <th>entity2</th>\n",
              "      <th>entity2_begin</th>\n",
              "      <th>entity2_end</th>\n",
              "      <th>chunk2</th>\n",
              "      <th>confidence</th>\n",
              "    </tr>\n",
              "  </thead>\n",
              "  <tbody>\n",
              "    <tr>\n",
              "      <th>0</th>\n",
              "      <td>TeRP</td>\n",
              "      <td>PROBLEM</td>\n",
              "      <td>39</td>\n",
              "      <td>67</td>\n",
              "      <td>gestational diabetes mellitus</td>\n",
              "      <td>TEST</td>\n",
              "      <td>321</td>\n",
              "      <td>323</td>\n",
              "      <td>BMI</td>\n",
              "      <td>1.0</td>\n",
              "    </tr>\n",
              "    <tr>\n",
              "      <th>1</th>\n",
              "      <td>TeRP</td>\n",
              "      <td>PROBLEM</td>\n",
              "      <td>117</td>\n",
              "      <td>153</td>\n",
              "      <td>subsequent type two diabetes mellitus</td>\n",
              "      <td>TEST</td>\n",
              "      <td>321</td>\n",
              "      <td>323</td>\n",
              "      <td>BMI</td>\n",
              "      <td>1.0</td>\n",
              "    </tr>\n",
              "    <tr>\n",
              "      <th>2</th>\n",
              "      <td>TrAP</td>\n",
              "      <td>PROBLEM</td>\n",
              "      <td>616</td>\n",
              "      <td>619</td>\n",
              "      <td>T2DM</td>\n",
              "      <td>TREATMENT</td>\n",
              "      <td>625</td>\n",
              "      <td>636</td>\n",
              "      <td>atorvastatin</td>\n",
              "      <td>0.99955326</td>\n",
              "    </tr>\n",
              "    <tr>\n",
              "      <th>3</th>\n",
              "      <td>TeRP</td>\n",
              "      <td>TEST</td>\n",
              "      <td>738</td>\n",
              "      <td>757</td>\n",
              "      <td>Physical examination</td>\n",
              "      <td>PROBLEM</td>\n",
              "      <td>795</td>\n",
              "      <td>809</td>\n",
              "      <td>dry oral mucosa</td>\n",
              "      <td>0.9994142</td>\n",
              "    </tr>\n",
              "    <tr>\n",
              "      <th>4</th>\n",
              "      <td>TrWP</td>\n",
              "      <td>TEST</td>\n",
              "      <td>1245</td>\n",
              "      <td>1257</td>\n",
              "      <td>blood samples</td>\n",
              "      <td>PROBLEM</td>\n",
              "      <td>1264</td>\n",
              "      <td>1273</td>\n",
              "      <td>hemolyzing</td>\n",
              "      <td>0.9854173</td>\n",
              "    </tr>\n",
              "    <tr>\n",
              "      <th>5</th>\n",
              "      <td>TrWP</td>\n",
              "      <td>TEST</td>\n",
              "      <td>1245</td>\n",
              "      <td>1257</td>\n",
              "      <td>blood samples</td>\n",
              "      <td>PROBLEM</td>\n",
              "      <td>1282</td>\n",
              "      <td>1300</td>\n",
              "      <td>significant lipemia</td>\n",
              "      <td>0.99998724</td>\n",
              "    </tr>\n",
              "    <tr>\n",
              "      <th>6</th>\n",
              "      <td>TeRP</td>\n",
              "      <td>TEST</td>\n",
              "      <td>1534</td>\n",
              "      <td>1546</td>\n",
              "      <td>the anion gap</td>\n",
              "      <td>PROBLEM</td>\n",
              "      <td>1552</td>\n",
              "      <td>1565</td>\n",
              "      <td>still elevated</td>\n",
              "      <td>0.9965193</td>\n",
              "    </tr>\n",
              "    <tr>\n",
              "      <th>7</th>\n",
              "      <td>TrAP</td>\n",
              "      <td>TEST</td>\n",
              "      <td>1837</td>\n",
              "      <td>1844</td>\n",
              "      <td>analysis</td>\n",
              "      <td>PROBLEM</td>\n",
              "      <td>1853</td>\n",
              "      <td>1879</td>\n",
              "      <td>interference from turbidity</td>\n",
              "      <td>0.9676019</td>\n",
              "    </tr>\n",
              "    <tr>\n",
              "      <th>8</th>\n",
              "      <td>TrAP</td>\n",
              "      <td>PROBLEM</td>\n",
              "      <td>1966</td>\n",
              "      <td>1968</td>\n",
              "      <td>HTG</td>\n",
              "      <td>TREATMENT</td>\n",
              "      <td>1975</td>\n",
              "      <td>1985</td>\n",
              "      <td>a reduction</td>\n",
              "      <td>0.9875973</td>\n",
              "    </tr>\n",
              "    <tr>\n",
              "      <th>9</th>\n",
              "      <td>TrAP</td>\n",
              "      <td>PROBLEM</td>\n",
              "      <td>1966</td>\n",
              "      <td>1968</td>\n",
              "      <td>HTG</td>\n",
              "      <td>TEST</td>\n",
              "      <td>1990</td>\n",
              "      <td>2002</td>\n",
              "      <td>the anion gap</td>\n",
              "      <td>0.9993911</td>\n",
              "    </tr>\n",
              "    <tr>\n",
              "      <th>10</th>\n",
              "      <td>TeRP</td>\n",
              "      <td>PROBLEM</td>\n",
              "      <td>2106</td>\n",
              "      <td>2136</td>\n",
              "      <td>her respiratory tract infection</td>\n",
              "      <td>TREATMENT</td>\n",
              "      <td>2156</td>\n",
              "      <td>2170</td>\n",
              "      <td>SGLT2 inhibitor</td>\n",
              "      <td>0.997498</td>\n",
              "    </tr>\n",
              "  </tbody>\n",
              "</table>\n",
              "</div>"
            ]
          },
          "metadata": {
            "tags": []
          }
        }
      ]
    },
    {
      "cell_type": "markdown",
      "metadata": {
        "id": "jK1kF3E9EMsM",
        "colab_type": "text"
      },
      "source": [
        "### The set of relations defined in the 2010 i2b2 relation challenge\n",
        "\n",
        "TrIP: A certain treatment has improved or cured a medical problem (eg, ‘infection resolved with antibiotic course’)\n",
        "\n",
        "TrWP: A patient's medical problem has deteriorated or worsened because of or in spite of a treatment being administered (eg, ‘the tumor was growing despite the drain’)\n",
        "\n",
        "TrCP: A treatment caused a medical problem (eg, ‘penicillin causes a rash’)\n",
        "\n",
        "TrAP: A treatment administered for a medical problem (eg, ‘Dexamphetamine for narcolepsy’)\n",
        "\n",
        "TrNAP: The administration of a treatment was avoided because of a medical problem (eg, ‘Ralafen which is contra-indicated because of ulcers’)\n",
        "\n",
        "TeRP: A test has revealed some medical problem (eg, ‘an echocardiogram revealed a pericardial effusion’)\n",
        "\n",
        "TeCP: A test was performed to investigate a medical problem (eg, ‘chest x-ray done to rule out pneumonia’)\n",
        "\n",
        "PIP: Two problems are related to each other (eg, ‘Azotemia presumed secondary to sepsis’)"
      ]
    },
    {
      "cell_type": "markdown",
      "metadata": {
        "id": "H15M7SBnEMsM",
        "colab_type": "text"
      },
      "source": [
        "## Train a Relation Extraction Model"
      ]
    },
    {
      "cell_type": "code",
      "metadata": {
        "id": "rYLFjUJLEMsN",
        "colab_type": "code",
        "colab": {},
        "outputId": "54e70d51-eb27-4bbf-8817-f4845a0792c0"
      },
      "source": [
        "data = spark.read.option(\"header\",\"true\").format(\"csv\").load(\"dbfs:/FileStore/shared_uploads/veysel@johnsnowlabs.com/i2b2_clinical_relfeatures.csv\")\n",
        "\n",
        "data.show(3)"
      ],
      "execution_count": null,
      "outputs": [
        {
          "output_type": "display_data",
          "data": {
            "text/html": [
              "<style scoped>\n",
              "  .ansiout {\n",
              "    display: block;\n",
              "    unicode-bidi: embed;\n",
              "    white-space: pre-wrap;\n",
              "    word-wrap: break-word;\n",
              "    word-break: break-all;\n",
              "    font-family: \"Source Code Pro\", \"Menlo\", monospace;;\n",
              "    font-size: 13px;\n",
              "    color: #555;\n",
              "    margin-left: 4px;\n",
              "    line-height: 19px;\n",
              "  }\n",
              "</style>\n",
              "<div class=\"ansiout\">+-------+-------------+--------------------+--------------------+-------+--------------+------+----+-----+--------------------+------+----+---------+-------+------------+-------------+------------+-------------+-------------+-------------+-------------+\n",
              "dataset|       source|            txt_file|            sentence|sent_id|        chunk1|begin1|end1|  rel|              chunk2|begin2|end2|   label1| label2|lastCharEnt1|firstCharEnt1|lastCharEnt2|firstCharEnt2|words_in_ent1|words_in_ent2|words_between|\n",
              "+-------+-------------+--------------------+--------------------+-------+--------------+------+----+-----+--------------------+------+----+---------+-------+------------+-------------+------------+-------------+-------------+-------------+-------------+\n",
              "   test|beth+partners|i2b2 2010 VA/test...|# BRBPR -- The pa...|    100|         brbpr|     1|   1|    O|  his lower gi bleed|    12|  15|  problem|problem|           6|            2|          77|           60|            1|            4|           10|\n",
              "   test|beth+partners|i2b2 2010 VA/test...|An angiography sh...|    101|an angiography|     0|   1| TeRP|bleeding in two v...|     3|   6|     test|problem|          14|            1|          44|           22|            2|            4|            1|\n",
              "   test|beth+partners|i2b2 2010 VA/test...|His coumadin was ...|    103|  his coumadin|     0|   1|TrNAP|     his acute bleed|     8|  10|treatment|problem|          12|            1|          58|           44|            2|            3|            6|\n",
              "+-------+-------------+--------------------+--------------------+-------+--------------+------+----+-----+--------------------+------+----+---------+-------+------------+-------------+------------+-------------+-------------+-------------+-------------+\n",
              "only showing top 3 rows\n",
              "\n",
              "</div>"
            ]
          },
          "metadata": {
            "tags": []
          }
        }
      ]
    },
    {
      "cell_type": "code",
      "metadata": {
        "id": "4sZ4pBljEMsP",
        "colab_type": "code",
        "colab": {},
        "outputId": "b88c125b-eb0e-4575-ff33-11588f47fac8"
      },
      "source": [
        "\n",
        "rels = [\"TrIP\", \"TrAP\", \"TeCP\", \"TrNAP\", \"TrCP\", \"PIP\", \"TrWP\", \"TeRP\"]\n",
        "\n",
        "valid_rel_query = \"(\" + \" OR \".join([\"rel = '{}'\".format(rel) for rel in rels]) + \")\"\n",
        "\n",
        "data = data\\\n",
        "    .where(valid_rel_query)\\\n",
        "    .withColumn(\"begin1i\", F.expr(\"cast(begin1 AS Int)\"))\\\n",
        "    .withColumn(\"end1i\", F.expr(\"cast(end1 AS Int)\"))\\\n",
        "    .withColumn(\"begin2i\", F.expr(\"cast(begin2 AS Int)\"))\\\n",
        "    .withColumn(\"end2i\", F.expr(\"cast(end2 AS Int)\"))\n",
        "\n",
        "train_data = data.where(\"dataset='train'\")\n",
        "\n",
        "test_data = data.where(\"dataset='test'\")"
      ],
      "execution_count": null,
      "outputs": [
        {
          "output_type": "display_data",
          "data": {
            "text/html": [
              "<style scoped>\n",
              "  .ansiout {\n",
              "    display: block;\n",
              "    unicode-bidi: embed;\n",
              "    white-space: pre-wrap;\n",
              "    word-wrap: break-word;\n",
              "    word-break: break-all;\n",
              "    font-family: \"Source Code Pro\", \"Menlo\", monospace;;\n",
              "    font-size: 13px;\n",
              "    color: #555;\n",
              "    margin-left: 4px;\n",
              "    line-height: 19px;\n",
              "  }\n",
              "</style>\n",
              "<div class=\"ansiout\"></div>"
            ]
          },
          "metadata": {
            "tags": []
          }
        }
      ]
    },
    {
      "cell_type": "code",
      "metadata": {
        "id": "Ldpi592-EMsS",
        "colab_type": "code",
        "colab": {}
      },
      "source": [
        "\"file:/databricks/driver/RE_in1200D_out20.pb\""
      ],
      "execution_count": null,
      "outputs": []
    },
    {
      "cell_type": "code",
      "metadata": {
        "id": "9bv8j-tgEMsX",
        "colab_type": "code",
        "colab": {},
        "outputId": "46dffdaf-6ff5-4dc0-ca39-199da0288318"
      },
      "source": [
        "documenter = sparknlp.DocumentAssembler()\\\n",
        "    .setInputCol(\"sentence\")\\\n",
        "    .setOutputCol(\"document\")\n",
        "\n",
        "sentencer = SentenceDetector()\\\n",
        "    .setInputCols([\"document\"])\\\n",
        "    .setOutputCol(\"sentences\")\n",
        "\n",
        "tokenizer = sparknlp.annotators.Tokenizer()\\\n",
        "    .setInputCols([\"sentences\"])\\\n",
        "    .setOutputCol(\"tokens\")\\\n",
        "\n",
        "words_embedder = WordEmbeddingsModel()\\\n",
        "    .pretrained(\"embeddings_clinical\", \"en\", \"clinical/models\")\\\n",
        "    .setInputCols([\"sentences\", \"tokens\"])\\\n",
        "    .setOutputCol(\"embeddings\")\n",
        "\n",
        "pos_tagger = PerceptronModel()\\\n",
        "    .pretrained(\"pos_clinical\", \"en\", \"clinical/models\") \\\n",
        "    .setInputCols([\"sentences\", \"tokens\"])\\\n",
        "    .setOutputCol(\"pos_tags\")\n",
        "\n",
        "ner_tagger = NerDLModel()\\\n",
        "    .pretrained(\"ner_clinical_large\", \"en\", \"clinical/models\")\\\n",
        "    .setInputCols([\"sentences\", \"tokens\", \"embeddings\"])\\\n",
        "    .setOutputCol(\"ner_tags\")\n",
        "\n",
        "ner_converter = NerConverter()\\\n",
        "    .setInputCols([\"sentences\", \"tokens\", \"ner_tags\"])\\\n",
        "    .setOutputCol(\"ner_chunks\")\n",
        "    \n",
        "dependency_parser = sparknlp.annotators.DependencyParserModel()\\\n",
        "    .pretrained(\"dependency_conllu\", \"en\")\\\n",
        "    .setInputCols([\"document\", \"pos_tags\", \"tokens\"])\\\n",
        "    .setOutputCol(\"dependencies\")\n",
        "    \n",
        "reApproach = sparknlp_jsl.annotator.RelationExtractionApproach()\\\n",
        "    .setInputCols([\"embeddings\", \"pos_tags\", \"ner_chunks\", \"dependencies\"])\\\n",
        "    .setOutputCol(\"relations_t\")\\\n",
        "    .setLabelColumn(\"rel\")\\\n",
        "    .setEpochsNumber(50)\\\n",
        "    .setBatchSize(200)\\\n",
        "    .setLearningRate(0.001)\\\n",
        "    .setModelFile(\"dbfs:/FileStore/shared_uploads/veysel@johnsnowlabs.com/RE_in1200D_out20.pb\")\\\n",
        "    .setFixImbalance(True)\\\n",
        "    .setValidationSplit(0.05)\\\n",
        "    .setFromEntity(\"begin1i\", \"end1i\", \"label1\")\\\n",
        "    .setToEntity(\"begin2i\", \"end2i\", \"label2\")\n",
        "    \n",
        "finisher = sparknlp.Finisher()\\\n",
        "    .setInputCols([\"relations_t\"])\\\n",
        "    .setOutputCols([\"relations\"])\\\n",
        "    .setCleanAnnotations(False)\\\n",
        "    .setValueSplitSymbol(\",\")\\\n",
        "    .setAnnotationSplitSymbol(\",\")\\\n",
        "    .setOutputAsArray(False)\n",
        "    \n",
        "train_pipeline = Pipeline(stages=[\n",
        "    documenter, sentencer, tokenizer, words_embedder, pos_tagger,\n",
        "    ner_tagger, ner_converter, dependency_parser,\n",
        "    reApproach, finisher\n",
        "])"
      ],
      "execution_count": null,
      "outputs": [
        {
          "output_type": "display_data",
          "data": {
            "text/html": [
              "<style scoped>\n",
              "  .ansiout {\n",
              "    display: block;\n",
              "    unicode-bidi: embed;\n",
              "    white-space: pre-wrap;\n",
              "    word-wrap: break-word;\n",
              "    word-break: break-all;\n",
              "    font-family: \"Source Code Pro\", \"Menlo\", monospace;;\n",
              "    font-size: 13px;\n",
              "    color: #555;\n",
              "    margin-left: 4px;\n",
              "    line-height: 19px;\n",
              "  }\n",
              "</style>\n",
              "<div class=\"ansiout\">embeddings_clinical download started this may take some time.\n",
              "Approximate size to download 1.6 GB\n",
              "\r[ | ]\r[OK!]\n",
              "pos_clinical download started this may take some time.\n",
              "Approximate size to download 1.7 MB\n",
              "\r[ | ]\r[OK!]\n",
              "ner_clinical_large download started this may take some time.\n",
              "Approximate size to download 13.9 MB\n",
              "\r[ | ]\r[OK!]\n",
              "dependency_conllu download started this may take some time.\n",
              "Approximate size to download 16.6 MB\n",
              "\r[ | ]\r[OK!]\n",
              "</div>"
            ]
          },
          "metadata": {
            "tags": []
          }
        }
      ]
    },
    {
      "cell_type": "code",
      "metadata": {
        "id": "y-i2izjxEMsa",
        "colab_type": "code",
        "colab": {},
        "outputId": "c7994b9d-ed4b-4a34-a372-86012aa252d9"
      },
      "source": [
        "dbutils.fs.cp(\"dbfs:/FileStore/shared_uploads/veysel@johnsnowlabs.com/RE_in1200D_out20.pb\",\"file:/databricks/driver/RE_in1200D_out20.pb\")\n",
        "\n",
        "dbutils.fs.cp(\"file:/databricks/driver/RE\", \"dbfs:/FileStore/shared_uploads/veysel@johnsnowlabs.com/RE\", recurse=True)\n"
      ],
      "execution_count": null,
      "outputs": [
        {
          "output_type": "display_data",
          "data": {
            "text/html": [
              "<style scoped>\n",
              "  .ansiout {\n",
              "    display: block;\n",
              "    unicode-bidi: embed;\n",
              "    white-space: pre-wrap;\n",
              "    word-wrap: break-word;\n",
              "    word-break: break-all;\n",
              "    font-family: \"Source Code Pro\", \"Menlo\", monospace;;\n",
              "    font-size: 13px;\n",
              "    color: #555;\n",
              "    margin-left: 4px;\n",
              "    line-height: 19px;\n",
              "  }\n",
              "</style>\n",
              "<div class=\"ansiout\">Out[42]: True</div>"
            ]
          },
          "metadata": {
            "tags": []
          }
        }
      ]
    },
    {
      "cell_type": "code",
      "metadata": {
        "id": "Nz3yNgqlEMsd",
        "colab_type": "code",
        "colab": {}
      },
      "source": [
        "%fs ls file:/databricks/driver/"
      ],
      "execution_count": null,
      "outputs": []
    },
    {
      "cell_type": "code",
      "metadata": {
        "id": "20A4L2nWEMsg",
        "colab_type": "code",
        "colab": {}
      },
      "source": [
        "rel_model = train_pipeline.fit(train_data)\n"
      ],
      "execution_count": null,
      "outputs": []
    },
    {
      "cell_type": "code",
      "metadata": {
        "id": "oW0diej_EMsk",
        "colab_type": "code",
        "colab": {}
      },
      "source": [
        ""
      ],
      "execution_count": null,
      "outputs": []
    }
  ]
}
