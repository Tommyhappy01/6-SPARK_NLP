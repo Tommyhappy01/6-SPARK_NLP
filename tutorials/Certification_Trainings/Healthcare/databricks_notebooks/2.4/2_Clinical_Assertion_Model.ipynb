{
 "cells": [
  {
   "cell_type": "markdown",
   "metadata": {
    "colab_type": "text",
    "id": "I08sFJYCxR0Z"
   },
   "source": [
    "![JohnSnowLabs](https://nlp.johnsnowlabs.com/assets/images/logo.png)"
   ]
  },
  {
   "cell_type": "markdown",
   "metadata": {
    "colab_type": "text",
    "id": "Niy3mZAjoayg"
   },
   "source": [
    "# Clinical Assertion Model"
   ]
  },
  {
   "cell_type": "code",
   "execution_count": 3,
   "metadata": {
    "colab": {},
    "colab_type": "code",
    "id": "xy-mE2aVxZjl"
   },
   "outputs": [
    {
     "data": {
      "text/html": [
       "<style scoped>\n",
       "  .ansiout {\n",
       "    display: block;\n",
       "    unicode-bidi: embed;\n",
       "    white-space: pre-wrap;\n",
       "    word-wrap: break-word;\n",
       "    word-break: break-all;\n",
       "    font-family: \"Source Code Pro\", \"Menlo\", monospace;;\n",
       "    font-size: 13px;\n",
       "    color: #555;\n",
       "    margin-left: 4px;\n",
       "    line-height: 19px;\n",
       "  }\n",
       "</style>\n",
       "<div class=\"ansiout\">2.4.2\n",
       "</div>"
      ]
     },
     "metadata": {},
     "output_type": "display_data"
    }
   ],
   "source": [
    "import os\n",
    "\n",
    "import sparknlp\n",
    "\n",
    "print (sparknlp.version())\n",
    "\n",
    "import json\n",
    "import os\n",
    "from pyspark.ml import Pipeline\n",
    "from pyspark.sql import SparkSession\n",
    "\n",
    "\n",
    "from sparknlp.annotator import *\n",
    "from sparknlp_jsl.annotator import *\n",
    "from sparknlp.base import *\n",
    "import sparknlp_jsl\n"
   ]
  },
  {
   "cell_type": "code",
   "execution_count": 4,
   "metadata": {},
   "outputs": [
    {
     "data": {
      "text/html": [
       "<style scoped>\n",
       "  .ansiout {\n",
       "    display: block;\n",
       "    unicode-bidi: embed;\n",
       "    white-space: pre-wrap;\n",
       "    word-wrap: break-word;\n",
       "    word-break: break-all;\n",
       "    font-family: \"Source Code Pro\", \"Menlo\", monospace;;\n",
       "    font-size: 13px;\n",
       "    color: #555;\n",
       "    margin-left: 4px;\n",
       "    line-height: 19px;\n",
       "  }\n",
       "</style>\n",
       "<div class=\"ansiout\">Out[3]: &lt;module &#39;sparknlp_jsl&#39; from &#39;/databricks/python/lib/python3.7/site-packages/sparknlp_jsl/__init__.py&#39;&gt;</div>"
      ]
     },
     "metadata": {},
     "output_type": "display_data"
    }
   ],
   "source": [
    "sparknlp_jsl"
   ]
  },
  {
   "cell_type": "code",
   "execution_count": 5,
   "metadata": {
    "colab": {
     "base_uri": "https://localhost:8080/",
     "height": 216
    },
    "colab_type": "code",
    "id": "V1wrGrq0GClP",
    "outputId": "ca5ffde9-b70f-4541-e317-1cb12cfa6691"
   },
   "outputs": [
    {
     "data": {
      "text/html": [
       "\n",
       "            <div>\n",
       "                <p><b>SparkSession - hive</b></p>\n",
       "                \n",
       "        <div>\n",
       "            <p><b>SparkContext</b></p>\n",
       "\n",
       "            <p><a href=\"http://10.164.247.156:45663\">Spark UI</a></p>\n",
       "\n",
       "            <dl>\n",
       "              <dt>Version</dt>\n",
       "                <dd><code>v2.4.5</code></dd>\n",
       "              <dt>Master</dt>\n",
       "                <dd><code>spark://10.164.247.156:7077</code></dd>\n",
       "              <dt>AppName</dt>\n",
       "                <dd><code>Databricks Shell</code></dd>\n",
       "            </dl>\n",
       "        </div>\n",
       "        \n",
       "            </div>\n",
       "        "
      ]
     },
     "metadata": {},
     "output_type": "display_data"
    }
   ],
   "source": [
    "spark"
   ]
  },
  {
   "cell_type": "markdown",
   "metadata": {
    "colab_type": "text",
    "id": "AMU4sAJQ0Rhs"
   },
   "source": [
    "# Clinical Assertion Model (with pretrained models)"
   ]
  },
  {
   "cell_type": "code",
   "execution_count": 7,
   "metadata": {
    "colab": {
     "base_uri": "https://localhost:8080/",
     "height": 176
    },
    "colab_type": "code",
    "id": "DEa5SITBxmY0",
    "outputId": "647e4331-8c4a-40e0-c55f-0b548ecf896d"
   },
   "outputs": [
    {
     "data": {
      "text/html": [
       "<style scoped>\n",
       "  .ansiout {\n",
       "    display: block;\n",
       "    unicode-bidi: embed;\n",
       "    white-space: pre-wrap;\n",
       "    word-wrap: break-word;\n",
       "    word-break: break-all;\n",
       "    font-family: \"Source Code Pro\", \"Menlo\", monospace;;\n",
       "    font-size: 13px;\n",
       "    color: #555;\n",
       "    margin-left: 4px;\n",
       "    line-height: 19px;\n",
       "  }\n",
       "</style>\n",
       "<div class=\"ansiout\">embeddings_clinical download started this may take some time.\n",
       "Approximate size to download 1.6 GB\n",
       "\r",
       "[ | ]\r",
       "[ / ]\r",
       "[ — ]\r",
       "[ \\ ]\r",
       "[ | ]\r",
       "[ / ]\r",
       "[ — ]\r",
       "[ \\ ]\r",
       "[ | ]\r",
       "[ / ]\r",
       "[ — ]\r",
       "[ \\ ]\r",
       "[ | ]\r",
       "[ / ]\r",
       "[ — ]\r",
       "[ \\ ]\r",
       "[ | ]\r",
       "[ / ]\r",
       "[ — ]\r",
       "[ \\ ]\r",
       "[ | ]\r",
       "[ / ]\r",
       "[ — ]\r",
       "[ \\ ]\r",
       "[ | ]\r",
       "[ / ]\r",
       "[ — ]\r",
       "[ \\ ]\r",
       "[ | ]\r",
       "[ / ]\r",
       "[ — ]\r",
       "[ \\ ]\r",
       "[ | ]\r",
       "[ / ]\r",
       "[ — ]\r",
       "[ \\ ]\r",
       "[ | ]\r",
       "[ / ]\r",
       "[ — ]\r",
       "[ \\ ]\r",
       "[ | ]\r",
       "[ / ]\r",
       "[ — ]\r",
       "[ \\ ]\r",
       "[ | ]\r",
       "[ / ]\r",
       "[ — ]\r",
       "[ \\ ]\r",
       "[ | ]\r",
       "[ / ]\r",
       "[ — ]\r",
       "[ \\ ]\r",
       "[ | ]\r",
       "[ / ]\r",
       "[ — ]\r",
       "[ \\ ]\r",
       "[ | ]\r",
       "[ / ]\r",
       "[ — ]\r",
       "[ \\ ]\r",
       "[ | ]\r",
       "[ / ]\r",
       "[ — ]\r",
       "[ \\ ]\r",
       "[ | ]\r",
       "[ / ]\r",
       "[ — ]\r",
       "[OK!]\n",
       "ner_clinical download started this may take some time.\n",
       "Approximate size to download 13.8 MB\n",
       "\r",
       "[ | ]\r",
       "[ / ]\r",
       "[ — ]\r",
       "[ \\ ]\r",
       "[ | ]\r",
       "[ / ]\r",
       "[ — ]\r",
       "[ \\ ]\r",
       "[ | ]\r",
       "[ / ]\r",
       "[ — ]\r",
       "[ \\ ]\r",
       "[ | ]\r",
       "[ / ]\r",
       "[ — ]\r",
       "[ \\ ]\r",
       "[OK!]\n",
       "assertion_dl download started this may take some time.\n",
       "Approximate size to download 1.3 MB\n",
       "\r",
       "[ | ]\r",
       "[ / ]\r",
       "[OK!]\n",
       "</div>"
      ]
     },
     "metadata": {},
     "output_type": "display_data"
    }
   ],
   "source": [
    "# Annotator that transforms a text column from dataframe into an Annotation ready for NLP\n",
    "\n",
    "from sparknlp_jsl.annotator import *\n",
    "\n",
    "documentAssembler = DocumentAssembler()\\\n",
    "  .setInputCol(\"text\")\\\n",
    "  .setOutputCol(\"document\")\n",
    "\n",
    "# Sentence Detector annotator, processes various sentences per line\n",
    "\n",
    "sentenceDetector = SentenceDetector()\\\n",
    "  .setInputCols([\"document\"])\\\n",
    "  .setOutputCol(\"sentence\")\n",
    "\n",
    "# Tokenizer splits words in a relevant format for NLP\n",
    "\n",
    "tokenizer = Tokenizer()\\\n",
    "  .setInputCols([\"sentence\"])\\\n",
    "  .setOutputCol(\"token\")\n",
    "\n",
    "# Clinical word embeddings trained on PubMED dataset\n",
    "word_embeddings = WordEmbeddingsModel.pretrained(\"embeddings_clinical\", \"en\", \"clinical/models\")\\\n",
    "  .setInputCols([\"sentence\", \"token\"])\\\n",
    "  .setOutputCol(\"embeddings\")\n",
    "\n",
    "# NER model trained on i2b2 (sampled from MIMIC) dataset\n",
    "clinical_ner = NerDLModel.pretrained(\"ner_clinical\", \"en\", \"clinical/models\") \\\n",
    "  .setInputCols([\"sentence\", \"token\", \"embeddings\"]) \\\n",
    "  .setOutputCol(\"ner\")\n",
    "\n",
    "ner_converter = NerConverter() \\\n",
    "  .setInputCols([\"sentence\", \"token\", \"ner\"]) \\\n",
    "  .setOutputCol(\"ner_chunk\")\n",
    "\n",
    "# Assertion model trained on i2b2 (sampled from MIMIC) dataset\n",
    "# coming from sparknlp_jsl.annotator !!\n",
    "clinical_assertion = AssertionDLModel.pretrained(\"assertion_dl\", \"en\", \"clinical/models\") \\\n",
    "    .setInputCols([\"sentence\", \"ner_chunk\", \"embeddings\"]) \\\n",
    "    .setOutputCol(\"assertion\")\n",
    "    \n",
    "nlpPipeline = Pipeline(stages=[\n",
    "    documentAssembler, \n",
    "    sentenceDetector,\n",
    "    tokenizer,\n",
    "    word_embeddings,\n",
    "    clinical_ner,\n",
    "    ner_converter,\n",
    "    clinical_assertion\n",
    "    ])\n",
    "\n",
    "empty_data = spark.createDataFrame([[\"\"]]).toDF(\"text\")\n",
    "\n",
    "model = nlpPipeline.fit(empty_data)\n"
   ]
  },
  {
   "cell_type": "code",
   "execution_count": null,
   "metadata": {
    "colab": {
     "base_uri": "https://localhost:8080/",
     "height": 212
    },
    "colab_type": "code",
    "id": "OP0I7ELJ0his",
    "outputId": "967a3710-f377-46db-a279-fb6b061d1387"
   },
   "outputs": [],
   "source": [
    "%sh\n",
    "\n",
    "wget https://s3.amazonaws.com/auxdata.johnsnowlabs.com/public/resources/en/pubmed/pubmed_sample_text_small.csv\n"
   ]
  },
  {
   "cell_type": "code",
   "execution_count": 9,
   "metadata": {},
   "outputs": [
    {
     "data": {
      "text/html": [
       "<style scoped>\n",
       "  .table-result-container {\n",
       "    max-height: 300px;\n",
       "    overflow: auto;\n",
       "  }\n",
       "  table, th, td {\n",
       "    border: 1px solid black;\n",
       "    border-collapse: collapse;\n",
       "  }\n",
       "  th, td {\n",
       "    padding: 5px;\n",
       "  }\n",
       "  th {\n",
       "    text-align: left;\n",
       "  }\n",
       "</style><div class='table-result-container'><table class='table-result'><thead style='background-color: white'><tr><th>path</th><th>name</th><th>size</th></tr></thead><tbody><tr><td>file:/databricks/driver/conf/</td><td>conf/</td><td>4096</td></tr><tr><td>file:/databricks/driver/ganglia/</td><td>ganglia/</td><td>4096</td></tr><tr><td>file:/databricks/driver/derby.log</td><td>derby.log</td><td>726</td></tr><tr><td>file:/databricks/driver/eventlogs/</td><td>eventlogs/</td><td>4096</td></tr><tr><td>file:/databricks/driver/pubmed_sample_text_small.csv</td><td>pubmed_sample_text_small.csv</td><td>9363435</td></tr><tr><td>file:/databricks/driver/logs/</td><td>logs/</td><td>4096</td></tr></tbody></table></div>"
      ]
     },
     "metadata": {},
     "output_type": "display_data"
    }
   ],
   "source": [
    "%fs ls \"file:/databricks/driver\""
   ]
  },
  {
   "cell_type": "code",
   "execution_count": 10,
   "metadata": {},
   "outputs": [
    {
     "data": {
      "text/html": [
       "<style scoped>\n",
       "  .table-result-container {\n",
       "    max-height: 300px;\n",
       "    overflow: auto;\n",
       "  }\n",
       "  table, th, td {\n",
       "    border: 1px solid black;\n",
       "    border-collapse: collapse;\n",
       "  }\n",
       "  th, td {\n",
       "    padding: 5px;\n",
       "  }\n",
       "  th {\n",
       "    text-align: left;\n",
       "  }\n",
       "</style><div class='table-result-container'><table class='table-result'><thead style='background-color: white'><tr><th>path</th><th>name</th><th>size</th></tr></thead><tbody><tr><td>dbfs:/FileStore/</td><td>FileStore/</td><td>0</td></tr><tr><td>dbfs:/GMB_NER.conll</td><td>GMB_NER.conll</td><td>1663772</td></tr><tr><td>dbfs:/andres/</td><td>andres/</td><td>0</td></tr><tr><td>dbfs:/cluster-logs/</td><td>cluster-logs/</td><td>0</td></tr><tr><td>dbfs:/context-spell-checker/</td><td>context-spell-checker/</td><td>0</td></tr><tr><td>dbfs:/databricks/</td><td>databricks/</td><td>0</td></tr><tr><td>dbfs:/databricks-datasets/</td><td>databricks-datasets/</td><td>0</td></tr><tr><td>dbfs:/databricks-results/</td><td>databricks-results/</td><td>0</td></tr><tr><td>dbfs:/datasets/</td><td>datasets/</td><td>0</td></tr><tr><td>dbfs:/ensemble_serialized/</td><td>ensemble_serialized/</td><td>0</td></tr><tr><td>dbfs:/gnm_ner_dataset.csv</td><td>gnm_ner_dataset.csv</td><td>15208151</td></tr><tr><td>dbfs:/gnm_test.parquet/</td><td>gnm_test.parquet/</td><td>0</td></tr><tr><td>dbfs:/local_disk0/</td><td>local_disk0/</td><td>0</td></tr><tr><td>dbfs:/ls/</td><td>ls/</td><td>0</td></tr><tr><td>dbfs:/ml/</td><td>ml/</td><td>0</td></tr><tr><td>dbfs:/mnt/</td><td>mnt/</td><td>0</td></tr><tr><td>dbfs:/models/</td><td>models/</td><td>0</td></tr><tr><td>dbfs:/my_glove/</td><td>my_glove/</td><td>0</td></tr><tr><td>dbfs:/my_glove_include/</td><td>my_glove_include/</td><td>0</td></tr><tr><td>dbfs:/news_category_test.csv</td><td>news_category_test.csv</td><td>1504408</td></tr><tr><td>dbfs:/news_category_train.csv</td><td>news_category_train.csv</td><td>24032125</td></tr><tr><td>dbfs:/ocr/</td><td>ocr/</td><td>0</td></tr><tr><td>dbfs:/pip_wo_embedd/</td><td>pip_wo_embedd/</td><td>0</td></tr><tr><td>dbfs:/pubmed_sample_text_small.csv</td><td>pubmed_sample_text_small.csv</td><td>9363435</td></tr><tr><td>dbfs:/test/</td><td>test/</td><td>0</td></tr><tr><td>dbfs:/tmp/</td><td>tmp/</td><td>0</td></tr><tr><td>dbfs:/tmpembd_glove-test/</td><td>tmpembd_glove-test/</td><td>0</td></tr><tr><td>dbfs:/user/</td><td>user/</td><td>0</td></tr></tbody></table></div>"
      ]
     },
     "metadata": {},
     "output_type": "display_data"
    }
   ],
   "source": [
    "%fs ls \"dbfs:/\""
   ]
  },
  {
   "cell_type": "code",
   "execution_count": 11,
   "metadata": {},
   "outputs": [],
   "source": [
    "dbutils.fs.cp(\"file:/databricks/driver/pubmed_sample_text_small.csv\", \"dbfs:/\")\n",
    "\n",
    "#this is already in dbfs"
   ]
  },
  {
   "cell_type": "code",
   "execution_count": 12,
   "metadata": {
    "colab": {
     "base_uri": "https://localhost:8080/",
     "height": 478
    },
    "colab_type": "code",
    "id": "Z9UyX1Tx-vA0",
    "outputId": "f74ad3da-9e88-4bf4-f8ba-2f1188d81aee"
   },
   "outputs": [
    {
     "data": {
      "text/html": [
       "<style scoped>\n",
       "  .ansiout {\n",
       "    display: block;\n",
       "    unicode-bidi: embed;\n",
       "    white-space: pre-wrap;\n",
       "    word-wrap: break-word;\n",
       "    word-break: break-all;\n",
       "    font-family: \"Source Code Pro\", \"Menlo\", monospace;;\n",
       "    font-size: 13px;\n",
       "    color: #555;\n",
       "    margin-left: 4px;\n",
       "    line-height: 19px;\n",
       "  }\n",
       "</style>\n",
       "<div class=\"ansiout\">+--------------------------------------------------+\n",
       "                                              text|\n",
       "+--------------------------------------------------+\n",
       "Studies of the past several decades have provid...|\n",
       "Neurons in the rostroventrolateral medulla (RVL...|\n",
       "In a model of psychological dependence, a very ...|\n",
       "To determine the functional alterations of the ...|\n",
       "&#34;&#34;&#34;A new scheme has been described for continuo...|\n",
       "OBJECTIVE: Although present treatment programs ...|\n",
       "PURPOSE: To compare image quality and lesion de...|\n",
       "The identification of gluten peptides eliciting...|\n",
       "In two experiments, undergraduates processed a ...|\n",
       "The author analyses certain aspects of the narr...|\n",
       "BACKGROUND: The associations between diet and c...|\n",
       "Properdin type I deficiency is characterised by...|\n",
       "BACKGROUND: A transjugular intrahepatic portosy...|\n",
       "AIM: To study the activation of cytotoxic T lym...|\n",
       "Type II transmembrane serine proteases are an e...|\n",
       "This paper describes a Japanese logographic cha...|\n",
       "Immunoscintigraphy with 111In-labeled anti-CEA-...|\n",
       "Arene ligand exchange in the (eta(6)-arene)Cr(C...|\n",
       "The whole process of EAFP protein monoclinic cr...|\n",
       "In this case report we illustrate our experienc...|\n",
       "+--------------------------------------------------+\n",
       "only showing top 20 rows\n",
       "\n",
       "</div>"
      ]
     },
     "metadata": {},
     "output_type": "display_data"
    }
   ],
   "source": [
    "import pyspark.sql.functions as F\n",
    "\n",
    "pubMedDF = spark.read\\\n",
    "                .option(\"header\", \"true\")\\\n",
    "                .csv(\"pubmed_sample_text_small.csv\").repartition(4)\n",
    "                \n",
    "pubMedDF.show(truncate=50)"
   ]
  },
  {
   "cell_type": "code",
   "execution_count": 13,
   "metadata": {
    "colab": {},
    "colab_type": "code",
    "id": "7HdysGLU-xfP"
   },
   "outputs": [
    {
     "data": {
      "text/html": [
       "<style scoped>\n",
       "  .ansiout {\n",
       "    display: block;\n",
       "    unicode-bidi: embed;\n",
       "    white-space: pre-wrap;\n",
       "    word-wrap: break-word;\n",
       "    word-break: break-all;\n",
       "    font-family: \"Source Code Pro\", \"Menlo\", monospace;;\n",
       "    font-size: 13px;\n",
       "    color: #555;\n",
       "    margin-left: 4px;\n",
       "    line-height: 19px;\n",
       "  }\n",
       "</style>\n",
       "<div class=\"ansiout\"></div>"
      ]
     },
     "metadata": {},
     "output_type": "display_data"
    }
   ],
   "source": [
    "result = model.transform(pubMedDF.limit(100))"
   ]
  },
  {
   "cell_type": "code",
   "execution_count": 14,
   "metadata": {
    "colab": {
     "base_uri": "https://localhost:8080/",
     "height": 478
    },
    "colab_type": "code",
    "id": "tjsXUCZaNcKb",
    "outputId": "f7edbeef-e6d0-4b2a-89cc-314cebfba7b6"
   },
   "outputs": [
    {
     "data": {
      "text/html": [
       "<style scoped>\n",
       "  .ansiout {\n",
       "    display: block;\n",
       "    unicode-bidi: embed;\n",
       "    white-space: pre-wrap;\n",
       "    word-wrap: break-word;\n",
       "    word-break: break-all;\n",
       "    font-family: \"Source Code Pro\", \"Menlo\", monospace;;\n",
       "    font-size: 13px;\n",
       "    color: #555;\n",
       "    margin-left: 4px;\n",
       "    line-height: 19px;\n",
       "  }\n",
       "</style>\n",
       "<div class=\"ansiout\">+--------------------+--------------------+--------------------+--------------------+--------------------+--------------------+--------------------+--------------------+\n",
       "                text|            document|            sentence|               token|          embeddings|                 ner|           ner_chunk|           assertion|\n",
       "+--------------------+--------------------+--------------------+--------------------+--------------------+--------------------+--------------------+--------------------+\n",
       "Studies of the pa...|[[document, 0, 84...|[[document, 0, 17...|[[token, 0, 6, St...|[[word_embeddings...|[[named_entity, 0...|[[chunk, 139, 169...|[[assertion, 139,...|\n",
       "Neurons in the ro...|[[document, 0, 15...|[[document, 0, 12...|[[token, 0, 6, Ne...|[[word_embeddings...|[[named_entity, 0...|[[chunk, 58, 81, ...|[[assertion, 58, ...|\n",
       "In a model of psy...|[[document, 0, 10...|[[document, 0, 23...|[[token, 0, 1, In...|[[word_embeddings...|[[named_entity, 0...|[[chunk, 14, 37, ...|[[assertion, 14, ...|\n",
       "To determine the ...|[[document, 0, 10...|[[document, 0, 36...|[[token, 0, 1, To...|[[word_embeddings...|[[named_entity, 0...|[[chunk, 13, 81, ...|[[assertion, 13, ...|\n",
       "&#34;&#34;&#34;A new scheme h...|[[document, 0, 16...|[[document, 0, 10...|[[token, 0, 2, &#34;&#34;...|[[word_embeddings...|[[named_entity, 0...|[[chunk, 39, 68, ...|[[assertion, 39, ...|\n",
       "OBJECTIVE: Althou...|[[document, 0, 15...|[[document, 0, 20...|[[token, 0, 8, OB...|[[word_embeddings...|[[named_entity, 0...|[[chunk, 20, 45, ...|[[assertion, 20, ...|\n",
       "PURPOSE: To compa...|[[document, 0, 15...|[[document, 0, 31...|[[token, 0, 6, PU...|[[word_embeddings...|[[named_entity, 0...|[[chunk, 38, 43, ...|[[assertion, 38, ...|\n",
       "The identificatio...|[[document, 0, 17...|[[document, 0, 15...|[[token, 0, 2, Th...|[[word_embeddings...|[[named_entity, 0...|[[chunk, 22, 36, ...|[[assertion, 22, ...|\n",
       "In two experiment...|[[document, 0, 19...|[[document, 0, 14...|[[token, 0, 1, In...|[[word_embeddings...|[[named_entity, 0...|[[chunk, 69, 90, ...|[[assertion, 69, ...|\n",
       "The author analys...|[[document, 0, 13...|[[document, 0, 29...|[[token, 0, 2, Th...|[[word_embeddings...|[[named_entity, 0...|[[chunk, 56, 103,...|[[assertion, 56, ...|\n",
       "BACKGROUND: The a...|[[document, 0, 69...|[[document, 0, 13...|[[token, 0, 9, BA...|[[word_embeddings...|[[named_entity, 0...|[[chunk, 46, 51, ...|[[assertion, 46, ...|\n",
       "Properdin type I ...|[[document, 0, 10...|[[document, 0, 16...|[[token, 0, 8, Pr...|[[word_embeddings...|[[named_entity, 0...|[[chunk, 0, 26, P...|[[assertion, 0, 2...|\n",
       "BACKGROUND: A tra...|[[document, 0, 16...|[[document, 0, 17...|[[token, 0, 9, BA...|[[word_embeddings...|[[named_entity, 0...|[[chunk, 12, 58, ...|[[assertion, 12, ...|\n",
       "AIM: To study the...|[[document, 0, 16...|[[document, 0, 26...|[[token, 0, 2, AI...|[[word_embeddings...|[[named_entity, 0...|[[chunk, 32, 54, ...|[[assertion, 32, ...|\n",
       "Type II transmemb...|[[document, 0, 16...|[[document, 0, 15...|[[token, 0, 3, Ty...|[[word_embeddings...|[[named_entity, 0...|[[chunk, 0, 37, T...|[[assertion, 0, 3...|\n",
       "This paper descri...|[[document, 0, 74...|[[document, 0, 52...|[[token, 0, 3, Th...|[[word_embeddings...|[[named_entity, 0...|[[chunk, 95, 105,...|[[assertion, 95, ...|\n",
       "Immunoscintigraph...|[[document, 0, 99...|[[document, 0, 20...|[[token, 0, 17, I...|[[word_embeddings...|[[named_entity, 0...|[[chunk, 0, 17, I...|[[assertion, 0, 1...|\n",
       "Arene ligand exch...|[[document, 0, 13...|[[document, 0, 14...|[[token, 0, 4, Ar...|[[word_embeddings...|[[named_entity, 0...|[[chunk, 98, 145,...|[[assertion, 98, ...|\n",
       "The whole process...|[[document, 0, 13...|[[document, 0, 13...|[[token, 0, 2, Th...|[[word_embeddings...|[[named_entity, 0...|[[chunk, 21, 43, ...|[[assertion, 21, ...|\n",
       "In this case repo...|[[document, 0, 57...|[[document, 0, 15...|[[token, 0, 1, In...|[[word_embeddings...|[[named_entity, 0...|[[chunk, 54, 88, ...|[[assertion, 54, ...|\n",
       "+--------------------+--------------------+--------------------+--------------------+--------------------+--------------------+--------------------+--------------------+\n",
       "only showing top 20 rows\n",
       "\n",
       "</div>"
      ]
     },
     "metadata": {},
     "output_type": "display_data"
    }
   ],
   "source": [
    "result.show()"
   ]
  },
  {
   "cell_type": "code",
   "execution_count": 15,
   "metadata": {
    "colab": {
     "base_uri": "https://localhost:8080/",
     "height": 90
    },
    "colab_type": "code",
    "id": "8OwYh1r6WU5B",
    "outputId": "3d3b0531-fd69-4ec0-a392-c1e33801eae0"
   },
   "outputs": [
    {
     "data": {
      "text/html": [
       "<style scoped>\n",
       "  .ansiout {\n",
       "    display: block;\n",
       "    unicode-bidi: embed;\n",
       "    white-space: pre-wrap;\n",
       "    word-wrap: break-word;\n",
       "    word-break: break-all;\n",
       "    font-family: \"Source Code Pro\", \"Menlo\", monospace;;\n",
       "    font-size: 13px;\n",
       "    color: #555;\n",
       "    margin-left: 4px;\n",
       "    line-height: 19px;\n",
       "  }\n",
       "</style>\n",
       "<div class=\"ansiout\">Out[20]: [Row(text=&#39;Studies of the past several decades have provided major insights into thestructural organization of biological membranes and mechanisms of many membranemolecular machines. However, the origin(s) of the membrane(s) and membraneproteins remains enigmatic. We discuss different concepts of the origin and earlyevolution of membranes with a focus on the evolution of the (im)permeability tocharged molecules such as proteins, nucleic acids and small ions. Reconstruction of the evolution of F-type and A/V-type membrane ATPases (ATP synthases), whichare either proton- or sodium-dependent, might help us to understand not only the origin of membrane bioenergetics but also of membranes themselves. We argue that evolution of biological membranes occurred as a process of co-evolution of lipid bilayers, membrane proteins and membrane bioenergetics.&#39;),\n",
       " Row(text=&#39;Neurons in the rostroventrolateral medulla (RVLM) mediate baroreflex regulation(BR) of spinal sympathetic preganglionic neurons. Previously, our laboratory has shown that recovery of BR occurs in the rat after spinal hemisection. (Zahner MR,Kulikowicz E, and Schramm LP. Am J Physiol Regul Integr Comp Physiol 301:R1584-R1590, 2011). The goal of these experiments was to determine whether theobserved recovery of BR is mediated by the reorganization of ipsilateral pathwaysor by compensation by spared contralateral pathways. To determine this, weinfected the left kidney in rats with the retrograde transynaptic tracer,pseudorabies virus (PRV), either 1 or 8 wk after left spinal hemisection ateither T(3) or T(8), or after a sham lesion. In sham-lesioned rats, PRV infectionof RVLM neurons was bilateral. In all rats with a left hemisection, regardless ofthe location of the lesion (T(3) or T(8)) or postlesion recovery time (1 or 8wk), PRV infection of left RVLM neurons was significantly reduced compared withsham-lesioned rats (P &lt; 0.05). In a separate group of rats, we performed BR testsby measuring responses of left renal sympathetic nerve activity topharmacologically induced decreases and increases in arterial pressure. In ratswith T(8) left hemisection and 8-wk recovery, BR was robust, and acute rightupper thoracic hemisection abolished all BR of left renal sympathetic nerveactivity. Collectively, these data suggest that the recovery of BR is notmediated by reorganization of ipsilateral bulbospinal connections, but instead byimproved efficacy of existing contralateral pathways.&#39;),\n",
       " Row(text=&#39;In a model of psychological dependence, a very stable ethanol intake was induced by a chronic (1-year) intermittent (once a week) exposure to intoxicating amountsof ethanol (24 h choice between ethanol and water, followed by 2.0 g/kg i.p.).After this year, the rats had continuous access to ethanol and water. Stabilitywas shown by the ability of the rats to take the same dose of ethanol (in g/kg)when the concentration was changed from 10 to 20%. To study possible priming orinhibiting effects on ethanol intake, ethanol was injected i.p., first as 20%,40% or 60% of the intake in the 24 h prior to the injection, then as fixed doses of 0.5, 1, and 2 g/kg, and the ethanol intake during the following 24-h periodwas recorded. The results showed that, following a low dose of ethanol, voluntaryethanol intake was increased in rats with a low, and decreased in rats with ahigh, ethanol intake, while high doses of ethanol seemed to decrease voluntaryethanol intake in all rats. The results are discussed in relation to theoriesabout loss of control of drinking and relapse in humans.&#39;)]</div>"
      ]
     },
     "metadata": {},
     "output_type": "display_data"
    }
   ],
   "source": [
    "result.select('text').take(3)"
   ]
  },
  {
   "cell_type": "code",
   "execution_count": 16,
   "metadata": {
    "colab": {
     "base_uri": "https://localhost:8080/",
     "height": 478
    },
    "colab_type": "code",
    "id": "5uBnSe0--_Tn",
    "outputId": "fcc852a9-0a74-4b2a-b793-10778557b2c8"
   },
   "outputs": [
    {
     "data": {
      "text/html": [
       "<style scoped>\n",
       "  .ansiout {\n",
       "    display: block;\n",
       "    unicode-bidi: embed;\n",
       "    white-space: pre-wrap;\n",
       "    word-wrap: break-word;\n",
       "    word-break: break-all;\n",
       "    font-family: \"Source Code Pro\", \"Menlo\", monospace;;\n",
       "    font-size: 13px;\n",
       "    color: #555;\n",
       "    margin-left: 4px;\n",
       "    line-height: 19px;\n",
       "  }\n",
       "</style>\n",
       "<div class=\"ansiout\">+----------------------------------------------------------+-----+---+---------+-------+---------+\n",
       "chunk                                                     |begin|end|ner_label|sent_id|assertion|\n",
       "+----------------------------------------------------------+-----+---+---------+-------+---------+\n",
       "many membranemolecular machines                           |139  |169|TREATMENT|0      |present  |\n",
       "nucleic acids                                             |422  |434|TEST     |5      |present  |\n",
       "small ions                                                |440  |449|PROBLEM  |5      |present  |\n",
       "A/V-type membrane ATPases                                 |498  |522|TREATMENT|6      |present  |\n",
       "ATP synthases                                             |525  |537|PROBLEM  |6      |present  |\n",
       "whichare                                                  |541  |548|PROBLEM  |6      |present  |\n",
       "proton                                                    |557  |562|TEST     |6      |present  |\n",
       "sodium-dependent                                          |568  |583|PROBLEM  |6      |absent   |\n",
       "biological membranes                                      |721  |740|PROBLEM  |7      |present  |\n",
       "lipid bilayers                                            |783  |796|TREATMENT|7      |present  |\n",
       "baroreflex regulation(BR                                  |58   |81 |TEST     |0      |present  |\n",
       "BR                                                        |183  |184|TEST     |1      |present  |\n",
       "these experiments                                         |346  |362|TEST     |4      |present  |\n",
       "BR                                                        |413  |414|TEST     |4      |present  |\n",
       "the retrograde transynaptic tracer,pseudorabies virus (PRV|585  |642|PROBLEM  |5      |present  |\n",
       "left spinal hemisection ateither                          |669  |700|TREATMENT|5      |present  |\n",
       "a sham lesion                                             |725  |737|PROBLEM  |5      |possible |\n",
       "PRV infectionof                                           |763  |777|PROBLEM  |6      |present  |\n",
       "a left hemisection                                        |824  |841|PROBLEM  |7      |present  |\n",
       "the lesion                                                |873  |882|PROBLEM  |7      |present  |\n",
       "+----------------------------------------------------------+-----+---+---------+-------+---------+\n",
       "only showing top 20 rows\n",
       "\n",
       "</div>"
      ]
     },
     "metadata": {},
     "output_type": "display_data"
    }
   ],
   "source": [
    "result.select(F.explode(F.arrays_zip('ner_chunk.result',  'ner_chunk.begin', 'ner_chunk.end', 'ner_chunk.metadata', 'assertion.result')).alias(\"cols\")) \\\n",
    ".select(F.expr(\"cols['0']\").alias(\"chunk\"),\n",
    "        F.expr(\"cols['1']\").alias(\"begin\"),\n",
    "        F.expr(\"cols['2']\").alias(\"end\"),\n",
    "        F.expr(\"cols['3']['entity']\").alias(\"ner_label\"),\n",
    "        F.expr(\"cols['3']['sentence']\").alias(\"sent_id\"),\n",
    "        F.expr(\"cols['4']\").alias(\"assertion\"),).show(truncate=False)\n"
   ]
  },
  {
   "cell_type": "code",
   "execution_count": 17,
   "metadata": {
    "colab": {
     "base_uri": "https://localhost:8080/",
     "height": 480
    },
    "colab_type": "code",
    "id": "pgiUnshFN-Uu",
    "outputId": "e090f285-e99e-4074-d168-5794dc7f852f"
   },
   "outputs": [
    {
     "data": {
      "text/html": [
       "<div>\n",
       "<style scoped>\n",
       "    .dataframe tbody tr th:only-of-type {\n",
       "        vertical-align: middle;\n",
       "    }\n",
       "\n",
       "    .dataframe tbody tr th {\n",
       "        vertical-align: top;\n",
       "    }\n",
       "\n",
       "    .dataframe thead th {\n",
       "        text-align: right;\n",
       "    }\n",
       "</style>\n",
       "<table border=\"1\" class=\"dataframe\">\n",
       "  <thead>\n",
       "    <tr style=\"text-align: right;\">\n",
       "      <th></th>\n",
       "      <th>chunks</th>\n",
       "      <th>entities</th>\n",
       "      <th>assertion</th>\n",
       "    </tr>\n",
       "  </thead>\n",
       "  <tbody>\n",
       "    <tr>\n",
       "      <th>0</th>\n",
       "      <td>gestational diabetes mellitus</td>\n",
       "      <td>PROBLEM</td>\n",
       "      <td>present</td>\n",
       "    </tr>\n",
       "    <tr>\n",
       "      <th>1</th>\n",
       "      <td>type two diabetes mellitus</td>\n",
       "      <td>PROBLEM</td>\n",
       "      <td>present</td>\n",
       "    </tr>\n",
       "    <tr>\n",
       "      <th>2</th>\n",
       "      <td>T2DM ),</td>\n",
       "      <td>PROBLEM</td>\n",
       "      <td>present</td>\n",
       "    </tr>\n",
       "    <tr>\n",
       "      <th>3</th>\n",
       "      <td>HTG-induced pancreatitis</td>\n",
       "      <td>PROBLEM</td>\n",
       "      <td>present</td>\n",
       "    </tr>\n",
       "    <tr>\n",
       "      <th>4</th>\n",
       "      <td>an acute hepatitis</td>\n",
       "      <td>PROBLEM</td>\n",
       "      <td>present</td>\n",
       "    </tr>\n",
       "    <tr>\n",
       "      <th>5</th>\n",
       "      <td>obesity</td>\n",
       "      <td>PROBLEM</td>\n",
       "      <td>present</td>\n",
       "    </tr>\n",
       "    <tr>\n",
       "      <th>6</th>\n",
       "      <td>a body mass index</td>\n",
       "      <td>PROBLEM</td>\n",
       "      <td>present</td>\n",
       "    </tr>\n",
       "    <tr>\n",
       "      <th>7</th>\n",
       "      <td>BMI ) of 33.5 kg/m2</td>\n",
       "      <td>PROBLEM</td>\n",
       "      <td>present</td>\n",
       "    </tr>\n",
       "    <tr>\n",
       "      <th>8</th>\n",
       "      <td>polyuria</td>\n",
       "      <td>PROBLEM</td>\n",
       "      <td>present</td>\n",
       "    </tr>\n",
       "    <tr>\n",
       "      <th>9</th>\n",
       "      <td>polydipsia</td>\n",
       "      <td>PROBLEM</td>\n",
       "      <td>present</td>\n",
       "    </tr>\n",
       "    <tr>\n",
       "      <th>10</th>\n",
       "      <td>poor appetite</td>\n",
       "      <td>PROBLEM</td>\n",
       "      <td>present</td>\n",
       "    </tr>\n",
       "    <tr>\n",
       "      <th>11</th>\n",
       "      <td>vomiting</td>\n",
       "      <td>PROBLEM</td>\n",
       "      <td>present</td>\n",
       "    </tr>\n",
       "    <tr>\n",
       "      <th>12</th>\n",
       "      <td>amoxicillin</td>\n",
       "      <td>TREATMENT</td>\n",
       "      <td>present</td>\n",
       "    </tr>\n",
       "    <tr>\n",
       "      <th>13</th>\n",
       "      <td>a respiratory tract infection</td>\n",
       "      <td>PROBLEM</td>\n",
       "      <td>present</td>\n",
       "    </tr>\n",
       "    <tr>\n",
       "      <th>14</th>\n",
       "      <td>metformin</td>\n",
       "      <td>TREATMENT</td>\n",
       "      <td>present</td>\n",
       "    </tr>\n",
       "    <tr>\n",
       "      <th>15</th>\n",
       "      <td>glipizide</td>\n",
       "      <td>TREATMENT</td>\n",
       "      <td>present</td>\n",
       "    </tr>\n",
       "    <tr>\n",
       "      <th>16</th>\n",
       "      <td>dapagliflozin</td>\n",
       "      <td>TREATMENT</td>\n",
       "      <td>present</td>\n",
       "    </tr>\n",
       "    <tr>\n",
       "      <th>17</th>\n",
       "      <td>T2DM</td>\n",
       "      <td>PROBLEM</td>\n",
       "      <td>present</td>\n",
       "    </tr>\n",
       "    <tr>\n",
       "      <th>18</th>\n",
       "      <td>atorvastatin</td>\n",
       "      <td>TREATMENT</td>\n",
       "      <td>present</td>\n",
       "    </tr>\n",
       "    <tr>\n",
       "      <th>19</th>\n",
       "      <td>gemfibrozil</td>\n",
       "      <td>TREATMENT</td>\n",
       "      <td>present</td>\n",
       "    </tr>\n",
       "    <tr>\n",
       "      <th>20</th>\n",
       "      <td>HTG</td>\n",
       "      <td>PROBLEM</td>\n",
       "      <td>present</td>\n",
       "    </tr>\n",
       "    <tr>\n",
       "      <th>21</th>\n",
       "      <td>dapagliflozin</td>\n",
       "      <td>TREATMENT</td>\n",
       "      <td>present</td>\n",
       "    </tr>\n",
       "    <tr>\n",
       "      <th>22</th>\n",
       "      <td>Physical examination</td>\n",
       "      <td>TEST</td>\n",
       "      <td>present</td>\n",
       "    </tr>\n",
       "    <tr>\n",
       "      <th>23</th>\n",
       "      <td>her abdominal examination</td>\n",
       "      <td>TEST</td>\n",
       "      <td>present</td>\n",
       "    </tr>\n",
       "    <tr>\n",
       "      <th>24</th>\n",
       "      <td>tenderness</td>\n",
       "      <td>PROBLEM</td>\n",
       "      <td>absent</td>\n",
       "    </tr>\n",
       "    <tr>\n",
       "      <th>25</th>\n",
       "      <td>guarding</td>\n",
       "      <td>PROBLEM</td>\n",
       "      <td>absent</td>\n",
       "    </tr>\n",
       "    <tr>\n",
       "      <th>26</th>\n",
       "      <td>rigidity</td>\n",
       "      <td>PROBLEM</td>\n",
       "      <td>absent</td>\n",
       "    </tr>\n",
       "    <tr>\n",
       "      <th>27</th>\n",
       "      <td>serum glucose</td>\n",
       "      <td>TEST</td>\n",
       "      <td>present</td>\n",
       "    </tr>\n",
       "    <tr>\n",
       "      <th>28</th>\n",
       "      <td>mg/dl</td>\n",
       "      <td>TEST</td>\n",
       "      <td>present</td>\n",
       "    </tr>\n",
       "    <tr>\n",
       "      <th>29</th>\n",
       "      <td>bicarbonate</td>\n",
       "      <td>TEST</td>\n",
       "      <td>present</td>\n",
       "    </tr>\n",
       "    <tr>\n",
       "      <th>...</th>\n",
       "      <td>...</td>\n",
       "      <td>...</td>\n",
       "      <td>...</td>\n",
       "    </tr>\n",
       "    <tr>\n",
       "      <th>41</th>\n",
       "      <td>blood samples</td>\n",
       "      <td>TEST</td>\n",
       "      <td>absent</td>\n",
       "    </tr>\n",
       "    <tr>\n",
       "      <th>42</th>\n",
       "      <td>hemolyzing</td>\n",
       "      <td>TEST</td>\n",
       "      <td>present</td>\n",
       "    </tr>\n",
       "    <tr>\n",
       "      <th>43</th>\n",
       "      <td>significant lipemia</td>\n",
       "      <td>PROBLEM</td>\n",
       "      <td>present</td>\n",
       "    </tr>\n",
       "    <tr>\n",
       "      <th>44</th>\n",
       "      <td>starvation ketosis</td>\n",
       "      <td>PROBLEM</td>\n",
       "      <td>present</td>\n",
       "    </tr>\n",
       "    <tr>\n",
       "      <th>45</th>\n",
       "      <td>poor oral intake</td>\n",
       "      <td>PROBLEM</td>\n",
       "      <td>present</td>\n",
       "    </tr>\n",
       "    <tr>\n",
       "      <th>46</th>\n",
       "      <td>serum chemistry</td>\n",
       "      <td>TEST</td>\n",
       "      <td>present</td>\n",
       "    </tr>\n",
       "    <tr>\n",
       "      <th>47</th>\n",
       "      <td>her glucose</td>\n",
       "      <td>TEST</td>\n",
       "      <td>present</td>\n",
       "    </tr>\n",
       "    <tr>\n",
       "      <th>48</th>\n",
       "      <td>the anion gap</td>\n",
       "      <td>TEST</td>\n",
       "      <td>present</td>\n",
       "    </tr>\n",
       "    <tr>\n",
       "      <th>49</th>\n",
       "      <td>still elevated</td>\n",
       "      <td>PROBLEM</td>\n",
       "      <td>present</td>\n",
       "    </tr>\n",
       "    <tr>\n",
       "      <th>50</th>\n",
       "      <td>serum bicarbonate</td>\n",
       "      <td>TEST</td>\n",
       "      <td>present</td>\n",
       "    </tr>\n",
       "    <tr>\n",
       "      <th>51</th>\n",
       "      <td>triglyceride level</td>\n",
       "      <td>TEST</td>\n",
       "      <td>present</td>\n",
       "    </tr>\n",
       "    <tr>\n",
       "      <th>52</th>\n",
       "      <td>mg/dL</td>\n",
       "      <td>TEST</td>\n",
       "      <td>present</td>\n",
       "    </tr>\n",
       "    <tr>\n",
       "      <th>53</th>\n",
       "      <td>lipase</td>\n",
       "      <td>TEST</td>\n",
       "      <td>present</td>\n",
       "    </tr>\n",
       "    <tr>\n",
       "      <th>54</th>\n",
       "      <td>U/L</td>\n",
       "      <td>TEST</td>\n",
       "      <td>present</td>\n",
       "    </tr>\n",
       "    <tr>\n",
       "      <th>55</th>\n",
       "      <td>The β-hydroxybutyrate level</td>\n",
       "      <td>TEST</td>\n",
       "      <td>present</td>\n",
       "    </tr>\n",
       "    <tr>\n",
       "      <th>56</th>\n",
       "      <td>analysis</td>\n",
       "      <td>TEST</td>\n",
       "      <td>present</td>\n",
       "    </tr>\n",
       "    <tr>\n",
       "      <th>57</th>\n",
       "      <td>interference from turbidity</td>\n",
       "      <td>PROBLEM</td>\n",
       "      <td>present</td>\n",
       "    </tr>\n",
       "    <tr>\n",
       "      <th>58</th>\n",
       "      <td>lipemia</td>\n",
       "      <td>PROBLEM</td>\n",
       "      <td>present</td>\n",
       "    </tr>\n",
       "    <tr>\n",
       "      <th>59</th>\n",
       "      <td>an insulin drip</td>\n",
       "      <td>TREATMENT</td>\n",
       "      <td>present</td>\n",
       "    </tr>\n",
       "    <tr>\n",
       "      <th>60</th>\n",
       "      <td>euDKA</td>\n",
       "      <td>PROBLEM</td>\n",
       "      <td>present</td>\n",
       "    </tr>\n",
       "    <tr>\n",
       "      <th>61</th>\n",
       "      <td>HTG</td>\n",
       "      <td>PROBLEM</td>\n",
       "      <td>present</td>\n",
       "    </tr>\n",
       "    <tr>\n",
       "      <th>62</th>\n",
       "      <td>a reduction in the anion gap</td>\n",
       "      <td>PROBLEM</td>\n",
       "      <td>present</td>\n",
       "    </tr>\n",
       "    <tr>\n",
       "      <th>63</th>\n",
       "      <td>triglycerides</td>\n",
       "      <td>TEST</td>\n",
       "      <td>present</td>\n",
       "    </tr>\n",
       "    <tr>\n",
       "      <th>64</th>\n",
       "      <td>Her euDKA</td>\n",
       "      <td>PROBLEM</td>\n",
       "      <td>present</td>\n",
       "    </tr>\n",
       "    <tr>\n",
       "      <th>65</th>\n",
       "      <td>her respiratory tract infection</td>\n",
       "      <td>PROBLEM</td>\n",
       "      <td>present</td>\n",
       "    </tr>\n",
       "    <tr>\n",
       "      <th>66</th>\n",
       "      <td>SGLT2 inhibitor</td>\n",
       "      <td>TREATMENT</td>\n",
       "      <td>present</td>\n",
       "    </tr>\n",
       "    <tr>\n",
       "      <th>67</th>\n",
       "      <td>insulin glargine</td>\n",
       "      <td>TREATMENT</td>\n",
       "      <td>present</td>\n",
       "    </tr>\n",
       "    <tr>\n",
       "      <th>68</th>\n",
       "      <td>insulin lispro</td>\n",
       "      <td>TREATMENT</td>\n",
       "      <td>present</td>\n",
       "    </tr>\n",
       "    <tr>\n",
       "      <th>69</th>\n",
       "      <td>metformin</td>\n",
       "      <td>TREATMENT</td>\n",
       "      <td>present</td>\n",
       "    </tr>\n",
       "    <tr>\n",
       "      <th>70</th>\n",
       "      <td>all SGLT2 inhibitors</td>\n",
       "      <td>TREATMENT</td>\n",
       "      <td>present</td>\n",
       "    </tr>\n",
       "  </tbody>\n",
       "</table>\n",
       "<p>71 rows × 3 columns</p>\n",
       "</div>"
      ]
     },
     "metadata": {},
     "output_type": "display_data"
    }
   ],
   "source": [
    "import pandas as pd\n",
    "\n",
    "text = '''\n",
    "A 28-year-old female with a history of gestational diabetes mellitus diagnosed eight years prior to presentation and subsequent type two diabetes mellitus ( T2DM ), one prior episode of HTG-induced pancreatitis three years prior to presentation , associated with an acute hepatitis , and obesity with a body mass index ( BMI ) of 33.5 kg/m2 , presented with a one-week history of polyuria , polydipsia , poor appetite , and vomiting . Two weeks prior to presentation , she was treated with a five-day course of amoxicillin for a respiratory tract infection . She was on metformin , glipizide , and dapagliflozin for T2DM and atorvastatin and gemfibrozil for HTG . She had been on dapagliflozin for six months at the time of presentation . Physical examination on presentation was significant for dry oral mucosa ; significantly , her abdominal examination was benign with no tenderness , guarding , or rigidity . Pertinent laboratory findings on admission were : serum glucose 111 mg/dl , bicarbonate 18 mmol/l , anion gap 20 , creatinine 0.4 mg/dL , triglycerides 508 mg/dL , total cholesterol 122 mg/dL , glycated hemoglobin ( HbA1c ) 10% , and venous pH 7.27 . Serum lipase was normal at 43 U/L . Serum acetone levels could not be assessed as blood samples kept hemolyzing due to significant lipemia . The patient was initially admitted for starvation ketosis , as she reported poor oral intake for three days prior to admission . However , serum chemistry obtained six hours after presentation revealed her glucose was 186 mg/dL , the anion gap was still elevated at 21 , serum bicarbonate was 16 mmol/L , triglyceride level peaked at 2050 mg/dL , and lipase was 52 U/L . The β-hydroxybutyrate level was obtained and found to be elevated at 5.29 mmol/L - the original sample was centrifuged and the chylomicron layer removed prior to analysis due to interference from turbidity caused by lipemia again . The patient was treated with an insulin drip for euDKA and HTG with a reduction in the anion gap to 13 and triglycerides to 1400 mg/dL , within 24 hours . Her euDKA was thought to be precipitated by her respiratory tract infection in the setting of SGLT2 inhibitor use . The patient was seen by the endocrinology service and she was discharged on 40 units of insulin glargine at night , 12 units of insulin lispro with meals , and metformin 1000 mg two times a day . It was determined that all SGLT2 inhibitors should be discontinued indefinitely . She had close follow-up with endocrinology post discharge .\n",
    "'''\n",
    "\n",
    "print (text)\n",
    "\n",
    "light_model = LightPipeline(model)\n",
    "\n",
    "light_result = light_model.fullAnnotate(text)[0]\n",
    "\n",
    "chunks=[]\n",
    "entities=[]\n",
    "status=[]\n",
    "\n",
    "for n,m in zip(light_result['ner_chunk'],light_result['assertion']):\n",
    "    \n",
    "    chunks.append(n.result)\n",
    "    entities.append(n.metadata['entity']) \n",
    "    status.append(m.result)\n",
    "        \n",
    "df = pd.DataFrame({'chunks':chunks, 'entities':entities, 'assertion':status})\n",
    "\n",
    "df"
   ]
  },
  {
   "cell_type": "markdown",
   "metadata": {
    "colab_type": "text",
    "id": "0vWIDpk50QfG"
   },
   "source": [
    "## Writing a generic Assertion + NER function"
   ]
  },
  {
   "cell_type": "code",
   "execution_count": 19,
   "metadata": {
    "colab": {},
    "colab_type": "code",
    "id": "ltGPQYr60F6G"
   },
   "outputs": [
    {
     "data": {
      "text/html": [
       "<style scoped>\n",
       "  .ansiout {\n",
       "    display: block;\n",
       "    unicode-bidi: embed;\n",
       "    white-space: pre-wrap;\n",
       "    word-wrap: break-word;\n",
       "    word-break: break-all;\n",
       "    font-family: \"Source Code Pro\", \"Menlo\", monospace;;\n",
       "    font-size: 13px;\n",
       "    color: #555;\n",
       "    margin-left: 4px;\n",
       "    line-height: 19px;\n",
       "  }\n",
       "</style>\n",
       "<div class=\"ansiout\"></div>"
      ]
     },
     "metadata": {},
     "output_type": "display_data"
    }
   ],
   "source": [
    "from pyspark.sql.functions import monotonically_increasing_id\n",
    "\n",
    "\n",
    "def get_base_pipeline (embeddings = 'embeddings_clinical'):\n",
    "\n",
    "  documentAssembler = DocumentAssembler()\\\n",
    "    .setInputCol(\"text\")\\\n",
    "    .setOutputCol(\"document\")\n",
    "\n",
    "  # Sentence Detector annotator, processes various sentences per line\n",
    "\n",
    "  sentenceDetector = SentenceDetector()\\\n",
    "    .setInputCols([\"document\"])\\\n",
    "    .setOutputCol(\"sentence\")\n",
    "\n",
    "  # Tokenizer splits words in a relevant format for NLP\n",
    "\n",
    "  tokenizer = Tokenizer()\\\n",
    "    .setInputCols([\"sentence\"])\\\n",
    "    .setOutputCol(\"token\")\n",
    "\n",
    "  # Clinical word embeddings trained on PubMED dataset\n",
    "  word_embeddings = WordEmbeddingsModel.pretrained(embeddings, \"en\", \"clinical/models\")\\\n",
    "    .setInputCols([\"sentence\", \"token\"])\\\n",
    "    .setOutputCol(\"embeddings\")\n",
    "\n",
    "  empty_data = spark.createDataFrame([[\"\"]]).toDF(\"text\")\n",
    "\n",
    "  model = nlpPipeline.fit(empty_data)\n",
    "\n",
    "  return model\n",
    "\n",
    "\n",
    "\n",
    "def get_clinical_assertion (embeddings, spark_df, nrows = 100, model_name = 'ner_clinical'):\n",
    "\n",
    "  # NER model trained on i2b2 (sampled from MIMIC) dataset\n",
    "  loaded_ner_model = NerDLModel.pretrained(model_name, \"en\", \"clinical/models\") \\\n",
    "    .setInputCols([\"sentence\", \"token\", \"embeddings\"]) \\\n",
    "    .setOutputCol(\"ner\")\n",
    "\n",
    "  ner_converter = NerConverter() \\\n",
    "  .setInputCols([\"sentence\", \"token\", \"ner\"]) \\\n",
    "  .setOutputCol(\"ner_chunk\")\n",
    "\n",
    "  # Assertion model trained on i2b2 (sampled from MIMIC) dataset\n",
    "  # coming from sparknlp_jsl.annotator !!\n",
    "  clinical_assertion = AssertionDLModel.pretrained(\"assertion_dl\", \"en\", \"clinical/models\") \\\n",
    "      .setInputCols([\"sentence\", \"ner_chunk\", \"embeddings\"]) \\\n",
    "      .setOutputCol(\"assertion\")\n",
    "      \n",
    "\n",
    "  base_model = get_base_pipeline (embeddings)\n",
    "\n",
    "  nlpPipeline = Pipeline(stages=[\n",
    "      base_model,\n",
    "      loaded_ner_model,\n",
    "      ner_converter])\n",
    "\n",
    "  empty_data = spark.createDataFrame([[\"\"]]).toDF(\"text\")\n",
    "\n",
    "  model = nlpPipeline.fit(empty_data)\n",
    "\n",
    "  result = model.transform(spark_df.limit(nrows))\n",
    "\n",
    "  result = result.withColumn(\"id\", monotonically_increasing_id())\n",
    "\n",
    "  result_df = result.select(F.explode(F.arrays_zip('ner_chunk.result', 'ner_chunk.metadata', 'assertion.result')).alias(\"cols\")) \\\n",
    "  .select(F.expr(\"cols['0']\").alias(\"chunk\"),\n",
    "        F.expr(\"cols['1']['entity']\").alias(\"ner_label\"),\n",
    "        F.expr(\"cols['2']\").alias(\"assertion\"))\\\n",
    "        .filter(\"ner_label!='O'\")\n",
    "\n",
    "  return result_df"
   ]
  },
  {
   "cell_type": "code",
   "execution_count": 20,
   "metadata": {
    "colab": {
     "base_uri": "https://localhost:8080/",
     "height": 638
    },
    "colab_type": "code",
    "id": "V81zaAe13qLU",
    "outputId": "4d3b3bd0-2410-4d96-dfac-369209ff5c24"
   },
   "outputs": [
    {
     "data": {
      "text/html": [
       "<style scoped>\n",
       "  .ansiout {\n",
       "    display: block;\n",
       "    unicode-bidi: embed;\n",
       "    white-space: pre-wrap;\n",
       "    word-wrap: break-word;\n",
       "    word-break: break-all;\n",
       "    font-family: \"Source Code Pro\", \"Menlo\", monospace;;\n",
       "    font-size: 13px;\n",
       "    color: #555;\n",
       "    margin-left: 4px;\n",
       "    line-height: 19px;\n",
       "  }\n",
       "</style>\n",
       "<div class=\"ansiout\">ner_clinical download started this may take some time.\n",
       "Approximate size to download 13.8 MB\n",
       "\r",
       "[ | ]\r",
       "[OK!]\n",
       "assertion_dl download started this may take some time.\n",
       "Approximate size to download 1.3 MB\n",
       "\r",
       "[ | ]\r",
       "[OK!]\n",
       "embeddings_clinical download started this may take some time.\n",
       "Approximate size to download 1.6 GB\n",
       "\r",
       "[ | ]\r",
       "[OK!]\n",
       "+--------------------+---------+---------+\n",
       "               chunk|ner_label|assertion|\n",
       "+--------------------+---------+---------+\n",
       "many membranemole...|TREATMENT|  present|\n",
       "       nucleic acids|     TEST|  present|\n",
       "          small ions|  PROBLEM|  present|\n",
       "A/V-type membrane...|TREATMENT|  present|\n",
       "       ATP synthases|  PROBLEM|  present|\n",
       "            whichare|  PROBLEM|  present|\n",
       "              proton|     TEST|  present|\n",
       "    sodium-dependent|  PROBLEM|   absent|\n",
       "biological membranes|  PROBLEM|  present|\n",
       "      lipid bilayers|TREATMENT|  present|\n",
       "baroreflex regula...|     TEST|  present|\n",
       "                  BR|     TEST|  present|\n",
       "   these experiments|     TEST|  present|\n",
       "                  BR|     TEST|  present|\n",
       "the retrograde tr...|  PROBLEM|  present|\n",
       "left spinal hemis...|TREATMENT|  present|\n",
       "       a sham lesion|  PROBLEM| possible|\n",
       "     PRV infectionof|  PROBLEM|  present|\n",
       "  a left hemisection|  PROBLEM|  present|\n",
       "          the lesion|  PROBLEM|  present|\n",
       "+--------------------+---------+---------+\n",
       "only showing top 20 rows\n",
       "\n",
       "</div>"
      ]
     },
     "metadata": {},
     "output_type": "display_data"
    }
   ],
   "source": [
    "embeddings = 'embeddings_clinical'\n",
    "\n",
    "model_name = 'ner_clinical'\n",
    "\n",
    "nrows = 100\n",
    "\n",
    "ner_df = get_clinical_assertion (embeddings, pubMedDF, nrows, model_name)\n",
    "\n",
    "ner_df.show()"
   ]
  },
  {
   "cell_type": "code",
   "execution_count": 21,
   "metadata": {},
   "outputs": [
    {
     "data": {
      "text/html": [
       "<style scoped>\n",
       "  .ansiout {\n",
       "    display: block;\n",
       "    unicode-bidi: embed;\n",
       "    white-space: pre-wrap;\n",
       "    word-wrap: break-word;\n",
       "    word-break: break-all;\n",
       "    font-family: \"Source Code Pro\", \"Menlo\", monospace;;\n",
       "    font-size: 13px;\n",
       "    color: #555;\n",
       "    margin-left: 4px;\n",
       "    line-height: 19px;\n",
       "  }\n",
       "</style>\n",
       "<div class=\"ansiout\">Out[28]: &#39;ner_clinical&#39;</div>"
      ]
     },
     "metadata": {},
     "output_type": "display_data"
    }
   ],
   "source": [
    "model_name"
   ]
  },
  {
   "cell_type": "code",
   "execution_count": 22,
   "metadata": {},
   "outputs": [
    {
     "data": {
      "text/html": [
       "<style scoped>\n",
       "  .ansiout {\n",
       "    display: block;\n",
       "    unicode-bidi: embed;\n",
       "    white-space: pre-wrap;\n",
       "    word-wrap: break-word;\n",
       "    word-break: break-all;\n",
       "    font-family: \"Source Code Pro\", \"Menlo\", monospace;;\n",
       "    font-size: 13px;\n",
       "    color: #555;\n",
       "    margin-left: 4px;\n",
       "    line-height: 19px;\n",
       "  }\n",
       "</style>\n",
       "<div class=\"ansiout\">total 0\n",
       "</div>"
      ]
     },
     "metadata": {},
     "output_type": "display_data"
    }
   ],
   "source": [
    "%sh\n",
    "\n",
    "cd ~ && ls -lt"
   ]
  },
  {
   "cell_type": "code",
   "execution_count": 23,
   "metadata": {
    "colab": {
     "base_uri": "https://localhost:8080/",
     "height": 638
    },
    "colab_type": "code",
    "id": "LmLPlfCw5hh-",
    "outputId": "4134bfa6-271e-42a1-e8ec-cb57b9928cb1"
   },
   "outputs": [
    {
     "data": {
      "text/html": [
       "<style scoped>\n",
       "  .ansiout {\n",
       "    display: block;\n",
       "    unicode-bidi: embed;\n",
       "    white-space: pre-wrap;\n",
       "    word-wrap: break-word;\n",
       "    word-break: break-all;\n",
       "    font-family: \"Source Code Pro\", \"Menlo\", monospace;;\n",
       "    font-size: 13px;\n",
       "    color: #555;\n",
       "    margin-left: 4px;\n",
       "    line-height: 19px;\n",
       "  }\n",
       "</style>\n",
       "<div class=\"ansiout\">ner_posology download started this may take some time.\n",
       "Approximate size to download 13.7 MB\n",
       "\r",
       "[ | ]\r",
       "[ / ]\r",
       "[OK!]\n",
       "assertion_dl download started this may take some time.\n",
       "Approximate size to download 1.3 MB\n",
       "\r",
       "[ | ]\r",
       "[OK!]\n",
       "embeddings_clinical download started this may take some time.\n",
       "Approximate size to download 1.6 GB\n",
       "\r",
       "[ | ]\r",
       "[OK!]\n",
       "+--------------------+---------+---------+\n",
       "               chunk|ner_label|assertion|\n",
       "+--------------------+---------+---------+\n",
       "Zahner MR,Kulikow...|     DRUG|  present|\n",
       "intoxicating amou...|     DRUG|  present|\n",
       "             ethanol|     DRUG|  present|\n",
       "            2.0 g/kg| STRENGTH|  present|\n",
       "             ethanol|     DRUG| possible|\n",
       "             ethanol|     DRUG|  present|\n",
       "            injected|     FORM|  present|\n",
       "                 i.p|    ROUTE|  present|\n",
       "           injection|     FORM|  present|\n",
       "         fixed doses|   DOSAGE|  present|\n",
       "                 0.5| STRENGTH|     null|\n",
       "             ethanol|     DRUG|     null|\n",
       "             ethanol|     DRUG|     null|\n",
       "     methamphetamine|     DRUG| possible|\n",
       "     methamphetamine|     DRUG|  present|\n",
       "         apomorphine|     DRUG|  present|\n",
       "           sulpiride|     DRUG| possible|\n",
       "     methamphetamine|     DRUG|  present|\n",
       "     methamphetamine|     DRUG|  present|\n",
       "             6 mg/kg| STRENGTH|  present|\n",
       "+--------------------+---------+---------+\n",
       "only showing top 20 rows\n",
       "\n",
       "</div>"
      ]
     },
     "metadata": {},
     "output_type": "display_data"
    }
   ],
   "source": [
    "embeddings = 'embeddings_clinical'\n",
    "\n",
    "model_name = 'ner_posology'\n",
    "\n",
    "nrows = 100\n",
    "\n",
    "ner_df = get_clinical_assertion (embeddings, pubMedDF, nrows, model_name)\n",
    "\n",
    "ner_df.show()"
   ]
  },
  {
   "cell_type": "code",
   "execution_count": 24,
   "metadata": {
    "colab": {
     "base_uri": "https://localhost:8080/",
     "height": 301
    },
    "colab_type": "code",
    "id": "djV_FKNtYcoP",
    "outputId": "117da14a-39a4-4732-f1e5-ec65131a1ed0"
   },
   "outputs": [
    {
     "data": {
      "text/html": [
       "<style scoped>\n",
       "  .ansiout {\n",
       "    display: block;\n",
       "    unicode-bidi: embed;\n",
       "    white-space: pre-wrap;\n",
       "    word-wrap: break-word;\n",
       "    word-break: break-all;\n",
       "    font-family: \"Source Code Pro\", \"Menlo\", monospace;;\n",
       "    font-size: 13px;\n",
       "    color: #555;\n",
       "    margin-left: 4px;\n",
       "    line-height: 19px;\n",
       "  }\n",
       "</style>\n",
       "<div class=\"ansiout\">ner_posology download started this may take some time.\n",
       "Approximate size to download 13.7 MB\n",
       "\r",
       "[ | ]\r",
       "[OK!]\n",
       "assertion_dl download started this may take some time.\n",
       "Approximate size to download 1.3 MB\n",
       "\r",
       "[ | ]\r",
       "[OK!]\n",
       "embeddings_clinical download started this may take some time.\n",
       "Approximate size to download 1.6 GB\n",
       "\r",
       "[ | ]\r",
       "[OK!]\n",
       "+-------+---------+---------+\n",
       "  chunk|ner_label|assertion|\n",
       "+-------+---------+---------+\n",
       "capsule|     FORM|  present|\n",
       "  Advil|     DRUG|     null|\n",
       "+-------+---------+---------+\n",
       "\n",
       "</div>"
      ]
     },
     "metadata": {},
     "output_type": "display_data"
    }
   ],
   "source": [
    "embeddings = 'embeddings_clinical'\n",
    "\n",
    "model_name = 'ner_posology'\n",
    "\n",
    "entry_data = spark.createDataFrame([[\"The patient didn't take a capsule of Advil\"]]).toDF(\"text\")\n",
    "\n",
    "ner_df = get_clinical_assertion (embeddings, entry_data, nrows, model_name)\n",
    "\n",
    "ner_df.show()"
   ]
  },
  {
   "cell_type": "code",
   "execution_count": 25,
   "metadata": {
    "colab": {},
    "colab_type": "code",
    "id": "sbllagh66Q8X"
   },
   "outputs": [
    {
     "data": {
      "text/html": [
       "<style scoped>\n",
       "  .ansiout {\n",
       "    display: block;\n",
       "    unicode-bidi: embed;\n",
       "    white-space: pre-wrap;\n",
       "    word-wrap: break-word;\n",
       "    word-break: break-all;\n",
       "    font-family: \"Source Code Pro\", \"Menlo\", monospace;;\n",
       "    font-size: 13px;\n",
       "    color: #555;\n",
       "    margin-left: 4px;\n",
       "    line-height: 19px;\n",
       "  }\n",
       "</style>\n",
       "<div class=\"ansiout\"></div>"
      ]
     },
     "metadata": {},
     "output_type": "display_data"
    }
   ],
   "source": [
    "import pandas as pd\n",
    "\n",
    "def get_clinical_assertion_light (light_model, text):\n",
    "\n",
    "  light_result = light_model.fullAnnotate(text)[0]\n",
    "\n",
    "  chunks=[]\n",
    "  entities=[]\n",
    "  status=[]\n",
    "\n",
    "  for n,m in zip(light_result['ner_chunk'],light_result['assertion']):\n",
    "      \n",
    "      chunks.append(n.result)\n",
    "      entities.append(n.metadata['entity']) \n",
    "      status.append(m.result)\n",
    "          \n",
    "  df = pd.DataFrame({'chunks':chunks, 'entities':entities, 'assertion':status})\n",
    "\n",
    "  return df"
   ]
  },
  {
   "cell_type": "code",
   "execution_count": 26,
   "metadata": {
    "colab": {
     "base_uri": "https://localhost:8080/",
     "height": 347
    },
    "colab_type": "code",
    "id": "GqKH9Mw98z4x",
    "outputId": "73e21ee8-d4fa-491d-c501-6e6025928c84"
   },
   "outputs": [
    {
     "data": {
      "text/html": [
       "<div>\n",
       "<style scoped>\n",
       "    .dataframe tbody tr th:only-of-type {\n",
       "        vertical-align: middle;\n",
       "    }\n",
       "\n",
       "    .dataframe tbody tr th {\n",
       "        vertical-align: top;\n",
       "    }\n",
       "\n",
       "    .dataframe thead th {\n",
       "        text-align: right;\n",
       "    }\n",
       "</style>\n",
       "<table border=\"1\" class=\"dataframe\">\n",
       "  <thead>\n",
       "    <tr style=\"text-align: right;\">\n",
       "      <th></th>\n",
       "      <th>chunks</th>\n",
       "      <th>entities</th>\n",
       "      <th>assertion</th>\n",
       "    </tr>\n",
       "  </thead>\n",
       "  <tbody>\n",
       "    <tr>\n",
       "      <th>0</th>\n",
       "      <td>severe fever</td>\n",
       "      <td>PROBLEM</td>\n",
       "      <td>present</td>\n",
       "    </tr>\n",
       "    <tr>\n",
       "      <th>1</th>\n",
       "      <td>sore throat</td>\n",
       "      <td>PROBLEM</td>\n",
       "      <td>present</td>\n",
       "    </tr>\n",
       "    <tr>\n",
       "      <th>2</th>\n",
       "      <td>stomach pain</td>\n",
       "      <td>PROBLEM</td>\n",
       "      <td>absent</td>\n",
       "    </tr>\n",
       "    <tr>\n",
       "      <th>3</th>\n",
       "      <td>an epidural</td>\n",
       "      <td>TREATMENT</td>\n",
       "      <td>present</td>\n",
       "    </tr>\n",
       "    <tr>\n",
       "      <th>4</th>\n",
       "      <td>PCA</td>\n",
       "      <td>TREATMENT</td>\n",
       "      <td>present</td>\n",
       "    </tr>\n",
       "    <tr>\n",
       "      <th>5</th>\n",
       "      <td>pain control</td>\n",
       "      <td>PROBLEM</td>\n",
       "      <td>present</td>\n",
       "    </tr>\n",
       "    <tr>\n",
       "      <th>6</th>\n",
       "      <td>short of breath</td>\n",
       "      <td>PROBLEM</td>\n",
       "      <td>conditional</td>\n",
       "    </tr>\n",
       "    <tr>\n",
       "      <th>7</th>\n",
       "      <td>CT</td>\n",
       "      <td>TEST</td>\n",
       "      <td>present</td>\n",
       "    </tr>\n",
       "    <tr>\n",
       "      <th>8</th>\n",
       "      <td>lung tumor</td>\n",
       "      <td>PROBLEM</td>\n",
       "      <td>present</td>\n",
       "    </tr>\n",
       "    <tr>\n",
       "      <th>9</th>\n",
       "      <td>Alzheimer</td>\n",
       "      <td>PROBLEM</td>\n",
       "      <td>associated_with_someone_else</td>\n",
       "    </tr>\n",
       "  </tbody>\n",
       "</table>\n",
       "</div>"
      ]
     },
     "metadata": {},
     "output_type": "display_data"
    }
   ],
   "source": [
    "clinical_text = \"\"\"\n",
    "Patient with severe fever and sore throat. \n",
    "He shows no stomach pain and he maintained on an epidural and PCA for pain control.\n",
    "He also became short of breath with climbing a flight of stairs.\n",
    "After CT, lung tumor located at the right lower lobe. Father with Alzheimer.\n",
    "\"\"\"\n",
    "\n",
    "light_model = LightPipeline(model)\n",
    "\n",
    "get_clinical_assertion_light (light_model, clinical_text)\n"
   ]
  },
  {
   "cell_type": "markdown",
   "metadata": {
    "colab_type": "text",
    "id": "qVeR4zew_urR"
   },
   "source": [
    "## Assertion with BioNLP (Cancer Genetics) NER"
   ]
  },
  {
   "cell_type": "code",
   "execution_count": 28,
   "metadata": {
    "colab": {
     "base_uri": "https://localhost:8080/",
     "height": 638
    },
    "colab_type": "code",
    "id": "y1Ffv9qT_AYV",
    "outputId": "30421c1e-55e5-4682-eb53-d2d7543c66f8"
   },
   "outputs": [
    {
     "data": {
      "text/html": [
       "<style scoped>\n",
       "  .ansiout {\n",
       "    display: block;\n",
       "    unicode-bidi: embed;\n",
       "    white-space: pre-wrap;\n",
       "    word-wrap: break-word;\n",
       "    word-break: break-all;\n",
       "    font-family: \"Source Code Pro\", \"Menlo\", monospace;;\n",
       "    font-size: 13px;\n",
       "    color: #555;\n",
       "    margin-left: 4px;\n",
       "    line-height: 19px;\n",
       "  }\n",
       "</style>\n",
       "<div class=\"ansiout\">ner_bionlp download started this may take some time.\n",
       "Approximate size to download 13.9 MB\n",
       "\r",
       "[ | ]\r",
       "[ / ]\r",
       "[OK!]\n",
       "assertion_dl download started this may take some time.\n",
       "Approximate size to download 1.3 MB\n",
       "\r",
       "[ | ]\r",
       "[OK!]\n",
       "embeddings_clinical download started this may take some time.\n",
       "Approximate size to download 1.6 GB\n",
       "\r",
       "[ | ]\r",
       "[OK!]\n",
       "+---------------------------+------------------+---------+\n",
       "chunk                      |ner_label         |assertion|\n",
       "+---------------------------+------------------+---------+\n",
       "membranes                  |Cellular_component|present  |\n",
       "membrane                   |Cellular_component|present  |\n",
       "membranes                  |Cellular_component|present  |\n",
       "membrane ATPases           |Cellular_component|present  |\n",
       "ATP                        |Simple_chemical   |present  |\n",
       "proton                     |Simple_chemical   |present  |\n",
       "membrane                   |Cellular_component|present  |\n",
       "membranes                  |Cellular_component|absent   |\n",
       "membranes                  |Cellular_component|present  |\n",
       "lipid bilayers             |Cellular_component|present  |\n",
       "membrane                   |Cellular_component|null     |\n",
       "membrane                   |Cellular_component|null     |\n",
       "Neurons                    |Cell              |present  |\n",
       "rostroventrolateral medulla|Organ             |present  |\n",
       "RVLM                       |Cell              |present  |\n",
       "spinal sympathetic         |Cell              |present  |\n",
       "neurons                    |Cell              |present  |\n",
       "BR                         |Tissue            |present  |\n",
       "rat                        |Organism          |possible |\n",
       "spinal                     |Organ             |present  |\n",
       "+---------------------------+------------------+---------+\n",
       "only showing top 20 rows\n",
       "\n",
       "</div>"
      ]
     },
     "metadata": {},
     "output_type": "display_data"
    }
   ],
   "source": [
    "embeddings = 'embeddings_clinical'\n",
    "\n",
    "model_name = 'ner_bionlp'\n",
    "\n",
    "nrows = 100\n",
    "\n",
    "ner_df = get_clinical_assertion (embeddings, pubMedDF, nrows, model_name)\n",
    "\n",
    "ner_df.show(truncate = False)"
   ]
  },
  {
   "cell_type": "markdown",
   "metadata": {
    "colab_type": "text",
    "id": "JjfUo0aTKFEL"
   },
   "source": [
    "# Train your Assertion Model"
   ]
  },
  {
   "cell_type": "code",
   "execution_count": 30,
   "metadata": {
    "colab": {
     "base_uri": "https://localhost:8080/",
     "height": 212
    },
    "colab_type": "code",
    "id": "CG2bcrVLKHzc",
    "outputId": "0706e5a2-a893-495c-d650-405872e39b11"
   },
   "outputs": [
    {
     "data": {
      "text/html": [
       "<style scoped>\n",
       "  .ansiout {\n",
       "    display: block;\n",
       "    unicode-bidi: embed;\n",
       "    white-space: pre-wrap;\n",
       "    word-wrap: break-word;\n",
       "    word-break: break-all;\n",
       "    font-family: \"Source Code Pro\", \"Menlo\", monospace;;\n",
       "    font-size: 13px;\n",
       "    color: #555;\n",
       "    margin-left: 4px;\n",
       "    line-height: 19px;\n",
       "  }\n",
       "</style>\n",
       "<div class=\"ansiout\">--2020-04-16 21:00:12--  https://s3.amazonaws.com/auxdata.johnsnowlabs.com/public/resources/en/ner/i2b2_assertion_sample.csv\n",
       "Resolving s3.amazonaws.com (s3.amazonaws.com)... 52.216.77.30\n",
       "Connecting to s3.amazonaws.com (s3.amazonaws.com)|52.216.77.30|:443... connected.\n",
       "HTTP request sent, awaiting response... 200 OK\n",
       "Length: 141585 (138K) [text/csv]\n",
       "Saving to: ‘i2b2_assertion_sample.csv’\n",
       "\n",
       "     0K .......... .......... .......... .......... .......... 36%  618K 0s\n",
       "    50K .......... .......... .......... .......... .......... 72%  620K 0s\n",
       "   100K .......... .......... .......... ........             100%  476K=0.2s\n",
       "\n",
       "2020-04-16 21:00:12 (571 KB/s) - ‘i2b2_assertion_sample.csv’ saved [141585/141585]\n",
       "\n",
       "</div>"
      ]
     },
     "metadata": {},
     "output_type": "display_data"
    }
   ],
   "source": [
    "%sh\n",
    "wget https://s3.amazonaws.com/auxdata.johnsnowlabs.com/public/resources/en/ner/i2b2_assertion_sample.csv"
   ]
  },
  {
   "cell_type": "code",
   "execution_count": 31,
   "metadata": {},
   "outputs": [
    {
     "data": {
      "text/html": [
       "<style scoped>\n",
       "  .ansiout {\n",
       "    display: block;\n",
       "    unicode-bidi: embed;\n",
       "    white-space: pre-wrap;\n",
       "    word-wrap: break-word;\n",
       "    word-break: break-all;\n",
       "    font-family: \"Source Code Pro\", \"Menlo\", monospace;;\n",
       "    font-size: 13px;\n",
       "    color: #555;\n",
       "    margin-left: 4px;\n",
       "    line-height: 19px;\n",
       "  }\n",
       "</style>\n",
       "<div class=\"ansiout\">Out[39]: True</div>"
      ]
     },
     "metadata": {},
     "output_type": "display_data"
    }
   ],
   "source": [
    "dbutils.fs.cp(\"file:/databricks/driver/i2b2_assertion_sample.csv\", \"dbfs:/\")\n"
   ]
  },
  {
   "cell_type": "code",
   "execution_count": 32,
   "metadata": {
    "colab": {},
    "colab_type": "code",
    "id": "llRofRtgLF7S"
   },
   "outputs": [
    {
     "data": {
      "text/html": [
       "<style scoped>\n",
       "  .ansiout {\n",
       "    display: block;\n",
       "    unicode-bidi: embed;\n",
       "    white-space: pre-wrap;\n",
       "    word-wrap: break-word;\n",
       "    word-break: break-all;\n",
       "    font-family: \"Source Code Pro\", \"Menlo\", monospace;;\n",
       "    font-size: 13px;\n",
       "    color: #555;\n",
       "    margin-left: 4px;\n",
       "    line-height: 19px;\n",
       "  }\n",
       "</style>\n",
       "<div class=\"ansiout\"></div>"
      ]
     },
     "metadata": {},
     "output_type": "display_data"
    }
   ],
   "source": [
    "import pandas as pd"
   ]
  },
  {
   "cell_type": "code",
   "execution_count": 33,
   "metadata": {
    "colab": {},
    "colab_type": "code",
    "id": "hRFW3nyALHx0"
   },
   "outputs": [
    {
     "data": {
      "text/html": [
       "<style scoped>\n",
       "  .ansiout {\n",
       "    display: block;\n",
       "    unicode-bidi: embed;\n",
       "    white-space: pre-wrap;\n",
       "    word-wrap: break-word;\n",
       "    word-break: break-all;\n",
       "    font-family: \"Source Code Pro\", \"Menlo\", monospace;;\n",
       "    font-size: 13px;\n",
       "    color: #555;\n",
       "    margin-left: 4px;\n",
       "    line-height: 19px;\n",
       "  }\n",
       "</style>\n",
       "<div class=\"ansiout\"></div>"
      ]
     },
     "metadata": {},
     "output_type": "display_data"
    }
   ],
   "source": [
    "\n",
    "assertion_df = spark.read.option(\"header\", True).option(\"inferSchema\", \"True\").csv(\"i2b2_assertion_sample.csv\").repartition(4)\n"
   ]
  },
  {
   "cell_type": "code",
   "execution_count": 34,
   "metadata": {
    "colab": {
     "base_uri": "https://localhost:8080/",
     "height": 176
    },
    "colab_type": "code",
    "id": "TQn7bJZtL9uX",
    "outputId": "4168e80d-8e55-4a23-e1bb-38eefb000674"
   },
   "outputs": [
    {
     "data": {
      "text/html": [
       "<style scoped>\n",
       "  .ansiout {\n",
       "    display: block;\n",
       "    unicode-bidi: embed;\n",
       "    white-space: pre-wrap;\n",
       "    word-wrap: break-word;\n",
       "    word-break: break-all;\n",
       "    font-family: \"Source Code Pro\", \"Menlo\", monospace;;\n",
       "    font-size: 13px;\n",
       "    color: #555;\n",
       "    margin-left: 4px;\n",
       "    line-height: 19px;\n",
       "  }\n",
       "</style>\n",
       "<div class=\"ansiout\">+----------------------------------------------------------------------------------------------------+--------------------------------+-------+-----+---+\n",
       "                                                                                                text|                          target|  label|start|end|\n",
       "+----------------------------------------------------------------------------------------------------+--------------------------------+-------+-----+---+\n",
       "First , he had right lower extremity swelling and lower extremity noninvasives confirmed the diag...|a femoral deep venous thrombosis|present|   16| 20|\n",
       "         # Epidural abscess : The patient was evaluated by orthopedic spine consult service and ID .|                epidural abscess|present|    1|  2|\n",
       "Ms Crossman is an 84 year old female with complaints of abdominal pain , diarrhea , nausea and vo...|                        vomiting|present|   18| 18|\n",
       "+----------------------------------------------------------------------------------------------------+--------------------------------+-------+-----+---+\n",
       "only showing top 3 rows\n",
       "\n",
       "</div>"
      ]
     },
     "metadata": {},
     "output_type": "display_data"
    }
   ],
   "source": [
    "assertion_df.show(3, truncate=100)"
   ]
  },
  {
   "cell_type": "code",
   "execution_count": 35,
   "metadata": {
    "colab": {},
    "colab_type": "code",
    "id": "UTNhwoSDLLVG"
   },
   "outputs": [
    {
     "data": {
      "text/html": [
       "<style scoped>\n",
       "  .ansiout {\n",
       "    display: block;\n",
       "    unicode-bidi: embed;\n",
       "    white-space: pre-wrap;\n",
       "    word-wrap: break-word;\n",
       "    word-break: break-all;\n",
       "    font-family: \"Source Code Pro\", \"Menlo\", monospace;;\n",
       "    font-size: 13px;\n",
       "    color: #555;\n",
       "    margin-left: 4px;\n",
       "    line-height: 19px;\n",
       "  }\n",
       "</style>\n",
       "<div class=\"ansiout\">embeddings_clinical download started this may take some time.\n",
       "Approximate size to download 1.6 GB\n",
       "\r",
       "[ | ]\r",
       "[OK!]\n",
       "</div>"
      ]
     },
     "metadata": {},
     "output_type": "display_data"
    }
   ],
   "source": [
    "\n",
    "document = DocumentAssembler()\\\n",
    "    .setInputCol(\"text\")\\\n",
    "    .setOutputCol(\"document\")\n",
    "\n",
    "chunk = Doc2Chunk()\\\n",
    "    .setInputCols(\"document\")\\\n",
    "    .setOutputCol(\"chunk\")\\\n",
    "    .setChunkCol(\"target\")\\\n",
    "    .setStartCol(\"start\")\\\n",
    "    .setStartColByTokenIndex(True)\\\n",
    "    .setFailOnMissing(False)\\\n",
    "    .setLowerCase(True)\n",
    "\n",
    "token = Tokenizer()\\\n",
    "    .setInputCols(['document'])\\\n",
    "    .setOutputCol('token')\n",
    "\n",
    "embeddings = WordEmbeddingsModel.pretrained(\"embeddings_clinical\", \"en\", \"clinical/models\")\\\n",
    "      .setInputCols([\"document\", \"token\"])\\\n",
    "      .setOutputCol(\"embeddings\")\n"
   ]
  },
  {
   "cell_type": "code",
   "execution_count": 36,
   "metadata": {
    "colab": {},
    "colab_type": "code",
    "id": "EKRL7Oy4MC1C"
   },
   "outputs": [
    {
     "data": {
      "text/html": [
       "<style scoped>\n",
       "  .ansiout {\n",
       "    display: block;\n",
       "    unicode-bidi: embed;\n",
       "    white-space: pre-wrap;\n",
       "    word-wrap: break-word;\n",
       "    word-break: break-all;\n",
       "    font-family: \"Source Code Pro\", \"Menlo\", monospace;;\n",
       "    font-size: 13px;\n",
       "    color: #555;\n",
       "    margin-left: 4px;\n",
       "    line-height: 19px;\n",
       "  }\n",
       "</style>\n",
       "<div class=\"ansiout\"></div>"
      ]
     },
     "metadata": {},
     "output_type": "display_data"
    }
   ],
   "source": [
    "\n",
    "assertionStatus = AssertionDLApproach()\\\n",
    "    .setLabelCol(\"label\")\\\n",
    "    .setInputCols(\"document\", \"chunk\", \"embeddings\")\\\n",
    "    .setOutputCol(\"assertion\")\\\n",
    "    .setBatchSize(128)\\\n",
    "    .setDropout(0.012)\\\n",
    "    .setLearningRate(0.015)\\\n",
    "    .setEpochs(1)\\\n",
    "    .setStartCol(\"start\")\\\n",
    "    .setEndCol(\"end\")\\\n",
    "    .setMaxSentLen(250)\n",
    "#.setGraphFolder\n",
    "\n",
    "clinical_assertion_pipeline = Pipeline(\n",
    "    stages = [\n",
    "    document,\n",
    "    chunk,\n",
    "    token,\n",
    "    embeddings,\n",
    "    assertionStatus])\n",
    "\n"
   ]
  },
  {
   "cell_type": "code",
   "execution_count": 37,
   "metadata": {},
   "outputs": [],
   "source": [
    "assertion_model = clinical_assertion_pipeline.fit(assertion_df)"
   ]
  }
 ],
 "metadata": {
  "colab": {
   "collapsed_sections": [],
   "name": "2.Clinical_Assertion_Model.ipynb",
   "provenance": [],
   "toc_visible": true
  },
  "kernelspec": {
   "display_name": "Python 3",
   "language": "python",
   "name": "python3"
  },
  "language_info": {
   "codemirror_mode": {
    "name": "ipython",
    "version": 3
   },
   "file_extension": ".py",
   "mimetype": "text/x-python",
   "name": "python",
   "nbconvert_exporter": "python",
   "pygments_lexer": "ipython3",
   "version": "3.7.4"
  },
  "name": "2_Clinical_Assertion_Model",
  "notebookId": 4039604102936971
 },
 "nbformat": 4,
 "nbformat_minor": 4
}
