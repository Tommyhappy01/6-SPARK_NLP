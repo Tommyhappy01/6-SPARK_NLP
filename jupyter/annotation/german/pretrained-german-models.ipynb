{
 "cells": [
  {
   "cell_type": "markdown",
   "metadata": {
    "colab_type": "text",
    "id": "XA9scnGrLCn2"
   },
   "source": [
    "![JohnSnowLabs](https://nlp.johnsnowlabs.com/assets/images/logo.png)\n",
    "\n",
    "[![Open In Colab](https://colab.research.google.com/assets/colab-badge.svg)](https://colab.research.google.com/github/JohnSnowLabs/spark-nlp-workshop/blob/master/jupyter/annotation/german/pretrained-german-models.ipynb)\n",
    "\n",
    "## 0. Colab Setup"
   ]
  },
  {
   "cell_type": "code",
   "execution_count": 1,
   "metadata": {
    "colab": {
     "base_uri": "https://localhost:8080/",
     "height": 68
    },
    "colab_type": "code",
    "executionInfo": {
     "elapsed": 15931,
     "status": "ok",
     "timestamp": 1589241981039,
     "user": {
      "displayName": "Christian Kasim Loan",
      "photoUrl": "",
      "userId": "14469489166467359317"
     },
     "user_tz": -120
    },
    "id": "Dm-qYk1nH9Qx",
    "outputId": "51045616-829f-45df-a72d-e7fed16d2707"
   },
   "outputs": [
    {
     "name": "stdout",
     "output_type": "stream",
     "text": [
      "openjdk version \"1.8.0_252\"\n",
      "OpenJDK Runtime Environment (build 1.8.0_252-8u252-b09-1~18.04-b09)\n",
      "OpenJDK 64-Bit Server VM (build 25.252-b09, mixed mode)\n"
     ]
    }
   ],
   "source": [
    "import os\n",
    "\n",
    "# Install java\n",
    "! apt-get update -qq\n",
    "! apt-get install -y openjdk-8-jdk-headless -qq > /dev/null\n",
    "\n",
    "os.environ[\"JAVA_HOME\"] = \"/usr/lib/jvm/java-8-openjdk-amd64\"\n",
    "os.environ[\"PATH\"] = os.environ[\"JAVA_HOME\"] + \"/bin:\" + os.environ[\"PATH\"]\n",
    "! java -version\n",
    "\n",
    "# Install pyspark\n",
    "! pip install --ignore-installed pyspark==2.4.4\n",
    "\n",
    "# Install Spark NLP\n",
    "! pip install --ignore-installed spark-nlp"
   ]
  },
  {
   "cell_type": "markdown",
   "metadata": {
    "colab_type": "text",
    "id": "gTvXsYwYGrXA"
   },
   "source": [
    "### German models specs\n",
    "\n",
    "| Feature   | Description|\n",
    "|:----------|:----------|\n",
    "| **Lemma** | Trained by **Lemmatizer** annotator on **lemmatization-lists** by `Michal Měchura`|\n",
    "| **POS**   | Trained by **PerceptronApproach** annotator on the [Universal Dependencies](https://universaldependencies.org/treebanks/de_hdt/index.html)|\n",
    "| **NER**   | Trained by **NerDLApproach** annotator with **Char CNNs - BiLSTM - CRF** and **GloVe Embeddings** on the **WikiNER** corpus and supports the identification of `PER`, `LOC`, `ORG` and `MISC` entities |"
   ]
  },
  {
   "cell_type": "code",
   "execution_count": null,
   "metadata": {
    "colab": {},
    "colab_type": "code",
    "id": "QGc8b0-yGrXC"
   },
   "outputs": [],
   "source": [
    "import sparknlp\n",
    "from sparknlp.annotator import *\n",
    "from sparknlp.base import *\n",
    "from sparknlp.pretrained import PretrainedPipeline\n",
    "\n",
    "from pyspark.sql.types import StringType"
   ]
  },
  {
   "cell_type": "code",
   "execution_count": 3,
   "metadata": {
    "colab": {
     "base_uri": "https://localhost:8080/",
     "height": 51
    },
    "colab_type": "code",
    "executionInfo": {
     "elapsed": 80581,
     "status": "ok",
     "timestamp": 1589242045740,
     "user": {
      "displayName": "Christian Kasim Loan",
      "photoUrl": "",
      "userId": "14469489166467359317"
     },
     "user_tz": -120
    },
    "id": "SY5sbRNUGrXI",
    "outputId": "ce6cfcec-4a9c-4e13-f416-ba4784888c68"
   },
   "outputs": [
    {
     "name": "stdout",
     "output_type": "stream",
     "text": [
      "Spark NLP version:  2.5.0\n",
      "Apache Spark version:  2.4.4\n"
     ]
    }
   ],
   "source": [
    "spark = sparknlp.start()\n",
    "\n",
    "print(\"Spark NLP version: \", sparknlp.version())\n",
    "print(\"Apache Spark version: \", spark.version)"
   ]
  },
  {
   "cell_type": "code",
   "execution_count": null,
   "metadata": {
    "colab": {},
    "colab_type": "code",
    "id": "fNfAQEa2GrXP"
   },
   "outputs": [],
   "source": [
    "dfTest = spark.createDataFrame([\n",
    "    \"Die Anfänge der EU gehen auf die 1950er-Jahre zurück, als zunächst sechs Staaten die Europäische Wirtschaftsgemeinschaft (EWG) gründeten.\",\n",
    "    \"Angela[1] Dorothea Merkel (* 17. Juli 1954 in Hamburg als Angela Dorothea Kasner) ist eine deutsche Politikerin (CDU).\"\n",
    "], StringType()).toDF(\"text\")"
   ]
  },
  {
   "cell_type": "markdown",
   "metadata": {
    "colab_type": "text",
    "id": "DgmHq9mYGrXV"
   },
   "source": [
    "### Pretrained Pipelines in German\n",
    "#### explain_document_md (glove_6B_300)"
   ]
  },
  {
   "cell_type": "code",
   "execution_count": 5,
   "metadata": {
    "colab": {
     "base_uri": "https://localhost:8080/",
     "height": 68
    },
    "colab_type": "code",
    "executionInfo": {
     "elapsed": 150917,
     "status": "ok",
     "timestamp": 1589242116113,
     "user": {
      "displayName": "Christian Kasim Loan",
      "photoUrl": "",
      "userId": "14469489166467359317"
     },
     "user_tz": -120
    },
    "id": "iYU-OmoJGrXW",
    "outputId": "f7a12a37-e248-4a5f-f3a1-1505ae5a5d88"
   },
   "outputs": [
    {
     "name": "stdout",
     "output_type": "stream",
     "text": [
      "explain_document_md download started this may take some time.\n",
      "Approx size to download 449.1 MB\n",
      "[OK!]\n"
     ]
    }
   ],
   "source": [
    "pipeline_exdo_md = PretrainedPipeline('explain_document_md', 'de')"
   ]
  },
  {
   "cell_type": "code",
   "execution_count": 6,
   "metadata": {
    "colab": {
     "base_uri": "https://localhost:8080/",
     "height": 136
    },
    "colab_type": "code",
    "executionInfo": {
     "elapsed": 155305,
     "status": "ok",
     "timestamp": 1589242120523,
     "user": {
      "displayName": "Christian Kasim Loan",
      "photoUrl": "",
      "userId": "14469489166467359317"
     },
     "user_tz": -120
    },
    "id": "2wfeCpX7GrXa",
    "outputId": "1dc0c45e-aa9d-4def-a790-30fe23ac7b52"
   },
   "outputs": [
    {
     "name": "stdout",
     "output_type": "stream",
     "text": [
      "+----------+----------+----------+----------+----------+----------+----------+----------+----------+\n",
      "|      text|  document|  sentence|     token|     lemma|       pos|embeddings|       ner|  entities|\n",
      "+----------+----------+----------+----------+----------+----------+----------+----------+----------+\n",
      "|Die Anf...|[[docum...|[[docum...|[[token...|[[token...|[[pos, ...|[[word_...|[[named...|[[chunk...|\n",
      "|Angela[...|[[docum...|[[docum...|[[token...|[[token...|[[pos, ...|[[word_...|[[named...|[[chunk...|\n",
      "+----------+----------+----------+----------+----------+----------+----------+----------+----------+\n",
      "\n"
     ]
    }
   ],
   "source": [
    "pipeline_exdo_md.transform(dfTest).show(2, truncate=10)"
   ]
  },
  {
   "cell_type": "code",
   "execution_count": 7,
   "metadata": {
    "colab": {
     "base_uri": "https://localhost:8080/",
     "height": 374
    },
    "colab_type": "code",
    "executionInfo": {
     "elapsed": 157387,
     "status": "ok",
     "timestamp": 1589242122620,
     "user": {
      "displayName": "Christian Kasim Loan",
      "photoUrl": "",
      "userId": "14469489166467359317"
     },
     "user_tz": -120
    },
    "id": "0_M6Ks9lGrXe",
    "outputId": "77a5c03f-fecb-4a38-9d46-995ea0d69a8a",
    "scrolled": true
   },
   "outputs": [
    {
     "name": "stdout",
     "output_type": "stream",
     "text": [
      "+----------------------------------------------------------------------+\n",
      "|                                                                result|\n",
      "+----------------------------------------------------------------------+\n",
      "|[Die, Anfang, der, EU, gehen, auf, der, 1950er-Jahre, zurück, ,, al...|\n",
      "|[Angela[1], Dorothea, Merkel, (*, 17, ., Juli, 1954, in, Hamburg, a...|\n",
      "+----------------------------------------------------------------------+\n",
      "\n",
      "+----------------------------------------------------------------------+\n",
      "|                                                                result|\n",
      "+----------------------------------------------------------------------+\n",
      "|[DET, NOUN, DET, PROPN, VERB, ADP, DET, NOUN, ADP, PUNCT, ADP, ADV,...|\n",
      "|[PROPN, PROPN, PROPN, X, NUM, PUNCT, NOUN, NUM, ADP, PROPN, ADP, PR...|\n",
      "+----------------------------------------------------------------------+\n",
      "\n",
      "+----------------------------------------------------------------------+\n",
      "|                                                                result|\n",
      "+----------------------------------------------------------------------+\n",
      "|               [EU, Staaten, Europäische Wirtschaftsgemeinschaft, EWG]|\n",
      "|[Angela[1] Dorothea Merkel, Hamburg, Angela Dorothea Kasner, deutsc...|\n",
      "+----------------------------------------------------------------------+\n",
      "\n"
     ]
    }
   ],
   "source": [
    "pipeline_exdo_md.transform(dfTest).select(\"lemma.result\").show(2, truncate=70)\n",
    "pipeline_exdo_md.transform(dfTest).select(\"pos.result\").show(2, truncate=70)\n",
    "pipeline_exdo_md.transform(dfTest).select(\"entities.result\").show(2, truncate=70)"
   ]
  },
  {
   "cell_type": "markdown",
   "metadata": {
    "colab_type": "text",
    "id": "CFFhOJauGrXl"
   },
   "source": [
    "#### explain_document_lg (glove_840B_300)"
   ]
  },
  {
   "cell_type": "code",
   "execution_count": 8,
   "metadata": {
    "colab": {
     "base_uri": "https://localhost:8080/",
     "height": 68
    },
    "colab_type": "code",
    "executionInfo": {
     "elapsed": 424363,
     "status": "ok",
     "timestamp": 1589242389608,
     "user": {
      "displayName": "Christian Kasim Loan",
      "photoUrl": "",
      "userId": "14469489166467359317"
     },
     "user_tz": -120
    },
    "id": "GwTxKeJFGrXm",
    "outputId": "09be6361-0cfe-4818-92fe-058d7e091067"
   },
   "outputs": [
    {
     "name": "stdout",
     "output_type": "stream",
     "text": [
      "explain_document_lg download started this may take some time.\n",
      "Approx size to download 2.3 GB\n",
      "[OK!]\n"
     ]
    }
   ],
   "source": [
    "pipeline_exdo_lg = PretrainedPipeline('explain_document_lg', 'de')"
   ]
  },
  {
   "cell_type": "code",
   "execution_count": 9,
   "metadata": {
    "colab": {
     "base_uri": "https://localhost:8080/",
     "height": 136
    },
    "colab_type": "code",
    "executionInfo": {
     "elapsed": 425509,
     "status": "ok",
     "timestamp": 1589242390783,
     "user": {
      "displayName": "Christian Kasim Loan",
      "photoUrl": "",
      "userId": "14469489166467359317"
     },
     "user_tz": -120
    },
    "id": "f5ac6jDzGrXq",
    "outputId": "1f65e9b9-dd89-48fb-b7e5-7d38bce6291b"
   },
   "outputs": [
    {
     "name": "stdout",
     "output_type": "stream",
     "text": [
      "+----------+----------+----------+----------+----------+----------+----------+----------+----------+\n",
      "|      text|  document|  sentence|     token|     lemma|       pos|embeddings|       ner|  entities|\n",
      "+----------+----------+----------+----------+----------+----------+----------+----------+----------+\n",
      "|Die Anf...|[[docum...|[[docum...|[[token...|[[token...|[[pos, ...|[[word_...|[[named...|[[chunk...|\n",
      "|Angela[...|[[docum...|[[docum...|[[token...|[[token...|[[pos, ...|[[word_...|[[named...|[[chunk...|\n",
      "+----------+----------+----------+----------+----------+----------+----------+----------+----------+\n",
      "\n"
     ]
    }
   ],
   "source": [
    "pipeline_exdo_lg.transform(dfTest).show(2, truncate=10)"
   ]
  },
  {
   "cell_type": "code",
   "execution_count": 10,
   "metadata": {
    "colab": {
     "base_uri": "https://localhost:8080/",
     "height": 374
    },
    "colab_type": "code",
    "executionInfo": {
     "elapsed": 427160,
     "status": "ok",
     "timestamp": 1589242392461,
     "user": {
      "displayName": "Christian Kasim Loan",
      "photoUrl": "",
      "userId": "14469489166467359317"
     },
     "user_tz": -120
    },
    "id": "pLgPQOCqGrXw",
    "outputId": "7c169b27-dcbe-42b6-a63e-a4b60ffb4422"
   },
   "outputs": [
    {
     "name": "stdout",
     "output_type": "stream",
     "text": [
      "+----------------------------------------------------------------------+\n",
      "|                                                                result|\n",
      "+----------------------------------------------------------------------+\n",
      "|[Die, Anfang, der, EU, gehen, auf, der, 1950er-Jahre, zurück, ,, al...|\n",
      "|[Angela[1], Dorothea, Merkel, (*, 17, ., Juli, 1954, in, Hamburg, a...|\n",
      "+----------------------------------------------------------------------+\n",
      "\n",
      "+----------------------------------------------------------------------+\n",
      "|                                                                result|\n",
      "+----------------------------------------------------------------------+\n",
      "|[DET, NOUN, DET, PROPN, VERB, ADP, DET, NOUN, ADP, PUNCT, ADP, ADV,...|\n",
      "|[PROPN, PROPN, PROPN, X, NUM, PUNCT, NOUN, NUM, ADP, PROPN, ADP, PR...|\n",
      "+----------------------------------------------------------------------+\n",
      "\n",
      "+-----------------------------------------------------------------+\n",
      "|                                                           result|\n",
      "+-----------------------------------------------------------------+\n",
      "|          [EU, Staaten, Europäische Wirtschaftsgemeinschaft, EWG]|\n",
      "|[Dorothea Merkel, Hamburg, Angela Dorothea Kasner, deutsche, CDU]|\n",
      "+-----------------------------------------------------------------+\n",
      "\n"
     ]
    }
   ],
   "source": [
    "pipeline_exdo_lg.transform(dfTest).select(\"lemma.result\").show(2, truncate=70)\n",
    "pipeline_exdo_lg.transform(dfTest).select(\"pos.result\").show(2, truncate=70)\n",
    "pipeline_exdo_lg.transform(dfTest).select(\"entities.result\").show(2, truncate=70)"
   ]
  },
  {
   "cell_type": "markdown",
   "metadata": {
    "colab_type": "text",
    "id": "xISxmUMhGrX2"
   },
   "source": [
    "#### entity_recognizer_md (glove_6B_300)"
   ]
  },
  {
   "cell_type": "code",
   "execution_count": 11,
   "metadata": {
    "colab": {
     "base_uri": "https://localhost:8080/",
     "height": 68
    },
    "colab_type": "code",
    "executionInfo": {
     "elapsed": 471192,
     "status": "ok",
     "timestamp": 1589242436530,
     "user": {
      "displayName": "Christian Kasim Loan",
      "photoUrl": "",
      "userId": "14469489166467359317"
     },
     "user_tz": -120
    },
    "id": "--rX-7QNGrX3",
    "outputId": "1bf4fd48-3bf2-4ad3-e0a8-8d8cd65a6dfe"
   },
   "outputs": [
    {
     "name": "stdout",
     "output_type": "stream",
     "text": [
      "entity_recognizer_md download started this may take some time.\n",
      "Approx size to download 440 MB\n",
      "[OK!]\n"
     ]
    }
   ],
   "source": [
    "pipeline_entre_md = PretrainedPipeline('entity_recognizer_md', 'de')"
   ]
  },
  {
   "cell_type": "code",
   "execution_count": 12,
   "metadata": {
    "colab": {
     "base_uri": "https://localhost:8080/",
     "height": 136
    },
    "colab_type": "code",
    "executionInfo": {
     "elapsed": 472255,
     "status": "ok",
     "timestamp": 1589242437621,
     "user": {
      "displayName": "Christian Kasim Loan",
      "photoUrl": "",
      "userId": "14469489166467359317"
     },
     "user_tz": -120
    },
    "id": "wvWLZAsAGrX8",
    "outputId": "b5a7c5a3-4a55-4793-9479-0db37f40fd3e"
   },
   "outputs": [
    {
     "name": "stdout",
     "output_type": "stream",
     "text": [
      "+----------+----------+----------+----------+----------+----------+----------+\n",
      "|      text|  document|  sentence|     token|embeddings|       ner|  entities|\n",
      "+----------+----------+----------+----------+----------+----------+----------+\n",
      "|Die Anf...|[[docum...|[[docum...|[[token...|[[word_...|[[named...|[[chunk...|\n",
      "|Angela[...|[[docum...|[[docum...|[[token...|[[word_...|[[named...|[[chunk...|\n",
      "+----------+----------+----------+----------+----------+----------+----------+\n",
      "\n"
     ]
    }
   ],
   "source": [
    "pipeline_entre_md.transform(dfTest).show(2, truncate=10)"
   ]
  },
  {
   "cell_type": "code",
   "execution_count": 13,
   "metadata": {
    "colab": {
     "base_uri": "https://localhost:8080/",
     "height": 374
    },
    "colab_type": "code",
    "executionInfo": {
     "elapsed": 473801,
     "status": "ok",
     "timestamp": 1589242439197,
     "user": {
      "displayName": "Christian Kasim Loan",
      "photoUrl": "",
      "userId": "14469489166467359317"
     },
     "user_tz": -120
    },
    "id": "M3vlrh_vGrYC",
    "outputId": "6c459ccd-f922-4d67-868c-5b609523f5f9"
   },
   "outputs": [
    {
     "name": "stdout",
     "output_type": "stream",
     "text": [
      "+----------------------------------------------------------------------+\n",
      "|                                                                result|\n",
      "+----------------------------------------------------------------------+\n",
      "|[Die, Anfänge, der, EU, gehen, auf, die, 1950er-Jahre, zurück, ,, a...|\n",
      "|[Angela[1], Dorothea, Merkel, (*, 17, ., Juli, 1954, in, Hamburg, a...|\n",
      "+----------------------------------------------------------------------+\n",
      "\n",
      "+----------------------------------------------------------------------+\n",
      "|                                                                result|\n",
      "+----------------------------------------------------------------------+\n",
      "|[O, O, O, I-ORG, O, O, O, O, O, O, O, O, O, I-LOC, O, I-ORG, I-ORG,...|\n",
      "|[I-LOC, I-PER, I-PER, O, O, O, O, O, O, I-LOC, O, I-PER, I-PER, I-P...|\n",
      "+----------------------------------------------------------------------+\n",
      "\n",
      "+----------------------------------------------------------------------+\n",
      "|                                                                result|\n",
      "+----------------------------------------------------------------------+\n",
      "|               [EU, Staaten, Europäische Wirtschaftsgemeinschaft, EWG]|\n",
      "|[Angela[1] Dorothea Merkel, Hamburg, Angela Dorothea Kasner, deutsc...|\n",
      "+----------------------------------------------------------------------+\n",
      "\n"
     ]
    }
   ],
   "source": [
    "pipeline_entre_md.transform(dfTest).select(\"token.result\").show(2, truncate=70)\n",
    "pipeline_entre_md.transform(dfTest).select(\"ner.result\").show(2, truncate=70)\n",
    "pipeline_entre_md.transform(dfTest).select(\"entities.result\").show(2, truncate=70)"
   ]
  },
  {
   "cell_type": "markdown",
   "metadata": {
    "colab_type": "text",
    "id": "0QdmUQdSGrYI"
   },
   "source": [
    "#### entity_recognizer_lg (glove_840B_300)"
   ]
  },
  {
   "cell_type": "code",
   "execution_count": 14,
   "metadata": {
    "colab": {
     "base_uri": "https://localhost:8080/",
     "height": 68
    },
    "colab_type": "code",
    "executionInfo": {
     "elapsed": 698026,
     "status": "ok",
     "timestamp": 1589242663454,
     "user": {
      "displayName": "Christian Kasim Loan",
      "photoUrl": "",
      "userId": "14469489166467359317"
     },
     "user_tz": -120
    },
    "id": "kjBzcacjGrYJ",
    "outputId": "9c69d23a-55a5-46b8-8061-4d80b15d9514"
   },
   "outputs": [
    {
     "name": "stdout",
     "output_type": "stream",
     "text": [
      "entity_recognizer_lg download started this may take some time.\n",
      "Approx size to download 2.3 GB\n",
      "[OK!]\n"
     ]
    }
   ],
   "source": [
    "pipeline_entre_lg = PretrainedPipeline('entity_recognizer_lg', 'de')"
   ]
  },
  {
   "cell_type": "code",
   "execution_count": 15,
   "metadata": {
    "colab": {
     "base_uri": "https://localhost:8080/",
     "height": 156
    },
    "colab_type": "code",
    "executionInfo": {
     "elapsed": 699010,
     "status": "ok",
     "timestamp": 1589242664472,
     "user": {
      "displayName": "Christian Kasim Loan",
      "photoUrl": "",
      "userId": "14469489166467359317"
     },
     "user_tz": -120
    },
    "id": "n10-XfpQGrYN",
    "outputId": "b8acf7c8-09e0-4737-fc92-17817d113248"
   },
   "outputs": [
    {
     "name": "stdout",
     "output_type": "stream",
     "text": [
      "+----------+----------+----------+----------+----------+----------+----------+\n",
      "|      text|  document|  sentence|     token|embeddings|       ner|  entities|\n",
      "+----------+----------+----------+----------+----------+----------+----------+\n",
      "|Die Anf...|[[docum...|[[docum...|[[token...|[[word_...|[[named...|[[chunk...|\n",
      "|Angela[...|[[docum...|[[docum...|[[token...|[[word_...|[[named...|[[chunk...|\n",
      "+----------+----------+----------+----------+----------+----------+----------+\n",
      "\n"
     ]
    }
   ],
   "source": [
    "pipeline_entre_lg.transform(dfTest).show(2, truncate=10)"
   ]
  },
  {
   "cell_type": "code",
   "execution_count": 16,
   "metadata": {
    "colab": {
     "base_uri": "https://localhost:8080/",
     "height": 374
    },
    "colab_type": "code",
    "executionInfo": {
     "elapsed": 700001,
     "status": "ok",
     "timestamp": 1589242665492,
     "user": {
      "displayName": "Christian Kasim Loan",
      "photoUrl": "",
      "userId": "14469489166467359317"
     },
     "user_tz": -120
    },
    "id": "zZqLfnw9GrYV",
    "outputId": "daf69ead-3aab-41c1-c1ad-e8b277907e05"
   },
   "outputs": [
    {
     "name": "stdout",
     "output_type": "stream",
     "text": [
      "+----------------------------------------------------------------------+\n",
      "|                                                                result|\n",
      "+----------------------------------------------------------------------+\n",
      "|[Die, Anfänge, der, EU, gehen, auf, die, 1950er-Jahre, zurück, ,, a...|\n",
      "|[Angela[1], Dorothea, Merkel, (*, 17, ., Juli, 1954, in, Hamburg, a...|\n",
      "+----------------------------------------------------------------------+\n",
      "\n",
      "+----------------------------------------------------------------------+\n",
      "|                                                                result|\n",
      "+----------------------------------------------------------------------+\n",
      "|[O, O, O, I-ORG, O, O, O, O, O, O, O, O, O, I-LOC, O, I-ORG, I-ORG,...|\n",
      "|[O, I-PER, I-PER, O, O, O, O, O, O, I-LOC, O, I-PER, I-PER, I-PER, ...|\n",
      "+----------------------------------------------------------------------+\n",
      "\n",
      "+-----------------------------------------------------------------+\n",
      "|                                                           result|\n",
      "+-----------------------------------------------------------------+\n",
      "|          [EU, Staaten, Europäische Wirtschaftsgemeinschaft, EWG]|\n",
      "|[Dorothea Merkel, Hamburg, Angela Dorothea Kasner, deutsche, CDU]|\n",
      "+-----------------------------------------------------------------+\n",
      "\n"
     ]
    }
   ],
   "source": [
    "pipeline_entre_lg.transform(dfTest).select(\"token.result\").show(2, truncate=70)\n",
    "pipeline_entre_lg.transform(dfTest).select(\"ner.result\").show(2, truncate=70)\n",
    "pipeline_entre_lg.transform(dfTest).select(\"entities.result\").show(2, truncate=70)"
   ]
  },
  {
   "cell_type": "markdown",
   "metadata": {
    "colab_type": "text",
    "id": "XKPV6SQFGrYa"
   },
   "source": [
    "### Pretrained Models in German"
   ]
  },
  {
   "cell_type": "code",
   "execution_count": 17,
   "metadata": {
    "colab": {
     "base_uri": "https://localhost:8080/",
     "height": 221
    },
    "colab_type": "code",
    "executionInfo": {
     "elapsed": 774827,
     "status": "ok",
     "timestamp": 1589242740344,
     "user": {
      "displayName": "Christian Kasim Loan",
      "photoUrl": "",
      "userId": "14469489166467359317"
     },
     "user_tz": -120
    },
    "id": "IVfLuZ78GrYb",
    "outputId": "cd21492c-53b9-4978-d720-2918a05f5f61"
   },
   "outputs": [
    {
     "name": "stdout",
     "output_type": "stream",
     "text": [
      "lemma download started this may take some time.\n",
      "Approximate size to download 4 MB\n",
      "[OK!]\n",
      "pos_ud_hdt download started this may take some time.\n",
      "Approximate size to download 5 MB\n",
      "[OK!]\n",
      "glove_6B_300 download started this may take some time.\n",
      "Approximate size to download 426.2 MB\n",
      "[OK!]\n",
      "wikiner_6B_300 download started this may take some time.\n",
      "Approximate size to download 14.1 MB\n",
      "[OK!]\n"
     ]
    }
   ],
   "source": [
    "document = DocumentAssembler() \\\n",
    "    .setInputCol(\"text\")\\\n",
    "    .setOutputCol(\"document\")\n",
    "\n",
    "sentence = SentenceDetector()\\\n",
    "    .setInputCols(['document'])\\\n",
    "    .setOutputCol('sentence')\n",
    "\n",
    "token = Tokenizer()\\\n",
    "    .setInputCols(['sentence'])\\\n",
    "    .setOutputCol('token')\n",
    "\n",
    "lemma = LemmatizerModel.pretrained('lemma', 'de')\\\n",
    "    .setInputCols(['token'])\\\n",
    "    .setOutputCol('lemma')\n",
    "\n",
    "pos = PerceptronModel.pretrained('pos_ud_hdt', 'de') \\\n",
    "    .setInputCols(['sentence', 'token'])\\\n",
    "    .setOutputCol('pos')\n",
    "\n",
    "embeddings = WordEmbeddingsModel.pretrained('glove_6B_300', 'xx')\\\n",
    "    .setInputCols(['sentence', 'token'])\\\n",
    "    .setOutputCol('embeddings')\n",
    "\n",
    "ner_model = NerDLModel.pretrained('wikiner_6B_300', 'de')\\\n",
    "    .setInputCols(['sentence', 'token', 'embeddings'])\\\n",
    "    .setOutputCol('ner')\n",
    "\n",
    "\n",
    "prediction_pipeline = Pipeline(stages=[\n",
    "        document,\n",
    "        sentence,\n",
    "        token,\n",
    "        lemma,\n",
    "        pos,\n",
    "        embeddings,\n",
    "        ner_model\n",
    "])"
   ]
  },
  {
   "cell_type": "code",
   "execution_count": null,
   "metadata": {
    "colab": {},
    "colab_type": "code",
    "id": "Kmc2VBqhGrYf"
   },
   "outputs": [],
   "source": [
    "prediction = prediction_pipeline.fit(dfTest).transform(dfTest)"
   ]
  },
  {
   "cell_type": "code",
   "execution_count": 19,
   "metadata": {
    "colab": {
     "base_uri": "https://localhost:8080/",
     "height": 374
    },
    "colab_type": "code",
    "executionInfo": {
     "elapsed": 777446,
     "status": "ok",
     "timestamp": 1589242742987,
     "user": {
      "displayName": "Christian Kasim Loan",
      "photoUrl": "",
      "userId": "14469489166467359317"
     },
     "user_tz": -120
    },
    "id": "lH4RDQIEGrYi",
    "outputId": "f6f8e720-8301-4184-a0da-6bf4537806bc"
   },
   "outputs": [
    {
     "name": "stdout",
     "output_type": "stream",
     "text": [
      "+----------------------------------------------------------------------+\n",
      "|                                                                result|\n",
      "+----------------------------------------------------------------------+\n",
      "|[Die, Anfang, der, EU, gehen, auf, der, 1950er-Jahre, zurück, ,, al...|\n",
      "|[Angela[1], Dorothea, Merkel, (*, 17, ., Juli, 1954, in, Hamburg, a...|\n",
      "+----------------------------------------------------------------------+\n",
      "\n",
      "+----------------------------------------------------------------------+\n",
      "|                                                                result|\n",
      "+----------------------------------------------------------------------+\n",
      "|[DET, NOUN, DET, PROPN, VERB, ADP, DET, NOUN, ADP, PUNCT, ADP, ADV,...|\n",
      "|[PROPN, PROPN, PROPN, X, NUM, PUNCT, NOUN, NUM, ADP, PROPN, ADP, PR...|\n",
      "+----------------------------------------------------------------------+\n",
      "\n",
      "+----------------------------------------------------------------------+\n",
      "|                                                                result|\n",
      "+----------------------------------------------------------------------+\n",
      "|[O, O, O, I-ORG, O, O, O, O, O, O, O, O, O, I-LOC, O, I-ORG, I-ORG,...|\n",
      "|[I-LOC, I-PER, I-PER, O, O, O, O, O, O, I-LOC, O, I-PER, I-PER, I-P...|\n",
      "+----------------------------------------------------------------------+\n",
      "\n"
     ]
    }
   ],
   "source": [
    "\n",
    "prediction.select(\"lemma.result\").show(2, truncate=70)\n",
    "prediction.select(\"pos.result\").show(2, truncate=70)\n",
    "prediction.select(\"ner.result\").show(2, truncate=70)"
   ]
  },
  {
   "cell_type": "code",
   "execution_count": null,
   "metadata": {
    "colab": {},
    "colab_type": "code",
    "id": "MCovIRpoGrYm"
   },
   "outputs": [],
   "source": []
  }
 ],
 "metadata": {
  "colab": {
   "collapsed_sections": [],
   "name": "pretrained-german-models.ipynb",
   "provenance": [],
   "toc_visible": true
  },
  "kernelspec": {
   "display_name": "Python 3",
   "language": "python",
   "name": "python3"
  },
  "language_info": {
   "codemirror_mode": {
    "name": "ipython",
    "version": 3
   },
   "file_extension": ".py",
   "mimetype": "text/x-python",
   "name": "python",
   "nbconvert_exporter": "python",
   "pygments_lexer": "ipython3",
   "version": "3.6.9"
  }
 },
 "nbformat": 4,
 "nbformat_minor": 4
}
