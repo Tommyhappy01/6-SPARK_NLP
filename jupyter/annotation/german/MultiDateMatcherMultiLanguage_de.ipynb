{
 "cells": [
  {
   "cell_type": "code",
   "execution_count": 1,
   "id": "d1a9947b",
   "metadata": {},
   "outputs": [],
   "source": [
    "from pyspark import *\n",
    "import sparknlp"
   ]
  },
  {
   "cell_type": "code",
   "execution_count": 2,
   "id": "1d695f9d",
   "metadata": {},
   "outputs": [
    {
     "data": {
      "text/html": [
       "\n",
       "            <div>\n",
       "                <p><b>SparkSession - hive</b></p>\n",
       "                \n",
       "        <div>\n",
       "            <p><b>SparkContext</b></p>\n",
       "\n",
       "            <p><a href=\"http://desktop-gmcvtp0.home:4040\">Spark UI</a></p>\n",
       "\n",
       "            <dl>\n",
       "              <dt>Version</dt>\n",
       "                <dd><code>v3.0.2</code></dd>\n",
       "              <dt>Master</dt>\n",
       "                <dd><code>local[*]</code></dd>\n",
       "              <dt>AppName</dt>\n",
       "                <dd><code>PySparkShell</code></dd>\n",
       "            </dl>\n",
       "        </div>\n",
       "        \n",
       "            </div>\n",
       "        "
      ],
      "text/plain": [
       "<pyspark.sql.session.SparkSession at 0x7f39dc6ae750>"
      ]
     },
     "execution_count": 2,
     "metadata": {},
     "output_type": "execute_result"
    }
   ],
   "source": [
    "sparknlp.start()"
   ]
  },
  {
   "cell_type": "code",
   "execution_count": 3,
   "id": "6edb5c48",
   "metadata": {},
   "outputs": [],
   "source": [
    "from sparknlp.annotator import *\n",
    "from sparknlp.base import *"
   ]
  },
  {
   "cell_type": "code",
   "execution_count": 4,
   "id": "b072abfa",
   "metadata": {},
   "outputs": [
    {
     "data": {
      "text/plain": [
       "'3.2.0'"
      ]
     },
     "execution_count": 4,
     "metadata": {},
     "output_type": "execute_result"
    }
   ],
   "source": [
    "sparknlp.version()"
   ]
  },
  {
   "cell_type": "code",
   "execution_count": 5,
   "id": "84dc2c25",
   "metadata": {},
   "outputs": [],
   "source": [
    "from pyspark.sql.types import StringType"
   ]
  },
  {
   "cell_type": "markdown",
   "id": "10a075ae",
   "metadata": {},
   "source": [
    "## German formatted dates matching examples"
   ]
  },
  {
   "cell_type": "code",
   "execution_count": 6,
   "id": "3c6f02e6",
   "metadata": {},
   "outputs": [
    {
     "name": "stdout",
     "output_type": "stream",
     "text": [
      "+--------------------+\n",
      "|                text|\n",
      "+--------------------+\n",
      "|Wir trafen uns am...|\n",
      "+--------------------+\n",
      "\n"
     ]
    }
   ],
   "source": [
    "df = spark.createDataFrame(\n",
    "  [\"Wir trafen uns am 13/05/2018 und dann am 18/05/2020.\"],\n",
    "  StringType()).toDF(\"text\")\n",
    "df.show()"
   ]
  },
  {
   "cell_type": "code",
   "execution_count": 7,
   "id": "02a6ce5c",
   "metadata": {},
   "outputs": [
    {
     "name": "stdout",
     "output_type": "stream",
     "text": [
      "+--------------------------------------------------------------------------------------------------+\n",
      "|date                                                                                              |\n",
      "+--------------------------------------------------------------------------------------------------+\n",
      "|[[date, 18, 27, 05/13/2018, [sentence -> 0], []], [date, 41, 50, 05/18/2020, [sentence -> 0], []]]|\n",
      "+--------------------------------------------------------------------------------------------------+\n",
      "\n"
     ]
    }
   ],
   "source": [
    "document_assembler = DocumentAssembler() \\\n",
    "            .setInputCol(\"text\") \\\n",
    "            .setOutputCol(\"document\")\n",
    "\n",
    "date_matcher = MultiDateMatcher() \\\n",
    "            .setInputCols(['document']) \\\n",
    "            .setOutputCol(\"date\") \\\n",
    "            .setFormat(\"MM/dd/yyyy\") \\\n",
    "            .setSourceLanguage(\"de\")\n",
    "\n",
    "assembled = document_assembler.transform(df)\n",
    "date_matcher.transform(assembled).select(\"date\").show(10, False)"
   ]
  },
  {
   "cell_type": "markdown",
   "id": "5d3c8b51",
   "metadata": {},
   "source": [
    "## German unformatted dates matching examples"
   ]
  },
  {
   "cell_type": "code",
   "execution_count": 8,
   "id": "454e4569",
   "metadata": {},
   "outputs": [
    {
     "name": "stdout",
     "output_type": "stream",
     "text": [
      "+--------------------+\n",
      "|                text|\n",
      "+--------------------+\n",
      "|Wir haben uns vor...|\n",
      "+--------------------+\n",
      "\n"
     ]
    }
   ],
   "source": [
    "df = spark.createDataFrame(\n",
    "  [\"Wir haben uns vor 2 tagen kennengelernt und sie sagten mir, dass sie uns nächste woche besuchen würden.\"],\n",
    "  StringType()).toDF(\"text\")\n",
    "df.show()"
   ]
  },
  {
   "cell_type": "code",
   "execution_count": 9,
   "id": "0f7ad78b",
   "metadata": {},
   "outputs": [
    {
     "name": "stdout",
     "output_type": "stream",
     "text": [
      "+--------------------------------------------------------------------------------------------------+\n",
      "|date                                                                                              |\n",
      "+--------------------------------------------------------------------------------------------------+\n",
      "|[[date, 14, 23, 08/07/2021, [sentence -> 0], []], [date, 85, 93, 08/16/2021, [sentence -> 0], []]]|\n",
      "+--------------------------------------------------------------------------------------------------+\n",
      "\n"
     ]
    }
   ],
   "source": [
    "document_assembler = DocumentAssembler() \\\n",
    "            .setInputCol(\"text\") \\\n",
    "            .setOutputCol(\"document\")\n",
    "\n",
    "date_matcher = MultiDateMatcher() \\\n",
    "            .setInputCols(['document']) \\\n",
    "            .setOutputCol(\"date\") \\\n",
    "            .setFormat(\"MM/dd/yyyy\") \\\n",
    "            .setSourceLanguage(\"de\")\n",
    "\n",
    "assembled = document_assembler.transform(df)\n",
    "date_matcher.transform(assembled).select(\"date\").show(10, False)"
   ]
  },
  {
   "cell_type": "markdown",
   "id": "9bb16cf4",
   "metadata": {},
   "source": [
    "# A short guide to language support extension\n",
    "\n",
    "## In order to extend the date matchers language support for new languages, please follow the instructions below:\n",
    "\n",
    "1. Add the new dictionary into src/main/resources/date-matcher/translation-dictionaries/dynamic folder of the spark-nlp project\n",
    "2. Add the same dictionary base of the other languages\n",
    "   * Add tests for the dictionary\n",
    "3. Add other eventual specific expressions to the base\n",
    "   * Add tests for those specific expressions to avoid syntactic conflicts in parsing\n",
    "4. Add a notebook like this one to show how to use the language extension\n",
    "\n",
    "Thank you for contributing! :)"
   ]
  },
  {
   "cell_type": "code",
   "execution_count": null,
   "id": "8d604d5d",
   "metadata": {},
   "outputs": [],
   "source": []
  }
 ],
 "metadata": {
  "kernelspec": {
   "display_name": "Python 3",
   "language": "python",
   "name": "python3"
  },
  "language_info": {
   "codemirror_mode": {
    "name": "ipython",
    "version": 3
   },
   "file_extension": ".py",
   "mimetype": "text/x-python",
   "name": "python",
   "nbconvert_exporter": "python",
   "pygments_lexer": "ipython3",
   "version": "3.7.11"
  }
 },
 "nbformat": 4,
 "nbformat_minor": 5
}
