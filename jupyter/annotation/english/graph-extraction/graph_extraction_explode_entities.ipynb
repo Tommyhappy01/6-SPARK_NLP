{
 "cells": [
  {
   "cell_type": "code",
   "execution_count": null,
   "metadata": {
    "id": "UyjADbwO-kj7"
   },
   "outputs": [],
   "source": [
    "# Install pyspark\n",
    "! pip install --ignore-installed pyspark\n",
    "\n",
    "# Install Spark NLP\n",
    "! pip install --ignore-installed spark-nlp"
   ]
  },
  {
   "cell_type": "code",
   "execution_count": 4,
   "metadata": {
    "colab": {
     "base_uri": "https://localhost:8080/"
    },
    "id": "mxJniPtV_gqj",
    "outputId": "7b657a7f-2074-450b-968a-c88f2d97f5c5"
   },
   "outputs": [
    {
     "name": "stdout",
     "output_type": "stream",
     "text": [
      "Spark NLP version 3.1.2\n"
     ]
    }
   ],
   "source": [
    "import sparknlp\n",
    "from sparknlp.base import *\n",
    "from sparknlp.annotator import *\n",
    "from pyspark.sql import SparkSession\n",
    "\n",
    "print(\"Spark NLP version\", sparknlp.version())"
   ]
  },
  {
   "cell_type": "markdown",
   "metadata": {
    "id": "qceFcfEhr9r5"
   },
   "source": [
    "To use Merge Entities parameter we need to set allowSparkContext parameter to true"
   ]
  },
  {
   "cell_type": "code",
   "execution_count": 5,
   "metadata": {
    "colab": {
     "base_uri": "https://localhost:8080/",
     "height": 216
    },
    "id": "zzy3PziR_654",
    "outputId": "75eab5a2-6a01-48bc-86b6-3808be18d603"
   },
   "outputs": [
    {
     "data": {
      "text/html": [
       "\n",
       "            <div>\n",
       "                <p><b>SparkSession - in-memory</b></p>\n",
       "                \n",
       "        <div>\n",
       "            <p><b>SparkContext</b></p>\n",
       "\n",
       "            <p><a href=\"http://a503c7df6ae9:4040\">Spark UI</a></p>\n",
       "\n",
       "            <dl>\n",
       "              <dt>Version</dt>\n",
       "                <dd><code>v3.0.2</code></dd>\n",
       "              <dt>Master</dt>\n",
       "                <dd><code>local[*]</code></dd>\n",
       "              <dt>AppName</dt>\n",
       "                <dd><code>SparkNLP</code></dd>\n",
       "            </dl>\n",
       "        </div>\n",
       "        \n",
       "            </div>\n",
       "        "
      ],
      "text/plain": [
       "<pyspark.sql.session.SparkSession at 0x7f05e888ef10>"
      ]
     },
     "execution_count": 5,
     "metadata": {
      "tags": []
     },
     "output_type": "execute_result"
    }
   ],
   "source": [
    "spark = SparkSession.builder \\\n",
    "    .appName(\"SparkNLP\") \\\n",
    "    .master(\"local[*]\") \\\n",
    "    .config(\"spark.driver.memory\", \"12G\") \\\n",
    "    .config(\"spark.serializer\", \"org.apache.spark.serializer.KryoSerializer\") \\\n",
    "    .config(\"spark.kryoserializer.buffer.max\", \"2000M\") \\\n",
    "    .config(\"spark.driver.maxResultSize\", \"0\") \\\n",
    "    .config(\"spark.jars\", \"jars/sparknlp.jar\") \\\n",
    "    .config(\"spark.executor.allowSparkContext\", \"true\") \\\n",
    "    .getOrCreate()\n",
    "\n",
    "spark"
   ]
  },
  {
   "cell_type": "code",
   "execution_count": 6,
   "metadata": {
    "colab": {
     "base_uri": "https://localhost:8080/"
    },
    "id": "luNlbsk1AJqP",
    "outputId": "8c153330-e2e8-4faf-c016-9d0d4a9f64ce"
   },
   "outputs": [
    {
     "name": "stdout",
     "output_type": "stream",
     "text": [
      "+------------------------------------------------+\n",
      "|text                                            |\n",
      "+------------------------------------------------+\n",
      "|Peter Parker is a nice lad and lives in New York|\n",
      "+------------------------------------------------+\n",
      "\n"
     ]
    }
   ],
   "source": [
    "from pyspark.sql.types import StringType\n",
    "\n",
    "text = ['Peter Parker is a nice lad and lives in New York']\n",
    "data_set = spark.createDataFrame(text, StringType()).toDF(\"text\")\n",
    "data_set.show(truncate=False)"
   ]
  },
  {
   "cell_type": "markdown",
   "metadata": {
    "id": "HSvNig972xXC"
   },
   "source": [
    "# Graph Extraction"
   ]
  },
  {
   "cell_type": "markdown",
   "metadata": {
    "id": "QkW7uQ4_cqAQ"
   },
   "source": [
    "Graph Extraction will use pretrained POS, Dependency Parser and Typed Dependency Parser annotators when the pipeline does not have those defined"
   ]
  },
  {
   "cell_type": "code",
   "execution_count": 7,
   "metadata": {
    "colab": {
     "base_uri": "https://localhost:8080/"
    },
    "id": "VVFs6NDBlWsN",
    "outputId": "3ffc8639-5661-4d85-9bca-8fe43ebf6d18"
   },
   "outputs": [
    {
     "name": "stdout",
     "output_type": "stream",
     "text": [
      "glove_100d download started this may take some time.\n",
      "Approximate size to download 145.3 MB\n",
      "[OK!]\n",
      "ner_dl download started this may take some time.\n",
      "Approximate size to download 13.6 MB\n",
      "[OK!]\n"
     ]
    }
   ],
   "source": [
    "document_assembler = DocumentAssembler().setInputCol(\"text\").setOutputCol(\"document\")\n",
    "\n",
    "tokenizer = Tokenizer().setInputCols([\"document\"]).setOutputCol(\"token\")\n",
    "\n",
    "word_embeddings = WordEmbeddingsModel.pretrained() \\\n",
    "    .setInputCols([\"document\", \"token\"]) \\\n",
    "    .setOutputCol(\"embeddings\")\n",
    "\n",
    "ner_tagger = NerDLModel.pretrained() \\\n",
    "    .setInputCols([\"document\", \"token\", \"embeddings\"]) \\\n",
    "    .setOutputCol(\"ner\")"
   ]
  },
  {
   "cell_type": "markdown",
   "metadata": {
    "id": "mY1IKzQuuMO_"
   },
   "source": [
    "When setting ExplodeEntities to true, Graph Extraction will find paths between all possible pair of entities"
   ]
  },
  {
   "cell_type": "markdown",
   "metadata": {},
   "source": [
    "Since this sentence only has two entities, it will display the paths between PER and LOC. Each pair of entities will have a left path and a right path. By default the paths starts from the root of the dependency tree, which in this case is the token *lad*:\n",
    "* Left path: lad-PER, will output the path between lad and Peter Parker\n",
    "* Right path: lad-LOC, will output the path between lad and New York"
   ]
  },
  {
   "cell_type": "code",
   "execution_count": 8,
   "metadata": {
    "id": "XxqysCFDg1aP"
   },
   "outputs": [],
   "source": [
    "graph_extraction = GraphExtraction() \\\n",
    "            .setInputCols([\"document\", \"token\", \"ner\"]) \\\n",
    "            .setOutputCol(\"graph\") \\\n",
    "            .setMergeEntities(True) \\\n",
    "            .setExplodeEntities(True)"
   ]
  },
  {
   "cell_type": "code",
   "execution_count": 9,
   "metadata": {
    "id": "LRpKY22pAqlL"
   },
   "outputs": [],
   "source": [
    "           \n",
    "graph_pipeline = Pipeline().setStages([document_assembler, tokenizer,\n",
    "                                       word_embeddings, ner_tagger,\n",
    "                                       graph_extraction])"
   ]
  },
  {
   "cell_type": "markdown",
   "metadata": {
    "id": "lJV6x-Nqw442"
   },
   "source": [
    "The result dataset has a *graph* column with the paths between PER,LOC"
   ]
  },
  {
   "cell_type": "code",
   "execution_count": 10,
   "metadata": {
    "colab": {
     "base_uri": "https://localhost:8080/"
    },
    "id": "Kh78KBe-63Dn",
    "outputId": "7bdc8eb8-a9e3-44d8-96b7-b3580a6f38ae"
   },
   "outputs": [
    {
     "name": "stdout",
     "output_type": "stream",
     "text": [
      "+--------------------------------------------------------------------------------------------------------------------------------------------------+\n",
      "|graph                                                                                                                                             |\n",
      "+--------------------------------------------------------------------------------------------------------------------------------------------------+\n",
      "|[[node, 23, 25, lad, [entities -> PER,LOC, path -> lad,Peter Parker,lad,New York, left_path -> lad,Peter Parker, right_path -> lad,New York], []]]|\n",
      "+--------------------------------------------------------------------------------------------------------------------------------------------------+\n",
      "\n"
     ]
    }
   ],
   "source": [
    "graph_data_set = graph_pipeline.fit(data_set).transform(data_set)\n",
    "graph_data_set.select(\"graph\").show(truncate=False)"
   ]
  }
 ],
 "metadata": {
  "colab": {
   "collapsed_sections": [],
   "name": "Graph Extraction - Explode Entities.ipynb",
   "provenance": []
  },
  "kernelspec": {
   "display_name": "Python 3",
   "language": "python",
   "name": "python3"
  },
  "language_info": {
   "codemirror_mode": {
    "name": "ipython",
    "version": 3
   },
   "file_extension": ".py",
   "mimetype": "text/x-python",
   "name": "python",
   "nbconvert_exporter": "python",
   "pygments_lexer": "ipython3",
   "version": "3.8.10"
  }
 },
 "nbformat": 4,
 "nbformat_minor": 1
}
