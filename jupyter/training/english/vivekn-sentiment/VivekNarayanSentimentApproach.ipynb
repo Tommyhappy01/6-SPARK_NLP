{
 "cells": [
  {
   "cell_type": "markdown",
   "metadata": {
    "colab_type": "text",
    "id": "YI2vj-VJyzM-"
   },
   "source": [
    "![JohnSnowLabs](https://nlp.johnsnowlabs.com/assets/images/logo.png)\n",
    "\n",
    "[![Open In Colab](https://colab.research.google.com/assets/colab-badge.svg)](https://colab.research.google.com/github/JohnSnowLabs/spark-nlp-workshop/blob/master/jupyter/training/english/vivekn-sentiment/VivekNarayanSentimentApproach.ipynb)\n",
    "\n",
    "## 0. Colab Setup"
   ]
  },
  {
   "cell_type": "code",
   "execution_count": 4,
   "metadata": {
    "colab": {
     "base_uri": "https://localhost:8080/",
     "height": 136
    },
    "colab_type": "code",
    "executionInfo": {
     "elapsed": 66940,
     "status": "ok",
     "timestamp": 1589303303116,
     "user": {
      "displayName": "Christian Kasim Loan",
      "photoUrl": "",
      "userId": "14469489166467359317"
     },
     "user_tz": -120
    },
    "id": "wfXHpaBVy8PY",
    "outputId": "b302e8f9-9de6-4279-ebe3-fafa3a6c23a1"
   },
   "outputs": [
    {
     "name": "stdout",
     "output_type": "stream",
     "text": [
      "openjdk version \"1.8.0_252\"\n",
      "OpenJDK Runtime Environment (build 1.8.0_252-8u252-b09-1~18.04-b09)\n",
      "OpenJDK 64-Bit Server VM (build 25.252-b09, mixed mode)\n",
      "\u001b[K     |████████████████████████████████| 215.7MB 59kB/s \n",
      "\u001b[K     |████████████████████████████████| 204kB 44.8MB/s \n",
      "\u001b[?25h  Building wheel for pyspark (setup.py) ... \u001b[?25l\u001b[?25hdone\n",
      "\u001b[K     |████████████████████████████████| 112kB 4.8MB/s \n",
      "\u001b[?25h"
     ]
    }
   ],
   "source": [
    "import os\n",
    "\n",
    "# Install java\n",
    "! apt-get update -qq\n",
    "! apt-get install -y openjdk-8-jdk-headless -qq > /dev/null\n",
    "\n",
    "os.environ[\"JAVA_HOME\"] = \"/usr/lib/jvm/java-8-openjdk-amd64\"\n",
    "os.environ[\"PATH\"] = os.environ[\"JAVA_HOME\"] + \"/bin:\" + os.environ[\"PATH\"]\n",
    "! java -version\n",
    "\n",
    "# Install pyspark\n",
    "! pip install --ignore-installed pyspark==2.4.4\n",
    "\n",
    "# Install Spark NLP\n",
    "! pip install --ignore-installed spark-nlp"
   ]
  },
  {
   "cell_type": "markdown",
   "metadata": {
    "colab_type": "text",
    "id": "N3lJrZweyzNA"
   },
   "source": [
    "## Vivekn Sentiment Analysis\n",
    "\n",
    "In the following example, we walk-through Sentiment Analysis training and prediction using Spark NLP Annotators.\n",
    "\n",
    "The ViveknSentimentApproach annotator will compute [Vivek Narayanan algorithm](https://arxiv.org/pdf/1305.6143.pdf) with either a column in training dataset with rows labelled 'positive' or 'negative' or a folder full of positive text and a folder with negative text. Using n-grams and negation of sequences, this statistical model can achieve high accuracy if trained properly.\n",
    "\n",
    "Spark can be leveraged in training by utilizing ReadAs.Dataset setting. Spark will be used during prediction by default.\n",
    "\n",
    "We also include in this pipeline a spell checker which shall correct our sentences for better Sentiment Analysis accuracy."
   ]
  },
  {
   "cell_type": "markdown",
   "metadata": {
    "colab_type": "text",
    "id": "zWmdcLPGyzNB"
   },
   "source": [
    "#### 1. Call necessary imports and set the resource path to read local data files"
   ]
  },
  {
   "cell_type": "code",
   "execution_count": 0,
   "metadata": {
    "colab": {},
    "colab_type": "code",
    "id": "1KcgP4dWyzNC"
   },
   "outputs": [],
   "source": [
    "#Imports\n",
    "import time\n",
    "import sys\n",
    "import os\n",
    "\n",
    "from pyspark.ml import Pipeline, PipelineModel\n",
    "from pyspark.sql import SparkSession\n",
    "from pyspark.sql.functions import array_contains,when\n",
    "from pyspark.sql.functions import col\n",
    "\n",
    "import sparknlp\n",
    "from sparknlp.annotator import *\n",
    "from sparknlp.base import DocumentAssembler, Finisher"
   ]
  },
  {
   "cell_type": "markdown",
   "metadata": {
    "colab_type": "text",
    "id": "JvGfY8_jyzNI"
   },
   "source": [
    "#### 2. Load SparkSession if not already there"
   ]
  },
  {
   "cell_type": "code",
   "execution_count": 6,
   "metadata": {
    "colab": {
     "base_uri": "https://localhost:8080/",
     "height": 51
    },
    "colab_type": "code",
    "executionInfo": {
     "elapsed": 86028,
     "status": "ok",
     "timestamp": 1589303322225,
     "user": {
      "displayName": "Christian Kasim Loan",
      "photoUrl": "",
      "userId": "14469489166467359317"
     },
     "user_tz": -120
    },
    "id": "oycji8wiyzNJ",
    "outputId": "0d0ea1e1-840c-491b-ce0d-e10d13a7d0b2"
   },
   "outputs": [
    {
     "name": "stdout",
     "output_type": "stream",
     "text": [
      "Spark NLP version:  2.4.5\n",
      "Apache Spark version:  2.4.4\n"
     ]
    }
   ],
   "source": [
    "spark = sparknlp.start()\n",
    "\n",
    "print(\"Spark NLP version: \", sparknlp.version())\n",
    "print(\"Apache Spark version: \", spark.version)"
   ]
  },
  {
   "cell_type": "code",
   "execution_count": 7,
   "metadata": {
    "colab": {
     "base_uri": "https://localhost:8080/",
     "height": 408
    },
    "colab_type": "code",
    "executionInfo": {
     "elapsed": 91944,
     "status": "ok",
     "timestamp": 1589303328151,
     "user": {
      "displayName": "Christian Kasim Loan",
      "photoUrl": "",
      "userId": "14469489166467359317"
     },
     "user_tz": -120
    },
    "id": "T4gVI6pwyzNP",
    "outputId": "1019078e-6e58-4293-efb8-78915c621df5"
   },
   "outputs": [
    {
     "name": "stdout",
     "output_type": "stream",
     "text": [
      "--2020-05-12 17:08:42--  https://s3.amazonaws.com/auxdata.johnsnowlabs.com/public/resources/en/spell/words.txt\n",
      "Resolving s3.amazonaws.com (s3.amazonaws.com)... 52.216.138.197\n",
      "Connecting to s3.amazonaws.com (s3.amazonaws.com)|52.216.138.197|:443... connected.\n",
      "HTTP request sent, awaiting response... 304 Not Modified\n",
      "File ‘/tmp/words.txt’ not modified on server. Omitting download.\n",
      "\n",
      "--2020-05-12 17:08:44--  https://s3.amazonaws.com/auxdata.johnsnowlabs.com/public/resources/en/sentiment.parquet.zip\n",
      "Resolving s3.amazonaws.com (s3.amazonaws.com)... 52.216.138.197\n",
      "Connecting to s3.amazonaws.com (s3.amazonaws.com)|52.216.138.197|:443... connected.\n",
      "HTTP request sent, awaiting response... 304 Not Modified\n",
      "File ‘/tmp/sentiment.parquet.zip’ not modified on server. Omitting download.\n",
      "\n",
      "Archive:  /tmp/sentiment.parquet.zip\n",
      "   creating: /tmp/sentiment.parquet/\n",
      "  inflating: /tmp/sentiment.parquet/.part-00002-08092d15-dd8c-40f9-a1df-641a1a4b1698.snappy.parquet.crc  \n",
      "  inflating: /tmp/sentiment.parquet/part-00002-08092d15-dd8c-40f9-a1df-641a1a4b1698.snappy.parquet  \n",
      "  inflating: /tmp/sentiment.parquet/part-00003-08092d15-dd8c-40f9-a1df-641a1a4b1698.snappy.parquet  \n",
      "  inflating: /tmp/sentiment.parquet/.part-00000-08092d15-dd8c-40f9-a1df-641a1a4b1698.snappy.parquet.crc  \n",
      "  inflating: /tmp/sentiment.parquet/part-00001-08092d15-dd8c-40f9-a1df-641a1a4b1698.snappy.parquet  \n",
      " extracting: /tmp/sentiment.parquet/_SUCCESS  \n",
      "  inflating: /tmp/sentiment.parquet/.part-00003-08092d15-dd8c-40f9-a1df-641a1a4b1698.snappy.parquet.crc  \n",
      "  inflating: /tmp/sentiment.parquet/part-00000-08092d15-dd8c-40f9-a1df-641a1a4b1698.snappy.parquet  \n",
      "  inflating: /tmp/sentiment.parquet/.part-00001-08092d15-dd8c-40f9-a1df-641a1a4b1698.snappy.parquet.crc  \n"
     ]
    }
   ],
   "source": [
    "! wget -N https://s3.amazonaws.com/auxdata.johnsnowlabs.com/public/resources/en/spell/words.txt -P /tmp\n",
    "!rm -rf /tmp/sentiment.parquet\n",
    "! wget -N https://s3.amazonaws.com/auxdata.johnsnowlabs.com/public/resources/en/sentiment.parquet.zip -P /tmp\n",
    "! unzip /tmp/sentiment.parquet.zip -d /tmp/"
   ]
  },
  {
   "cell_type": "markdown",
   "metadata": {
    "colab_type": "text",
    "id": "6-8QQ6YMyzNZ"
   },
   "source": [
    " #### 3. Load a spark dataset and put it in memory"
   ]
  },
  {
   "cell_type": "code",
   "execution_count": 8,
   "metadata": {
    "colab": {
     "base_uri": "https://localhost:8080/",
     "height": 459
    },
    "colab_type": "code",
    "executionInfo": {
     "elapsed": 100384,
     "status": "ok",
     "timestamp": 1589303336604,
     "user": {
      "displayName": "Christian Kasim Loan",
      "photoUrl": "",
      "userId": "14469489166467359317"
     },
     "user_tz": -120
    },
    "id": "6iVXyeX5yzNa",
    "outputId": "49dc5721-3e45-4745-e6bf-a16a134de311"
   },
   "outputs": [
    {
     "name": "stdout",
     "output_type": "stream",
     "text": [
      "+------+---------+--------------------+---------------+\n",
      "|itemid|sentiment|                text|sentiment_label|\n",
      "+------+---------+--------------------+---------------+\n",
      "|     1|        0|                 ...|       negative|\n",
      "|     2|        0|                 ...|       negative|\n",
      "|     3|        1|              omg...|       positive|\n",
      "|     4|        0|          .. Omga...|       negative|\n",
      "|     5|        0|         i think ...|       negative|\n",
      "|     6|        0|         or i jus...|       negative|\n",
      "|     7|        1|       Juuuuuuuuu...|       positive|\n",
      "|     8|        0|       Sunny Agai...|       negative|\n",
      "|     9|        1|      handed in m...|       positive|\n",
      "|    10|        1|      hmmmm.... i...|       positive|\n",
      "|    11|        0|      I must thin...|       negative|\n",
      "|    12|        1|      thanks to a...|       positive|\n",
      "|    13|        0|      this weeken...|       negative|\n",
      "|    14|        0|     jb isnt show...|       negative|\n",
      "|    15|        0|     ok thats it ...|       negative|\n",
      "|    16|        0|    &lt;-------- ...|       negative|\n",
      "|    17|        0|    awhhe man.......|       negative|\n",
      "|    18|        1|    Feeling stran...|       positive|\n",
      "|    19|        0|    HUGE roll of ...|       negative|\n",
      "|    20|        0|    I just cut my...|       negative|\n",
      "+------+---------+--------------------+---------------+\n",
      "only showing top 20 rows\n",
      "\n"
     ]
    }
   ],
   "source": [
    "#Load the input data to be annotated\n",
    "#We change 0 and 1 with negative and positive\n",
    "data = spark. \\\n",
    "        read. \\\n",
    "        parquet(\"/tmp/sentiment.parquet\"). \\\n",
    "        withColumn(\"sentiment_label\", when(col(\"sentiment\") == 0, \"negative\").otherwise(\"positive\")). \\\n",
    "        limit(1000).cache()\n",
    "data.show()"
   ]
  },
  {
   "cell_type": "markdown",
   "metadata": {
    "colab_type": "text",
    "id": "RTiRUnXHyzNi"
   },
   "source": [
    "#### 4. Create the document assembler, which will put target text column into Annotation form"
   ]
  },
  {
   "cell_type": "code",
   "execution_count": 0,
   "metadata": {
    "colab": {},
    "colab_type": "code",
    "id": "I7kDWrFZyzNj"
   },
   "outputs": [],
   "source": [
    "### Define the dataframe\n",
    "document_assembler = DocumentAssembler() \\\n",
    "            .setInputCol(\"text\")\\\n",
    "            .setOutputCol(\"document\")"
   ]
  },
  {
   "cell_type": "code",
   "execution_count": 10,
   "metadata": {
    "colab": {
     "base_uri": "https://localhost:8080/",
     "height": 204
    },
    "colab_type": "code",
    "executionInfo": {
     "elapsed": 100885,
     "status": "ok",
     "timestamp": 1589303337130,
     "user": {
      "displayName": "Christian Kasim Loan",
      "photoUrl": "",
      "userId": "14469489166467359317"
     },
     "user_tz": -120
    },
    "id": "6Vi5ImpwyzNq",
    "outputId": "90906cc2-2c70-4f9c-e6e6-60610f82fb2c"
   },
   "outputs": [
    {
     "name": "stdout",
     "output_type": "stream",
     "text": [
      "+------+---------+--------------------+---------------+--------------------+\n",
      "|itemid|sentiment|                text|sentiment_label|            document|\n",
      "+------+---------+--------------------+---------------+--------------------+\n",
      "|     1|        0|                 ...|       negative|[[document, 0, 60...|\n",
      "|     2|        0|                 ...|       negative|[[document, 0, 50...|\n",
      "|     3|        1|              omg...|       positive|[[document, 0, 36...|\n",
      "|     4|        0|          .. Omga...|       negative|[[document, 0, 13...|\n",
      "|     5|        0|         i think ...|       negative|[[document, 0, 52...|\n",
      "+------+---------+--------------------+---------------+--------------------+\n",
      "only showing top 5 rows\n",
      "\n"
     ]
    }
   ],
   "source": [
    "### Example: Checkout the output of document assembler\n",
    "assembled = document_assembler.transform(data)\n",
    "assembled.show(5)"
   ]
  },
  {
   "cell_type": "markdown",
   "metadata": {
    "colab_type": "text",
    "id": "DqFWhtGZyzN0"
   },
   "source": [
    "#### 5. Create Sentence detector to parse sub sentences in every document"
   ]
  },
  {
   "cell_type": "code",
   "execution_count": 0,
   "metadata": {
    "colab": {},
    "colab_type": "code",
    "id": "HK4qRt2tyzN1"
   },
   "outputs": [],
   "source": [
    "### Sentence detector\n",
    "sentence_detector = SentenceDetector() \\\n",
    "    .setInputCols([\"document\"]) \\\n",
    "    .setOutputCol(\"sentence\")"
   ]
  },
  {
   "cell_type": "code",
   "execution_count": 12,
   "metadata": {
    "colab": {
     "base_uri": "https://localhost:8080/",
     "height": 204
    },
    "colab_type": "code",
    "executionInfo": {
     "elapsed": 101455,
     "status": "ok",
     "timestamp": 1589303337715,
     "user": {
      "displayName": "Christian Kasim Loan",
      "photoUrl": "",
      "userId": "14469489166467359317"
     },
     "user_tz": -120
    },
    "id": "7pkcAyQnyzN8",
    "outputId": "7db76fad-0a65-46ba-b773-68fa4f6400fe"
   },
   "outputs": [
    {
     "name": "stdout",
     "output_type": "stream",
     "text": [
      "+------+---------+--------------------+---------------+--------------------+--------------------+\n",
      "|itemid|sentiment|                text|sentiment_label|            document|            sentence|\n",
      "+------+---------+--------------------+---------------+--------------------+--------------------+\n",
      "|     1|        0|                 ...|       negative|[[document, 0, 60...|[[document, 21, 4...|\n",
      "|     2|        0|                 ...|       negative|[[document, 0, 50...|[[document, 19, 4...|\n",
      "|     3|        1|              omg...|       positive|[[document, 0, 36...|[[document, 14, 3...|\n",
      "|     4|        0|          .. Omga...|       negative|[[document, 0, 13...|[[document, 10, 1...|\n",
      "|     5|        0|         i think ...|       negative|[[document, 0, 52...|[[document, 9, 42...|\n",
      "+------+---------+--------------------+---------------+--------------------+--------------------+\n",
      "only showing top 5 rows\n",
      "\n"
     ]
    }
   ],
   "source": [
    "### Example: Checkout the output of sentence detector\n",
    "sentence_data = sentence_detector.transform(assembled)\n",
    "sentence_data.show(5)"
   ]
  },
  {
   "cell_type": "markdown",
   "metadata": {
    "colab_type": "text",
    "id": "JaVLnDbxyzOA"
   },
   "source": [
    "#### 6. The tokenizer will match standard tokens"
   ]
  },
  {
   "cell_type": "code",
   "execution_count": 0,
   "metadata": {
    "colab": {},
    "colab_type": "code",
    "id": "vwBEG3y6yzOB"
   },
   "outputs": [],
   "source": [
    "### Tokenizer\n",
    "tokenizer = Tokenizer() \\\n",
    "            .setInputCols([\"sentence\"]) \\\n",
    "            .setOutputCol(\"token\")\n"
   ]
  },
  {
   "cell_type": "code",
   "execution_count": 14,
   "metadata": {
    "colab": {
     "base_uri": "https://localhost:8080/",
     "height": 204
    },
    "colab_type": "code",
    "executionInfo": {
     "elapsed": 102309,
     "status": "ok",
     "timestamp": 1589303338585,
     "user": {
      "displayName": "Christian Kasim Loan",
      "photoUrl": "",
      "userId": "14469489166467359317"
     },
     "user_tz": -120
    },
    "id": "40PP804uyzOE",
    "outputId": "3a8da29e-a0a4-4721-c38f-0df991656c32"
   },
   "outputs": [
    {
     "name": "stdout",
     "output_type": "stream",
     "text": [
      "+------+---------+--------------------+---------------+--------------------+--------------------+--------------------+\n",
      "|itemid|sentiment|                text|sentiment_label|            document|            sentence|               token|\n",
      "+------+---------+--------------------+---------------+--------------------+--------------------+--------------------+\n",
      "|     1|        0|                 ...|       negative|[[document, 0, 60...|[[document, 21, 4...|[[token, 21, 22, ...|\n",
      "|     2|        0|                 ...|       negative|[[document, 0, 50...|[[document, 19, 4...|[[token, 19, 19, ...|\n",
      "|     3|        1|              omg...|       positive|[[document, 0, 36...|[[document, 14, 3...|[[token, 14, 16, ...|\n",
      "|     4|        0|          .. Omga...|       negative|[[document, 0, 13...|[[document, 10, 1...|[[token, 10, 10, ...|\n",
      "|     5|        0|         i think ...|       negative|[[document, 0, 52...|[[document, 9, 42...|[[token, 9, 9, i,...|\n",
      "+------+---------+--------------------+---------------+--------------------+--------------------+--------------------+\n",
      "only showing top 5 rows\n",
      "\n"
     ]
    }
   ],
   "source": [
    "### Example: Checkout the outout of tokenizer\n",
    "tokenized = tokenizer.fit(sentence_data).transform(sentence_data)\n",
    "tokenized.show(5)"
   ]
  },
  {
   "cell_type": "markdown",
   "metadata": {
    "colab_type": "text",
    "id": "3LhoPH8fyzOJ"
   },
   "source": [
    "#### 7. Normalizer will clean out the tokens"
   ]
  },
  {
   "cell_type": "code",
   "execution_count": 0,
   "metadata": {
    "colab": {},
    "colab_type": "code",
    "id": "cDOtkZF7yzOK"
   },
   "outputs": [],
   "source": [
    "normalizer = Normalizer() \\\n",
    "            .setInputCols([\"token\"]) \\\n",
    "            .setOutputCol(\"normal\")"
   ]
  },
  {
   "cell_type": "markdown",
   "metadata": {
    "colab_type": "text",
    "id": "CvMB0iMGyzOP"
   },
   "source": [
    "#### 8. The spell checker will correct normalized tokens, this trains with a dictionary of english words"
   ]
  },
  {
   "cell_type": "code",
   "execution_count": 0,
   "metadata": {
    "colab": {},
    "colab_type": "code",
    "id": "_EziC6v0yzOP"
   },
   "outputs": [],
   "source": [
    "### Spell Checker\n",
    "spell_checker = NorvigSweetingApproach() \\\n",
    "            .setInputCols([\"normal\"]) \\\n",
    "            .setOutputCol(\"spell\") \\\n",
    "            .setDictionary(\"/tmp/words.txt\")"
   ]
  },
  {
   "cell_type": "markdown",
   "metadata": {
    "colab_type": "text",
    "id": "f0zDsQloyzOT"
   },
   "source": [
    "#### 9. Create the ViveknSentimentApproach and set resources to train it"
   ]
  },
  {
   "cell_type": "code",
   "execution_count": 0,
   "metadata": {
    "colab": {},
    "colab_type": "code",
    "id": "jgGbnXcryzOU"
   },
   "outputs": [],
   "source": [
    "sentiment_detector = ViveknSentimentApproach() \\\n",
    "    .setInputCols([\"spell\", \"sentence\"]) \\\n",
    "    .setOutputCol(\"sentiment\") \\\n",
    "    .setSentimentCol(\"sentiment_label\") \\\n",
    "    .setPruneCorpus(0) \\"
   ]
  },
  {
   "cell_type": "markdown",
   "metadata": {
    "colab_type": "text",
    "id": "8A1uXXmxyzOd"
   },
   "source": [
    "#### 10. The finisher will utilize sentiment analysis output"
   ]
  },
  {
   "cell_type": "code",
   "execution_count": 0,
   "metadata": {
    "colab": {},
    "colab_type": "code",
    "id": "EcJeVOzVyzOe"
   },
   "outputs": [],
   "source": [
    "finisher = Finisher() \\\n",
    "    .setInputCols([\"sentiment\"]) \\\n",
    "    .setIncludeMetadata(False)\n"
   ]
  },
  {
   "cell_type": "markdown",
   "metadata": {
    "colab_type": "text",
    "id": "ccQhdcDXyzOk"
   },
   "source": [
    "##### 11. Fit and predict over data"
   ]
  },
  {
   "cell_type": "code",
   "execution_count": 19,
   "metadata": {
    "colab": {
     "base_uri": "https://localhost:8080/",
     "height": 34
    },
    "colab_type": "code",
    "executionInfo": {
     "elapsed": 115707,
     "status": "ok",
     "timestamp": 1589303352022,
     "user": {
      "displayName": "Christian Kasim Loan",
      "photoUrl": "",
      "userId": "14469489166467359317"
     },
     "user_tz": -120
    },
    "id": "btpI76ViyzOl",
    "outputId": "49841b10-d723-4510-8723-f0bbee8141bf"
   },
   "outputs": [
    {
     "name": "stdout",
     "output_type": "stream",
     "text": [
      "Time elapsed pipeline process: 13.280689477920532\n"
     ]
    }
   ],
   "source": [
    "pipeline = Pipeline(stages=[\n",
    "    document_assembler,\n",
    "    sentence_detector,\n",
    "    tokenizer,\n",
    "    normalizer,\n",
    "    spell_checker,\n",
    "    sentiment_detector,\n",
    "    finisher\n",
    "])\n",
    "\n",
    "start = time.time()\n",
    "sentiment_data = pipeline.fit(data).transform(data)\n",
    "\n",
    "end = time.time()\n",
    "print(\"Time elapsed pipeline process: \" + str(end - start))"
   ]
  },
  {
   "cell_type": "markdown",
   "metadata": {
    "colab_type": "text",
    "id": "NcYkKyN-yzOq"
   },
   "source": [
    "##### 13. Check the result"
   ]
  },
  {
   "cell_type": "code",
   "execution_count": 20,
   "metadata": {
    "colab": {
     "base_uri": "https://localhost:8080/",
     "height": 204
    },
    "colab_type": "code",
    "executionInfo": {
     "elapsed": 116551,
     "status": "ok",
     "timestamp": 1589303352874,
     "user": {
      "displayName": "Christian Kasim Loan",
      "photoUrl": "",
      "userId": "14469489166467359317"
     },
     "user_tz": -120
    },
    "id": "wdOIFzD7yzOr",
    "outputId": "dc0d9cf2-c5de-45de-8409-84fadbb38509"
   },
   "outputs": [
    {
     "name": "stdout",
     "output_type": "stream",
     "text": [
      "+------+------------------------------------------------------------------------------------------------------------------------------------+---------------+----------------------------------------+\n",
      "|itemid|text                                                                                                                                |sentiment_label|finished_sentiment                      |\n",
      "+------+------------------------------------------------------------------------------------------------------------------------------------+---------------+----------------------------------------+\n",
      "|1     |                     is so sad for my APL friend.............                                                                       |negative       |[negative]                              |\n",
      "|2     |                   I missed the New Moon trailer...                                                                                 |negative       |[negative]                              |\n",
      "|3     |              omg its already 7:30 :O                                                                                               |positive       |[positive]                              |\n",
      "|4     |          .. Omgaga. Im sooo  im gunna CRy. I've been at this dentist since 11.. I was suposed 2 just get a crown put on (30mins)...|negative       |[negative, negative, negative, negative]|\n",
      "|5     |         i think mi bf is cheating on me!!!       T_T                                                                               |negative       |[negative, na]                          |\n",
      "+------+------------------------------------------------------------------------------------------------------------------------------------+---------------+----------------------------------------+\n",
      "only showing top 5 rows\n",
      "\n"
     ]
    }
   ],
   "source": [
    "sentiment_data.show(5,False)"
   ]
  },
  {
   "cell_type": "code",
   "execution_count": 21,
   "metadata": {
    "colab": {
     "base_uri": "https://localhost:8080/",
     "height": 34
    },
    "colab_type": "code",
    "executionInfo": {
     "elapsed": 116546,
     "status": "ok",
     "timestamp": 1589303352876,
     "user": {
      "displayName": "Christian Kasim Loan",
      "photoUrl": "",
      "userId": "14469489166467359317"
     },
     "user_tz": -120
    },
    "id": "wPvfyTPdyzOw",
    "outputId": "6b99b5ee-4fa8-40fc-cb75-6ff4fc5ed21b"
   },
   "outputs": [
    {
     "data": {
      "text/plain": [
       "pyspark.sql.dataframe.DataFrame"
      ]
     },
     "execution_count": 21,
     "metadata": {
      "tags": []
     },
     "output_type": "execute_result"
    }
   ],
   "source": [
    "type(sentiment_data)\n"
   ]
  },
  {
   "cell_type": "code",
   "execution_count": 22,
   "metadata": {
    "colab": {
     "base_uri": "https://localhost:8080/",
     "height": 102
    },
    "colab_type": "code",
    "executionInfo": {
     "elapsed": 118893,
     "status": "ok",
     "timestamp": 1589303355230,
     "user": {
      "displayName": "Christian Kasim Loan",
      "photoUrl": "",
      "userId": "14469489166467359317"
     },
     "user_tz": -120
    },
    "id": "h0vCTEo5yzO2",
    "outputId": "23783ff7-387d-442f-f5bc-70c307ea28b6"
   },
   "outputs": [
    {
     "name": "stdout",
     "output_type": "stream",
     "text": [
      "is so sad for my APL friend............. -> ['negative']\n",
      "I missed the New Moon trailer... -> ['negative']\n",
      ".. Omgaga. Im sooo  im gunna CRy. I've been at this dentist since 11.. I was suposed 2 just get a crown put on (30mins)... -> ['negative', 'negative', 'negative', 'negative']\n",
      "i think mi bf is cheating on me!!!       T_T -> ['negative', 'na']\n",
      "or i just worry too much? -> ['negative']\n"
     ]
    }
   ],
   "source": [
    "# Negative Sentiments\n",
    "for r in sentiment_data.where(array_contains(sentiment_data.finished_sentiment, \"negative\")).take(5):\n",
    "    print(r['text'].strip(),\"->\",r['finished_sentiment'])"
   ]
  },
  {
   "cell_type": "code",
   "execution_count": 23,
   "metadata": {
    "colab": {
     "base_uri": "https://localhost:8080/",
     "height": 102
    },
    "colab_type": "code",
    "executionInfo": {
     "elapsed": 120082,
     "status": "ok",
     "timestamp": 1589303356426,
     "user": {
      "displayName": "Christian Kasim Loan",
      "photoUrl": "",
      "userId": "14469489166467359317"
     },
     "user_tz": -120
    },
    "id": "MM47a2PHyzPC",
    "outputId": "b6587222-1f1a-4ff9-cf60-fd659fc81eaa"
   },
   "outputs": [
    {
     "name": "stdout",
     "output_type": "stream",
     "text": [
      "omg its already 7:30 :O -> ['positive']\n",
      "Juuuuuuuuuuuuuuuuussssst Chillin!! -> ['positive']\n",
      "handed in my uniform today . i miss you already -> ['positive', 'negative']\n",
      "hmmmm.... i wonder how she my number @-) -> ['na', 'positive']\n",
      "thanks to all the haters up in my face all day! 112-102 -> ['positive']\n"
     ]
    }
   ],
   "source": [
    "# Positive Sentiments\n",
    "for r in sentiment_data.where(array_contains(sentiment_data.finished_sentiment, \"positive\")).take(5):\n",
    "    print(r['text'].strip(),\"->\",r['finished_sentiment'])"
   ]
  },
  {
   "cell_type": "code",
   "execution_count": 0,
   "metadata": {
    "colab": {},
    "colab_type": "code",
    "id": "9QagrcsKyzPK"
   },
   "outputs": [],
   "source": []
  }
 ],
 "metadata": {
  "anaconda-cloud": {},
  "colab": {
   "name": "VivekNarayanSentimentApproach.ipynb",
   "provenance": []
  },
  "kernelspec": {
   "display_name": "Python 3",
   "language": "python",
   "name": "python3"
  },
  "language_info": {
   "codemirror_mode": {
    "name": "ipython",
    "version": 3
   },
   "file_extension": ".py",
   "mimetype": "text/x-python",
   "name": "python",
   "nbconvert_exporter": "python",
   "pygments_lexer": "ipython3",
   "version": "3.6.9"
  }
 },
 "nbformat": 4,
 "nbformat_minor": 1
}
